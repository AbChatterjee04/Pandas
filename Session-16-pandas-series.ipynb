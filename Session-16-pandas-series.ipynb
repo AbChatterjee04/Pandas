{
 "cells": [
  {
   "cell_type": "markdown",
   "id": "3e31fa14",
   "metadata": {},
   "source": [
    "# What is Pandas\n",
    "\n",
    "Pandas is a fast, powerful, flexible and easy to use open source data analysis and manipulation tool,\n",
    "built on top of the Python programming language.\n",
    "\n",
    "https://pandas.pydata.org/about/index.html"
   ]
  },
  {
   "cell_type": "markdown",
   "id": "92b7dd28",
   "metadata": {},
   "source": [
    "# Pandas Series\n",
    "\n",
    "A Pandas Series is like a column in a table. It is a 1-D array holding data of any type."
   ]
  },
  {
   "cell_type": "markdown",
   "id": "48bdd8bc",
   "metadata": {},
   "source": [
    "# Importing Pandas"
   ]
  },
  {
   "cell_type": "code",
   "execution_count": 1,
   "id": "8dd2ddc4",
   "metadata": {},
   "outputs": [],
   "source": [
    "import numpy as np\n",
    "import pandas as pd"
   ]
  },
  {
   "cell_type": "markdown",
   "id": "c817324f",
   "metadata": {},
   "source": [
    "# Series from lists"
   ]
  },
  {
   "cell_type": "code",
   "execution_count": 2,
   "id": "aa95fac0",
   "metadata": {},
   "outputs": [
    {
     "data": {
      "text/plain": [
       "0       India\n",
       "1    Pakistan\n",
       "2         USA\n",
       "3       Nepal\n",
       "4    Srilanka\n",
       "dtype: object"
      ]
     },
     "execution_count": 2,
     "metadata": {},
     "output_type": "execute_result"
    }
   ],
   "source": [
    "# string\n",
    "country = ['India','Pakistan','USA','Nepal','Srilanka']\n",
    "\n",
    "pd.Series(country)"
   ]
  },
  {
   "cell_type": "code",
   "execution_count": 56,
   "id": "0924fa50",
   "metadata": {},
   "outputs": [
    {
     "data": {
      "text/plain": [
       "0     13\n",
       "1     24\n",
       "2     56\n",
       "3     78\n",
       "4    100\n",
       "dtype: int64"
      ]
     },
     "execution_count": 56,
     "metadata": {},
     "output_type": "execute_result"
    }
   ],
   "source": [
    "# integers\n",
    "runs = [13,24,56,78,100]\n",
    "\n",
    "runs_series = pd.Series(runs)\n",
    "runs_series"
   ]
  },
  {
   "cell_type": "code",
   "execution_count": 46,
   "id": "7c74ddbf",
   "metadata": {},
   "outputs": [
    {
     "data": {
      "text/plain": [
       "maths       67\n",
       "english     57\n",
       "science     89\n",
       "bengali    100\n",
       "dtype: int64"
      ]
     },
     "execution_count": 46,
     "metadata": {},
     "output_type": "execute_result"
    }
   ],
   "source": [
    "# custom index\n",
    "marks = [67,57,89,100]\n",
    "subjects = ['maths', 'english', 'science', 'bengali']\n",
    "\n",
    "pd.Series(marks, index = subjects)"
   ]
  },
  {
   "cell_type": "code",
   "execution_count": 47,
   "id": "d8b99f78",
   "metadata": {},
   "outputs": [
    {
     "data": {
      "text/plain": [
       "maths       67\n",
       "english     57\n",
       "science     89\n",
       "bengali    100\n",
       "Name: Abhi ke marks, dtype: int64"
      ]
     },
     "execution_count": 47,
     "metadata": {},
     "output_type": "execute_result"
    }
   ],
   "source": [
    "# setting a name\n",
    "marks = pd.Series(marks, index = subjects, name = 'Abhi ke marks')\n",
    "marks"
   ]
  },
  {
   "cell_type": "markdown",
   "id": "5633cdf6",
   "metadata": {},
   "source": [
    "# Series from dict"
   ]
  },
  {
   "cell_type": "code",
   "execution_count": 44,
   "id": "f71e7cf4",
   "metadata": {},
   "outputs": [
    {
     "data": {
      "text/plain": [
       "maths       67\n",
       "english     57\n",
       "science     89\n",
       "bengali    100\n",
       "Name: Abhi ke marks, dtype: int64"
      ]
     },
     "execution_count": 44,
     "metadata": {},
     "output_type": "execute_result"
    }
   ],
   "source": [
    "marks = {\n",
    "    'maths' : 67,\n",
    "    'english' : 57,\n",
    "    'science' : 89,\n",
    "    'bengali' : 100\n",
    "}\n",
    "\n",
    "marks_series = pd.Series(marks, name = 'Abhi ke marks')\n",
    "marks_series"
   ]
  },
  {
   "cell_type": "markdown",
   "id": "b0c6371b",
   "metadata": {},
   "source": [
    "# Series Attributes"
   ]
  },
  {
   "cell_type": "code",
   "execution_count": 45,
   "id": "abb859ab",
   "metadata": {},
   "outputs": [
    {
     "data": {
      "text/plain": [
       "maths       67\n",
       "english     57\n",
       "science     89\n",
       "bengali    100\n",
       "Name: Abhi ke marks, dtype: int64"
      ]
     },
     "execution_count": 45,
     "metadata": {},
     "output_type": "execute_result"
    }
   ],
   "source": [
    "marks_series"
   ]
  },
  {
   "cell_type": "code",
   "execution_count": 17,
   "id": "53777f01",
   "metadata": {},
   "outputs": [
    {
     "data": {
      "text/plain": [
       "4"
      ]
     },
     "execution_count": 17,
     "metadata": {},
     "output_type": "execute_result"
    }
   ],
   "source": [
    "# size -> shows no of items inside series\n",
    "marks_series.size"
   ]
  },
  {
   "cell_type": "code",
   "execution_count": 18,
   "id": "40810929",
   "metadata": {},
   "outputs": [
    {
     "data": {
      "text/plain": [
       "dtype('int64')"
      ]
     },
     "execution_count": 18,
     "metadata": {},
     "output_type": "execute_result"
    }
   ],
   "source": [
    "# dtype -> gives data type of series item\n",
    "marks_series.dtype"
   ]
  },
  {
   "cell_type": "code",
   "execution_count": 19,
   "id": "1046c5e8",
   "metadata": {},
   "outputs": [
    {
     "data": {
      "text/plain": [
       "'Abhi ke marks'"
      ]
     },
     "execution_count": 19,
     "metadata": {},
     "output_type": "execute_result"
    }
   ],
   "source": [
    "# name -> shows series object name\n",
    "marks_series.name"
   ]
  },
  {
   "cell_type": "code",
   "execution_count": 20,
   "id": "56d7e729",
   "metadata": {},
   "outputs": [
    {
     "data": {
      "text/plain": [
       "True"
      ]
     },
     "execution_count": 20,
     "metadata": {},
     "output_type": "execute_result"
    }
   ],
   "source": [
    "# is_unique -> shows series items are unique or not\n",
    "marks_series.is_unique   # since no repeat avlue"
   ]
  },
  {
   "cell_type": "code",
   "execution_count": 21,
   "id": "51c1c959",
   "metadata": {},
   "outputs": [
    {
     "data": {
      "text/plain": [
       "False"
      ]
     },
     "execution_count": 21,
     "metadata": {},
     "output_type": "execute_result"
    }
   ],
   "source": [
    "pd.Series([1,1,2,3,4,5]).is_unique     # since value repeating i.e 1"
   ]
  },
  {
   "cell_type": "code",
   "execution_count": 22,
   "id": "5052c0b3",
   "metadata": {},
   "outputs": [
    {
     "data": {
      "text/plain": [
       "Index(['maths', 'english', 'science', 'bengali'], dtype='object')"
      ]
     },
     "execution_count": 22,
     "metadata": {},
     "output_type": "execute_result"
    }
   ],
   "source": [
    "# index -> give all index object one at a time\n",
    "marks_series.index"
   ]
  },
  {
   "cell_type": "code",
   "execution_count": 25,
   "id": "8cef04de",
   "metadata": {},
   "outputs": [
    {
     "data": {
      "text/plain": [
       "RangeIndex(start=0, stop=5, step=1)"
      ]
     },
     "execution_count": 25,
     "metadata": {},
     "output_type": "execute_result"
    }
   ],
   "source": [
    "runs_series.index   # since we have default index here it shows range index object 0-5"
   ]
  },
  {
   "cell_type": "code",
   "execution_count": 26,
   "id": "a2e05945",
   "metadata": {},
   "outputs": [
    {
     "data": {
      "text/plain": [
       "pandas.core.indexes.range.RangeIndex"
      ]
     },
     "execution_count": 26,
     "metadata": {},
     "output_type": "execute_result"
    }
   ],
   "source": [
    "type(runs_series.index)"
   ]
  },
  {
   "cell_type": "code",
   "execution_count": 27,
   "id": "725938f7",
   "metadata": {},
   "outputs": [
    {
     "data": {
      "text/plain": [
       "array([ 67,  57,  89, 100], dtype=int64)"
      ]
     },
     "execution_count": 27,
     "metadata": {},
     "output_type": "execute_result"
    }
   ],
   "source": [
    "# values -> in order get all values\n",
    "marks_series.values"
   ]
  },
  {
   "cell_type": "code",
   "execution_count": 28,
   "id": "496b6662",
   "metadata": {},
   "outputs": [
    {
     "data": {
      "text/plain": [
       "numpy.ndarray"
      ]
     },
     "execution_count": 28,
     "metadata": {},
     "output_type": "execute_result"
    }
   ],
   "source": [
    "type(marks_series.values)"
   ]
  },
  {
   "cell_type": "markdown",
   "id": "07d98749",
   "metadata": {},
   "source": [
    "# Series using read_csv"
   ]
  },
  {
   "cell_type": "code",
   "execution_count": 103,
   "id": "efbb328d",
   "metadata": {},
   "outputs": [
    {
     "data": {
      "text/html": [
       "<div>\n",
       "<style scoped>\n",
       "    .dataframe tbody tr th:only-of-type {\n",
       "        vertical-align: middle;\n",
       "    }\n",
       "\n",
       "    .dataframe tbody tr th {\n",
       "        vertical-align: top;\n",
       "    }\n",
       "\n",
       "    .dataframe thead th {\n",
       "        text-align: right;\n",
       "    }\n",
       "</style>\n",
       "<table border=\"1\" class=\"dataframe\">\n",
       "  <thead>\n",
       "    <tr style=\"text-align: right;\">\n",
       "      <th></th>\n",
       "      <th>Subscribers gained</th>\n",
       "    </tr>\n",
       "  </thead>\n",
       "  <tbody>\n",
       "    <tr>\n",
       "      <th>0</th>\n",
       "      <td>48</td>\n",
       "    </tr>\n",
       "    <tr>\n",
       "      <th>1</th>\n",
       "      <td>57</td>\n",
       "    </tr>\n",
       "    <tr>\n",
       "      <th>2</th>\n",
       "      <td>40</td>\n",
       "    </tr>\n",
       "    <tr>\n",
       "      <th>3</th>\n",
       "      <td>43</td>\n",
       "    </tr>\n",
       "    <tr>\n",
       "      <th>4</th>\n",
       "      <td>44</td>\n",
       "    </tr>\n",
       "    <tr>\n",
       "      <th>...</th>\n",
       "      <td>...</td>\n",
       "    </tr>\n",
       "    <tr>\n",
       "      <th>360</th>\n",
       "      <td>231</td>\n",
       "    </tr>\n",
       "    <tr>\n",
       "      <th>361</th>\n",
       "      <td>226</td>\n",
       "    </tr>\n",
       "    <tr>\n",
       "      <th>362</th>\n",
       "      <td>155</td>\n",
       "    </tr>\n",
       "    <tr>\n",
       "      <th>363</th>\n",
       "      <td>144</td>\n",
       "    </tr>\n",
       "    <tr>\n",
       "      <th>364</th>\n",
       "      <td>172</td>\n",
       "    </tr>\n",
       "  </tbody>\n",
       "</table>\n",
       "<p>365 rows × 1 columns</p>\n",
       "</div>"
      ],
      "text/plain": [
       "     Subscribers gained\n",
       "0                    48\n",
       "1                    57\n",
       "2                    40\n",
       "3                    43\n",
       "4                    44\n",
       "..                  ...\n",
       "360                 231\n",
       "361                 226\n",
       "362                 155\n",
       "363                 144\n",
       "364                 172\n",
       "\n",
       "[365 rows x 1 columns]"
      ]
     },
     "execution_count": 103,
     "metadata": {},
     "output_type": "execute_result"
    }
   ],
   "source": [
    "subs = pd.read_csv('subs.csv') # make sure csv files should be on same folder other wise use path\n",
    "subs"
   ]
  },
  {
   "cell_type": "code",
   "execution_count": 6,
   "id": "5c4897b8",
   "metadata": {},
   "outputs": [
    {
     "data": {
      "text/plain": [
       "pandas.core.frame.DataFrame"
      ]
     },
     "execution_count": 6,
     "metadata": {},
     "output_type": "execute_result"
    }
   ],
   "source": [
    "type(subs) # it's no a series | pd.read_csv bring data as dataframe"
   ]
  },
  {
   "cell_type": "code",
   "execution_count": 104,
   "id": "22d4f21d",
   "metadata": {},
   "outputs": [
    {
     "name": "stderr",
     "output_type": "stream",
     "text": [
      "C:\\Users\\Ab Chatterjee\\AppData\\Local\\Temp\\ipykernel_10644\\3803602320.py:3: FutureWarning: The squeeze argument has been deprecated and will be removed in a future version. Append .squeeze(\"columns\") to the call to squeeze.\n",
      "\n",
      "\n",
      "  subs = pd.read_csv('subs.csv', squeeze = True)\n"
     ]
    },
    {
     "data": {
      "text/plain": [
       "0       48\n",
       "1       57\n",
       "2       40\n",
       "3       43\n",
       "4       44\n",
       "      ... \n",
       "360    231\n",
       "361    226\n",
       "362    155\n",
       "363    144\n",
       "364    172\n",
       "Name: Subscribers gained, Length: 365, dtype: int64"
      ]
     },
     "execution_count": 104,
     "metadata": {},
     "output_type": "execute_result"
    }
   ],
   "source": [
    "# in order to meke it series we have to use squeeze param\n",
    "# with one col\n",
    "subs = pd.read_csv('subs.csv', squeeze = True)\n",
    "subs"
   ]
  },
  {
   "cell_type": "code",
   "execution_count": 8,
   "id": "46947cde",
   "metadata": {},
   "outputs": [
    {
     "data": {
      "text/plain": [
       "pandas.core.series.Series"
      ]
     },
     "execution_count": 8,
     "metadata": {},
     "output_type": "execute_result"
    }
   ],
   "source": [
    "# now if we check type\n",
    "type(subs)"
   ]
  },
  {
   "cell_type": "code",
   "execution_count": 105,
   "id": "59d733c7",
   "metadata": {},
   "outputs": [
    {
     "name": "stderr",
     "output_type": "stream",
     "text": [
      "C:\\Users\\Ab Chatterjee\\AppData\\Local\\Temp\\ipykernel_10644\\3279623082.py:2: FutureWarning: The squeeze argument has been deprecated and will be removed in a future version. Append .squeeze(\"columns\") to the call to squeeze.\n",
      "\n",
      "\n",
      "  vk = pd.read_csv('kohli_ipl.csv',index_col = 'match_no', squeeze = True)\n"
     ]
    },
    {
     "data": {
      "text/plain": [
       "match_no\n",
       "1       1\n",
       "2      23\n",
       "3      13\n",
       "4      12\n",
       "5       1\n",
       "       ..\n",
       "211     0\n",
       "212    20\n",
       "213    73\n",
       "214    25\n",
       "215     7\n",
       "Name: runs, Length: 215, dtype: int64"
      ]
     },
     "execution_count": 105,
     "metadata": {},
     "output_type": "execute_result"
    }
   ],
   "source": [
    "# with 2 cols\n",
    "vk = pd.read_csv('kohli_ipl.csv',index_col = 'match_no', squeeze = True)\n",
    "vk"
   ]
  },
  {
   "cell_type": "code",
   "execution_count": 106,
   "id": "ac752bca",
   "metadata": {},
   "outputs": [
    {
     "name": "stderr",
     "output_type": "stream",
     "text": [
      "C:\\Users\\Ab Chatterjee\\AppData\\Local\\Temp\\ipykernel_10644\\2094180785.py:1: FutureWarning: The squeeze argument has been deprecated and will be removed in a future version. Append .squeeze(\"columns\") to the call to squeeze.\n",
      "\n",
      "\n",
      "  movies = pd.read_csv('bollywood.csv', index_col = 'movie', squeeze = True)\n"
     ]
    },
    {
     "data": {
      "text/plain": [
       "movie\n",
       "Uri: The Surgical Strike                   Vicky Kaushal\n",
       "Battalion 609                                Vicky Ahuja\n",
       "The Accidental Prime Minister (film)         Anupam Kher\n",
       "Why Cheat India                            Emraan Hashmi\n",
       "Evening Shadows                         Mona Ambegaonkar\n",
       "                                              ...       \n",
       "Hum Tumhare Hain Sanam                    Shah Rukh Khan\n",
       "Aankhen (2002 film)                     Amitabh Bachchan\n",
       "Saathiya (film)                             Vivek Oberoi\n",
       "Company (film)                                Ajay Devgn\n",
       "Awara Paagal Deewana                        Akshay Kumar\n",
       "Name: lead, Length: 1500, dtype: object"
      ]
     },
     "execution_count": 106,
     "metadata": {},
     "output_type": "execute_result"
    }
   ],
   "source": [
    "movies = pd.read_csv('bollywood.csv', index_col = 'movie', squeeze = True)\n",
    "movies"
   ]
  },
  {
   "cell_type": "markdown",
   "id": "22a8349a",
   "metadata": {},
   "source": [
    "# Series methods"
   ]
  },
  {
   "cell_type": "code",
   "execution_count": 14,
   "id": "0a21c732",
   "metadata": {},
   "outputs": [
    {
     "data": {
      "text/plain": [
       "0    48\n",
       "1    57\n",
       "2    40\n",
       "3    43\n",
       "4    44\n",
       "Name: Subscribers gained, dtype: int64"
      ]
     },
     "execution_count": 14,
     "metadata": {},
     "output_type": "execute_result"
    }
   ],
   "source": [
    "# head -> gives data preview\n",
    "subs.head()   # gives start 5 rows by default"
   ]
  },
  {
   "cell_type": "code",
   "execution_count": 15,
   "id": "15883f12",
   "metadata": {},
   "outputs": [
    {
     "data": {
      "text/plain": [
       "match_no\n",
       "1     1\n",
       "2    23\n",
       "3    13\n",
       "Name: runs, dtype: int64"
      ]
     },
     "execution_count": 15,
     "metadata": {},
     "output_type": "execute_result"
    }
   ],
   "source": [
    "vk.head(3) # we can mentioned numbers as we want"
   ]
  },
  {
   "cell_type": "code",
   "execution_count": 17,
   "id": "27ba69c2",
   "metadata": {},
   "outputs": [
    {
     "data": {
      "text/plain": [
       "match_no\n",
       "211     0\n",
       "212    20\n",
       "213    73\n",
       "214    25\n",
       "215     7\n",
       "Name: runs, dtype: int64"
      ]
     },
     "execution_count": 17,
     "metadata": {},
     "output_type": "execute_result"
    }
   ],
   "source": [
    "# tail -> gives last 5 rows\n",
    "vk.tail()"
   ]
  },
  {
   "cell_type": "code",
   "execution_count": 18,
   "id": "b2d8e322",
   "metadata": {},
   "outputs": [
    {
     "data": {
      "text/plain": [
       "match_no\n",
       "206     0\n",
       "207     0\n",
       "208     9\n",
       "209    58\n",
       "210    30\n",
       "211     0\n",
       "212    20\n",
       "213    73\n",
       "214    25\n",
       "215     7\n",
       "Name: runs, dtype: int64"
      ]
     },
     "execution_count": 18,
     "metadata": {},
     "output_type": "execute_result"
    }
   ],
   "source": [
    "vk.tail(10)  # last 10"
   ]
  },
  {
   "cell_type": "code",
   "execution_count": 23,
   "id": "4d0d8e6a",
   "metadata": {},
   "outputs": [
    {
     "data": {
      "text/plain": [
       "movie\n",
       "United Six    Russell Geoffrey Banks\n",
       "Name: lead, dtype: object"
      ]
     },
     "execution_count": 23,
     "metadata": {},
     "output_type": "execute_result"
    }
   ],
   "source": [
    "# sample -> gives randomly 1 row from the data\n",
    "movies.sample()"
   ]
  },
  {
   "cell_type": "code",
   "execution_count": 24,
   "id": "fbf5ea78",
   "metadata": {},
   "outputs": [
    {
     "data": {
      "text/plain": [
       "movie\n",
       "The Journey of Karma         Shakti Kapoor\n",
       "Khoobsurat (2014 film)        Sonam Kapoor\n",
       "Nanhe Jaisalmer                 Dwij Yadav\n",
       "Jigariyaa                 Harshvardhan Deo\n",
       "Apna Asmaan                    Irrfan Khan\n",
       "Name: lead, dtype: object"
      ]
     },
     "execution_count": 24,
     "metadata": {},
     "output_type": "execute_result"
    }
   ],
   "source": [
    "# sample -> suppose we want 5 random rows data  | when we don't want bias data\n",
    "movies.sample(5)"
   ]
  },
  {
   "cell_type": "code",
   "execution_count": 25,
   "id": "0189fb25",
   "metadata": {},
   "outputs": [
    {
     "data": {
      "text/plain": [
       "movie\n",
       "Uri: The Surgical Strike                   Vicky Kaushal\n",
       "Battalion 609                                Vicky Ahuja\n",
       "The Accidental Prime Minister (film)         Anupam Kher\n",
       "Why Cheat India                            Emraan Hashmi\n",
       "Evening Shadows                         Mona Ambegaonkar\n",
       "                                              ...       \n",
       "Hum Tumhare Hain Sanam                    Shah Rukh Khan\n",
       "Aankhen (2002 film)                     Amitabh Bachchan\n",
       "Saathiya (film)                             Vivek Oberoi\n",
       "Company (film)                                Ajay Devgn\n",
       "Awara Paagal Deewana                        Akshay Kumar\n",
       "Name: lead, Length: 1500, dtype: object"
      ]
     },
     "execution_count": 25,
     "metadata": {},
     "output_type": "execute_result"
    }
   ],
   "source": [
    "# value_counts -> gives each items frequency inside data\n",
    "movies"
   ]
  },
  {
   "cell_type": "code",
   "execution_count": 26,
   "id": "e8ff76fc",
   "metadata": {},
   "outputs": [
    {
     "data": {
      "text/plain": [
       "Akshay Kumar        48\n",
       "Amitabh Bachchan    45\n",
       "Ajay Devgn          38\n",
       "Salman Khan         31\n",
       "Sanjay Dutt         26\n",
       "                    ..\n",
       "Diganth              1\n",
       "Parveen Kaur         1\n",
       "Seema Azmi           1\n",
       "Akanksha Puri        1\n",
       "Edwin Fernandes      1\n",
       "Name: lead, Length: 566, dtype: int64"
      ]
     },
     "execution_count": 26,
     "metadata": {},
     "output_type": "execute_result"
    }
   ],
   "source": [
    "# in movies we have 1500 data now suppose we want to see each actor did how many movies\n",
    "movies.value_counts()"
   ]
  },
  {
   "cell_type": "code",
   "execution_count": 27,
   "id": "1c716f00",
   "metadata": {},
   "outputs": [
    {
     "data": {
      "text/plain": [
       "match_no\n",
       "87       0\n",
       "211      0\n",
       "207      0\n",
       "206      0\n",
       "91       0\n",
       "      ... \n",
       "164    100\n",
       "120    100\n",
       "123    108\n",
       "126    109\n",
       "128    113\n",
       "Name: runs, Length: 215, dtype: int64"
      ]
     },
     "execution_count": 27,
     "metadata": {},
     "output_type": "execute_result"
    }
   ],
   "source": [
    "# sort_values -> inplace\n",
    "vk.sort_values()   # by default it's sorting Ascending order"
   ]
  },
  {
   "cell_type": "code",
   "execution_count": 28,
   "id": "16d092a5",
   "metadata": {},
   "outputs": [
    {
     "data": {
      "text/plain": [
       "match_no\n",
       "128    113\n",
       "126    109\n",
       "123    108\n",
       "164    100\n",
       "120    100\n",
       "      ... \n",
       "93       0\n",
       "211      0\n",
       "130      0\n",
       "8        0\n",
       "135      0\n",
       "Name: runs, Length: 215, dtype: int64"
      ]
     },
     "execution_count": 28,
     "metadata": {},
     "output_type": "execute_result"
    }
   ],
   "source": [
    "vk.sort_values(ascending = False)   # sorting Descending order"
   ]
  },
  {
   "cell_type": "code",
   "execution_count": 29,
   "id": "441676d7",
   "metadata": {},
   "outputs": [
    {
     "data": {
      "text/plain": [
       "match_no\n",
       "128    113\n",
       "Name: runs, dtype: int64"
      ]
     },
     "execution_count": 29,
     "metadata": {},
     "output_type": "execute_result"
    }
   ],
   "source": [
    "# suppose we want to see  only vk\"s high score in ipl\n",
    "vk.sort_values(ascending = False).head(1)"
   ]
  },
  {
   "cell_type": "code",
   "execution_count": 31,
   "id": "20ada2c7",
   "metadata": {},
   "outputs": [
    {
     "data": {
      "text/plain": [
       "113"
      ]
     },
     "execution_count": 31,
     "metadata": {},
     "output_type": "execute_result"
    }
   ],
   "source": [
    "# in order to get only run\n",
    "vk.sort_values(ascending = False).head(1).values[0]"
   ]
  },
  {
   "cell_type": "code",
   "execution_count": 32,
   "id": "502254e2",
   "metadata": {},
   "outputs": [
    {
     "data": {
      "text/plain": [
       "match_no\n",
       "87       0\n",
       "211      0\n",
       "207      0\n",
       "206      0\n",
       "91       0\n",
       "      ... \n",
       "164    100\n",
       "120    100\n",
       "123    108\n",
       "126    109\n",
       "128    113\n",
       "Name: runs, Length: 215, dtype: int64"
      ]
     },
     "execution_count": 32,
     "metadata": {},
     "output_type": "execute_result"
    }
   ],
   "source": [
    "vk.sort_values(inplace = True)   # it will permanenent ly sort the values inside our series\n",
    "vk   # permanent chages done"
   ]
  },
  {
   "cell_type": "code",
   "execution_count": 34,
   "id": "6369a9ba",
   "metadata": {},
   "outputs": [
    {
     "data": {
      "text/plain": [
       "movie\n",
       "Uri: The Surgical Strike                   Vicky Kaushal\n",
       "Battalion 609                                Vicky Ahuja\n",
       "The Accidental Prime Minister (film)         Anupam Kher\n",
       "Why Cheat India                            Emraan Hashmi\n",
       "Evening Shadows                         Mona Ambegaonkar\n",
       "                                              ...       \n",
       "Hum Tumhare Hain Sanam                    Shah Rukh Khan\n",
       "Aankhen (2002 film)                     Amitabh Bachchan\n",
       "Saathiya (film)                             Vivek Oberoi\n",
       "Company (film)                                Ajay Devgn\n",
       "Awara Paagal Deewana                        Akshay Kumar\n",
       "Name: lead, Length: 1500, dtype: object"
      ]
     },
     "execution_count": 34,
     "metadata": {},
     "output_type": "execute_result"
    }
   ],
   "source": [
    "# sort_index -> inplace -> it will do same thing it will sort our index \n",
    "movies"
   ]
  },
  {
   "cell_type": "code",
   "execution_count": 7,
   "id": "8e196700",
   "metadata": {},
   "outputs": [
    {
     "data": {
      "text/plain": [
       "movie\n",
       "1920 (film)                   Rajniesh Duggall\n",
       "1920: London                     Sharman Joshi\n",
       "1920: The Evil Returns             Vicky Ahuja\n",
       "1971 (2007 film)                Manoj Bajpayee\n",
       "2 States (2014 film)              Arjun Kapoor\n",
       "                                   ...        \n",
       "Zindagi 50-50                      Veena Malik\n",
       "Zindagi Na Milegi Dobara        Hrithik Roshan\n",
       "Zindagi Tere Naam           Mithun Chakraborty\n",
       "Zokkomon                       Darsheel Safary\n",
       "Zor Lagaa Ke...Haiya!            Meghan Jadhav\n",
       "Name: lead, Length: 1500, dtype: object"
      ]
     },
     "execution_count": 7,
     "metadata": {},
     "output_type": "execute_result"
    }
   ],
   "source": [
    "# as movies name is our index and suppose we want to sort our movies alphabetically\n",
    "movies.sort_index()  # digit then a-z sort"
   ]
  },
  {
   "cell_type": "code",
   "execution_count": 8,
   "id": "3b1aff08",
   "metadata": {},
   "outputs": [],
   "source": [
    "movies.sort_index(inplace = True) # it will do permanent change again"
   ]
  },
  {
   "cell_type": "code",
   "execution_count": 9,
   "id": "7952207c",
   "metadata": {},
   "outputs": [
    {
     "data": {
      "text/plain": [
       "movie\n",
       "1920 (film)                   Rajniesh Duggall\n",
       "1920: London                     Sharman Joshi\n",
       "1920: The Evil Returns             Vicky Ahuja\n",
       "1971 (2007 film)                Manoj Bajpayee\n",
       "2 States (2014 film)              Arjun Kapoor\n",
       "                                   ...        \n",
       "Zindagi 50-50                      Veena Malik\n",
       "Zindagi Na Milegi Dobara        Hrithik Roshan\n",
       "Zindagi Tere Naam           Mithun Chakraborty\n",
       "Zokkomon                       Darsheel Safary\n",
       "Zor Lagaa Ke...Haiya!            Meghan Jadhav\n",
       "Name: lead, Length: 1500, dtype: object"
      ]
     },
     "execution_count": 9,
     "metadata": {},
     "output_type": "execute_result"
    }
   ],
   "source": [
    "movies            # it's change the order permanently"
   ]
  },
  {
   "cell_type": "code",
   "execution_count": 11,
   "id": "edf04048",
   "metadata": {},
   "outputs": [],
   "source": [
    "movies.sort_index(ascending = False, inplace = True)"
   ]
  },
  {
   "cell_type": "code",
   "execution_count": 12,
   "id": "51457a52",
   "metadata": {},
   "outputs": [
    {
     "data": {
      "text/plain": [
       "movie\n",
       "Zor Lagaa Ke...Haiya!            Meghan Jadhav\n",
       "Zokkomon                       Darsheel Safary\n",
       "Zindagi Tere Naam           Mithun Chakraborty\n",
       "Zindagi Na Milegi Dobara        Hrithik Roshan\n",
       "Zindagi 50-50                      Veena Malik\n",
       "                                   ...        \n",
       "2 States (2014 film)              Arjun Kapoor\n",
       "1971 (2007 film)                Manoj Bajpayee\n",
       "1920: The Evil Returns             Vicky Ahuja\n",
       "1920: London                     Sharman Joshi\n",
       "1920 (film)                   Rajniesh Duggall\n",
       "Name: lead, Length: 1500, dtype: object"
      ]
     },
     "execution_count": 12,
     "metadata": {},
     "output_type": "execute_result"
    }
   ],
   "source": [
    "movies  # since sorted decending z-a-digit"
   ]
  },
  {
   "cell_type": "markdown",
   "id": "582eda25",
   "metadata": {},
   "source": [
    "# Series Maths Methods"
   ]
  },
  {
   "cell_type": "code",
   "execution_count": 14,
   "id": "915e2ec9",
   "metadata": {},
   "outputs": [
    {
     "data": {
      "text/plain": [
       "215"
      ]
     },
     "execution_count": 14,
     "metadata": {},
     "output_type": "execute_result"
    }
   ],
   "source": [
    "# count -> shows no of items or values in data bt it won't count missing values like size does\n",
    "# suppose we want to how many matches vk played\n",
    "vk.count()"
   ]
  },
  {
   "cell_type": "code",
   "execution_count": 15,
   "id": "a4907083",
   "metadata": {},
   "outputs": [
    {
     "data": {
      "text/plain": [
       "49510"
      ]
     },
     "execution_count": 15,
     "metadata": {},
     "output_type": "execute_result"
    }
   ],
   "source": [
    "# sum -> Gives sums of items\n",
    "# suppose we want to see total subscriber we have in subs data\n",
    "subs.sum()"
   ]
  },
  {
   "cell_type": "code",
   "execution_count": 16,
   "id": "b9ecf808",
   "metadata": {},
   "outputs": [
    {
     "data": {
      "text/plain": [
       "0"
      ]
     },
     "execution_count": 16,
     "metadata": {},
     "output_type": "execute_result"
    }
   ],
   "source": [
    "# product -> it will multiply items\n",
    "subs.product()  # there must be missing day between"
   ]
  },
  {
   "cell_type": "code",
   "execution_count": 17,
   "id": "bad28af9",
   "metadata": {},
   "outputs": [
    {
     "data": {
      "text/plain": [
       "135.64383561643837"
      ]
     },
     "execution_count": 17,
     "metadata": {},
     "output_type": "execute_result"
    }
   ],
   "source": [
    "# mean -> shows avg\n",
    "# suppose on a daily basis how many subscriber we got\n",
    "subs.mean()"
   ]
  },
  {
   "cell_type": "code",
   "execution_count": 18,
   "id": "8ddeb180",
   "metadata": {},
   "outputs": [
    {
     "data": {
      "text/plain": [
       "24.0"
      ]
     },
     "execution_count": 18,
     "metadata": {},
     "output_type": "execute_result"
    }
   ],
   "source": [
    "# median\n",
    "# suppose  we want to see median score of vk in ipl innings\n",
    "vk.median()"
   ]
  },
  {
   "cell_type": "code",
   "execution_count": 19,
   "id": "1ff20315",
   "metadata": {},
   "outputs": [
    {
     "data": {
      "text/plain": [
       "0    Akshay Kumar\n",
       "Name: lead, dtype: object"
      ]
     },
     "execution_count": 19,
     "metadata": {},
     "output_type": "execute_result"
    }
   ],
   "source": [
    "# mode -> it shows value with highest frequency\n",
    "# suppose we want to see actor who did most of the movies\n",
    "movies.mode()"
   ]
  },
  {
   "cell_type": "code",
   "execution_count": 20,
   "id": "85510902",
   "metadata": {},
   "outputs": [
    {
     "data": {
      "text/plain": [
       "62.67502303725269"
      ]
     },
     "execution_count": 20,
     "metadata": {},
     "output_type": "execute_result"
    }
   ],
   "source": [
    "# std \n",
    "subs.std()"
   ]
  },
  {
   "cell_type": "code",
   "execution_count": 21,
   "id": "7701df34",
   "metadata": {},
   "outputs": [
    {
     "data": {
      "text/plain": [
       "688.0024777222344"
      ]
     },
     "execution_count": 21,
     "metadata": {},
     "output_type": "execute_result"
    }
   ],
   "source": [
    "# var\n",
    "vk.var()"
   ]
  },
  {
   "cell_type": "code",
   "execution_count": 22,
   "id": "3f6b0c84",
   "metadata": {},
   "outputs": [
    {
     "data": {
      "text/plain": [
       "396"
      ]
     },
     "execution_count": 22,
     "metadata": {},
     "output_type": "execute_result"
    }
   ],
   "source": [
    "# max\n",
    "# suppose we want see to max no of subscriber in a day we got\n",
    "subs.max()"
   ]
  },
  {
   "cell_type": "code",
   "execution_count": 23,
   "id": "93ce6070",
   "metadata": {},
   "outputs": [
    {
     "data": {
      "text/plain": [
       "33"
      ]
     },
     "execution_count": 23,
     "metadata": {},
     "output_type": "execute_result"
    }
   ],
   "source": [
    "# min\n",
    "# suppose we want to see min no of subscriber in a day we got\n",
    "subs.min()"
   ]
  },
  {
   "cell_type": "code",
   "execution_count": 25,
   "id": "8d9ef9a9",
   "metadata": {},
   "outputs": [
    {
     "data": {
      "text/plain": [
       "count    215.000000\n",
       "mean      30.855814\n",
       "std       26.229801\n",
       "min        0.000000\n",
       "25%        9.000000\n",
       "50%       24.000000\n",
       "75%       48.000000\n",
       "max      113.000000\n",
       "Name: runs, dtype: float64"
      ]
     },
     "execution_count": 25,
     "metadata": {},
     "output_type": "execute_result"
    }
   ],
   "source": [
    "# describe -> Gives summary of multiple mathematical quantities\n",
    "vk.describe()"
   ]
  },
  {
   "cell_type": "code",
   "execution_count": 26,
   "id": "19179a87",
   "metadata": {},
   "outputs": [
    {
     "data": {
      "text/plain": [
       "count    365.000000\n",
       "mean     135.643836\n",
       "std       62.675023\n",
       "min       33.000000\n",
       "25%       88.000000\n",
       "50%      123.000000\n",
       "75%      177.000000\n",
       "max      396.000000\n",
       "Name: Subscribers gained, dtype: float64"
      ]
     },
     "execution_count": 26,
     "metadata": {},
     "output_type": "execute_result"
    }
   ],
   "source": [
    "subs.describe()"
   ]
  },
  {
   "cell_type": "markdown",
   "id": "4a997e01",
   "metadata": {},
   "source": [
    "# Series Indexing"
   ]
  },
  {
   "cell_type": "code",
   "execution_count": 27,
   "id": "16418fb9",
   "metadata": {},
   "outputs": [
    {
     "data": {
      "text/plain": [
       "0    12\n",
       "1    13\n",
       "2    14\n",
       "3    35\n",
       "4    46\n",
       "5    57\n",
       "6    58\n",
       "7    79\n",
       "8     9\n",
       "dtype: int64"
      ]
     },
     "execution_count": 27,
     "metadata": {},
     "output_type": "execute_result"
    }
   ],
   "source": [
    "# integer indexing\n",
    "x = pd.Series([12,13,14,35,46,57,58,79,9])\n",
    "x"
   ]
  },
  {
   "cell_type": "code",
   "execution_count": 28,
   "id": "dceaa4da",
   "metadata": {},
   "outputs": [
    {
     "data": {
      "text/plain": [
       "12"
      ]
     },
     "execution_count": 28,
     "metadata": {},
     "output_type": "execute_result"
    }
   ],
   "source": [
    "# positive indexing\n",
    "x[0] # gives 1st item similar to indexing in python"
   ]
  },
  {
   "cell_type": "code",
   "execution_count": 29,
   "id": "7f2013f4",
   "metadata": {},
   "outputs": [
    {
     "ename": "KeyError",
     "evalue": "-1",
     "output_type": "error",
     "traceback": [
      "\u001b[1;31m---------------------------------------------------------------------------\u001b[0m",
      "\u001b[1;31mValueError\u001b[0m                                Traceback (most recent call last)",
      "File \u001b[1;32m~\\anaconda3\\lib\\site-packages\\pandas\\core\\indexes\\range.py:391\u001b[0m, in \u001b[0;36mRangeIndex.get_loc\u001b[1;34m(self, key, method, tolerance)\u001b[0m\n\u001b[0;32m    390\u001b[0m \u001b[38;5;28;01mtry\u001b[39;00m:\n\u001b[1;32m--> 391\u001b[0m     \u001b[38;5;28;01mreturn\u001b[39;00m \u001b[38;5;28;43mself\u001b[39;49m\u001b[38;5;241;43m.\u001b[39;49m\u001b[43m_range\u001b[49m\u001b[38;5;241;43m.\u001b[39;49m\u001b[43mindex\u001b[49m\u001b[43m(\u001b[49m\u001b[43mnew_key\u001b[49m\u001b[43m)\u001b[49m\n\u001b[0;32m    392\u001b[0m \u001b[38;5;28;01mexcept\u001b[39;00m \u001b[38;5;167;01mValueError\u001b[39;00m \u001b[38;5;28;01mas\u001b[39;00m err:\n",
      "\u001b[1;31mValueError\u001b[0m: -1 is not in range",
      "\nThe above exception was the direct cause of the following exception:\n",
      "\u001b[1;31mKeyError\u001b[0m                                  Traceback (most recent call last)",
      "Cell \u001b[1;32mIn[29], line 2\u001b[0m\n\u001b[0;32m      1\u001b[0m \u001b[38;5;66;03m# negative indexing \u001b[39;00m\n\u001b[1;32m----> 2\u001b[0m \u001b[43mx\u001b[49m\u001b[43m[\u001b[49m\u001b[38;5;241;43m-\u001b[39;49m\u001b[38;5;241;43m1\u001b[39;49m\u001b[43m]\u001b[49m\n",
      "File \u001b[1;32m~\\anaconda3\\lib\\site-packages\\pandas\\core\\series.py:981\u001b[0m, in \u001b[0;36mSeries.__getitem__\u001b[1;34m(self, key)\u001b[0m\n\u001b[0;32m    978\u001b[0m     \u001b[38;5;28;01mreturn\u001b[39;00m \u001b[38;5;28mself\u001b[39m\u001b[38;5;241m.\u001b[39m_values[key]\n\u001b[0;32m    980\u001b[0m \u001b[38;5;28;01melif\u001b[39;00m key_is_scalar:\n\u001b[1;32m--> 981\u001b[0m     \u001b[38;5;28;01mreturn\u001b[39;00m \u001b[38;5;28;43mself\u001b[39;49m\u001b[38;5;241;43m.\u001b[39;49m\u001b[43m_get_value\u001b[49m\u001b[43m(\u001b[49m\u001b[43mkey\u001b[49m\u001b[43m)\u001b[49m\n\u001b[0;32m    983\u001b[0m \u001b[38;5;28;01mif\u001b[39;00m is_hashable(key):\n\u001b[0;32m    984\u001b[0m     \u001b[38;5;66;03m# Otherwise index.get_value will raise InvalidIndexError\u001b[39;00m\n\u001b[0;32m    985\u001b[0m     \u001b[38;5;28;01mtry\u001b[39;00m:\n\u001b[0;32m    986\u001b[0m         \u001b[38;5;66;03m# For labels that don't resolve as scalars like tuples and frozensets\u001b[39;00m\n",
      "File \u001b[1;32m~\\anaconda3\\lib\\site-packages\\pandas\\core\\series.py:1089\u001b[0m, in \u001b[0;36mSeries._get_value\u001b[1;34m(self, label, takeable)\u001b[0m\n\u001b[0;32m   1086\u001b[0m     \u001b[38;5;28;01mreturn\u001b[39;00m \u001b[38;5;28mself\u001b[39m\u001b[38;5;241m.\u001b[39m_values[label]\n\u001b[0;32m   1088\u001b[0m \u001b[38;5;66;03m# Similar to Index.get_value, but we do not fall back to positional\u001b[39;00m\n\u001b[1;32m-> 1089\u001b[0m loc \u001b[38;5;241m=\u001b[39m \u001b[38;5;28;43mself\u001b[39;49m\u001b[38;5;241;43m.\u001b[39;49m\u001b[43mindex\u001b[49m\u001b[38;5;241;43m.\u001b[39;49m\u001b[43mget_loc\u001b[49m\u001b[43m(\u001b[49m\u001b[43mlabel\u001b[49m\u001b[43m)\u001b[49m\n\u001b[0;32m   1090\u001b[0m \u001b[38;5;28;01mreturn\u001b[39;00m \u001b[38;5;28mself\u001b[39m\u001b[38;5;241m.\u001b[39mindex\u001b[38;5;241m.\u001b[39m_get_values_for_loc(\u001b[38;5;28mself\u001b[39m, loc, label)\n",
      "File \u001b[1;32m~\\anaconda3\\lib\\site-packages\\pandas\\core\\indexes\\range.py:393\u001b[0m, in \u001b[0;36mRangeIndex.get_loc\u001b[1;34m(self, key, method, tolerance)\u001b[0m\n\u001b[0;32m    391\u001b[0m         \u001b[38;5;28;01mreturn\u001b[39;00m \u001b[38;5;28mself\u001b[39m\u001b[38;5;241m.\u001b[39m_range\u001b[38;5;241m.\u001b[39mindex(new_key)\n\u001b[0;32m    392\u001b[0m     \u001b[38;5;28;01mexcept\u001b[39;00m \u001b[38;5;167;01mValueError\u001b[39;00m \u001b[38;5;28;01mas\u001b[39;00m err:\n\u001b[1;32m--> 393\u001b[0m         \u001b[38;5;28;01mraise\u001b[39;00m \u001b[38;5;167;01mKeyError\u001b[39;00m(key) \u001b[38;5;28;01mfrom\u001b[39;00m \u001b[38;5;21;01merr\u001b[39;00m\n\u001b[0;32m    394\u001b[0m \u001b[38;5;28mself\u001b[39m\u001b[38;5;241m.\u001b[39m_check_indexing_error(key)\n\u001b[0;32m    395\u001b[0m \u001b[38;5;28;01mraise\u001b[39;00m \u001b[38;5;167;01mKeyError\u001b[39;00m(key)\n",
      "\u001b[1;31mKeyError\u001b[0m: -1"
     ]
    }
   ],
   "source": [
    "# negative indexing \n",
    "x[-1] # here normal negative indexing don't work"
   ]
  },
  {
   "cell_type": "code",
   "execution_count": 30,
   "id": "a096bfc1",
   "metadata": {},
   "outputs": [
    {
     "data": {
      "text/plain": [
       "movie\n",
       "Zor Lagaa Ke...Haiya!            Meghan Jadhav\n",
       "Zokkomon                       Darsheel Safary\n",
       "Zindagi Tere Naam           Mithun Chakraborty\n",
       "Zindagi Na Milegi Dobara        Hrithik Roshan\n",
       "Zindagi 50-50                      Veena Malik\n",
       "                                   ...        \n",
       "2 States (2014 film)              Arjun Kapoor\n",
       "1971 (2007 film)                Manoj Bajpayee\n",
       "1920: The Evil Returns             Vicky Ahuja\n",
       "1920: London                     Sharman Joshi\n",
       "1920 (film)                   Rajniesh Duggall\n",
       "Name: lead, Length: 1500, dtype: object"
      ]
     },
     "execution_count": 30,
     "metadata": {},
     "output_type": "execute_result"
    }
   ],
   "source": [
    "movies"
   ]
  },
  {
   "cell_type": "code",
   "execution_count": 31,
   "id": "c4914a0b",
   "metadata": {},
   "outputs": [
    {
     "data": {
      "text/plain": [
       "'Meghan Jadhav'"
      ]
     },
     "execution_count": 31,
     "metadata": {},
     "output_type": "execute_result"
    }
   ],
   "source": [
    "# getting 1st item value from movies\n",
    "movies[0]"
   ]
  },
  {
   "cell_type": "code",
   "execution_count": 32,
   "id": "221b31c5",
   "metadata": {},
   "outputs": [
    {
     "data": {
      "text/plain": [
       "'Meghan Jadhav'"
      ]
     },
     "execution_count": 32,
     "metadata": {},
     "output_type": "execute_result"
    }
   ],
   "source": [
    "movies['Zor Lagaa Ke...Haiya!']  # it too works"
   ]
  },
  {
   "cell_type": "code",
   "execution_count": 33,
   "id": "f6575983",
   "metadata": {},
   "outputs": [
    {
     "data": {
      "text/plain": [
       "'Rajniesh Duggall'"
      ]
     },
     "execution_count": 33,
     "metadata": {},
     "output_type": "execute_result"
    }
   ],
   "source": [
    "# negative indexing\n",
    "movies[-1]      # when custom index is string or object only then negative index works"
   ]
  },
  {
   "cell_type": "code",
   "execution_count": 35,
   "id": "cdeb7f70",
   "metadata": {},
   "outputs": [
    {
     "data": {
      "text/plain": [
       "match_no\n",
       "1       1\n",
       "2      23\n",
       "3      13\n",
       "4      12\n",
       "5       1\n",
       "       ..\n",
       "211     0\n",
       "212    20\n",
       "213    73\n",
       "214    25\n",
       "215     7\n",
       "Name: runs, Length: 215, dtype: int64"
      ]
     },
     "execution_count": 35,
     "metadata": {},
     "output_type": "execute_result"
    }
   ],
   "source": [
    "vk"
   ]
  },
  {
   "cell_type": "code",
   "execution_count": 36,
   "id": "3098dac6",
   "metadata": {},
   "outputs": [
    {
     "ename": "KeyError",
     "evalue": "-1",
     "output_type": "error",
     "traceback": [
      "\u001b[1;31m---------------------------------------------------------------------------\u001b[0m",
      "\u001b[1;31mKeyError\u001b[0m                                  Traceback (most recent call last)",
      "File \u001b[1;32m~\\anaconda3\\lib\\site-packages\\pandas\\core\\indexes\\base.py:3802\u001b[0m, in \u001b[0;36mIndex.get_loc\u001b[1;34m(self, key, method, tolerance)\u001b[0m\n\u001b[0;32m   3801\u001b[0m \u001b[38;5;28;01mtry\u001b[39;00m:\n\u001b[1;32m-> 3802\u001b[0m     \u001b[38;5;28;01mreturn\u001b[39;00m \u001b[38;5;28;43mself\u001b[39;49m\u001b[38;5;241;43m.\u001b[39;49m\u001b[43m_engine\u001b[49m\u001b[38;5;241;43m.\u001b[39;49m\u001b[43mget_loc\u001b[49m\u001b[43m(\u001b[49m\u001b[43mcasted_key\u001b[49m\u001b[43m)\u001b[49m\n\u001b[0;32m   3803\u001b[0m \u001b[38;5;28;01mexcept\u001b[39;00m \u001b[38;5;167;01mKeyError\u001b[39;00m \u001b[38;5;28;01mas\u001b[39;00m err:\n",
      "File \u001b[1;32m~\\anaconda3\\lib\\site-packages\\pandas\\_libs\\index.pyx:138\u001b[0m, in \u001b[0;36mpandas._libs.index.IndexEngine.get_loc\u001b[1;34m()\u001b[0m\n",
      "File \u001b[1;32m~\\anaconda3\\lib\\site-packages\\pandas\\_libs\\index.pyx:165\u001b[0m, in \u001b[0;36mpandas._libs.index.IndexEngine.get_loc\u001b[1;34m()\u001b[0m\n",
      "File \u001b[1;32mpandas\\_libs\\hashtable_class_helper.pxi:2263\u001b[0m, in \u001b[0;36mpandas._libs.hashtable.Int64HashTable.get_item\u001b[1;34m()\u001b[0m\n",
      "File \u001b[1;32mpandas\\_libs\\hashtable_class_helper.pxi:2273\u001b[0m, in \u001b[0;36mpandas._libs.hashtable.Int64HashTable.get_item\u001b[1;34m()\u001b[0m\n",
      "\u001b[1;31mKeyError\u001b[0m: -1",
      "\nThe above exception was the direct cause of the following exception:\n",
      "\u001b[1;31mKeyError\u001b[0m                                  Traceback (most recent call last)",
      "Cell \u001b[1;32mIn[36], line 1\u001b[0m\n\u001b[1;32m----> 1\u001b[0m \u001b[43mvk\u001b[49m\u001b[43m[\u001b[49m\u001b[38;5;241;43m-\u001b[39;49m\u001b[38;5;241;43m1\u001b[39;49m\u001b[43m]\u001b[49m\n",
      "File \u001b[1;32m~\\anaconda3\\lib\\site-packages\\pandas\\core\\series.py:981\u001b[0m, in \u001b[0;36mSeries.__getitem__\u001b[1;34m(self, key)\u001b[0m\n\u001b[0;32m    978\u001b[0m     \u001b[38;5;28;01mreturn\u001b[39;00m \u001b[38;5;28mself\u001b[39m\u001b[38;5;241m.\u001b[39m_values[key]\n\u001b[0;32m    980\u001b[0m \u001b[38;5;28;01melif\u001b[39;00m key_is_scalar:\n\u001b[1;32m--> 981\u001b[0m     \u001b[38;5;28;01mreturn\u001b[39;00m \u001b[38;5;28;43mself\u001b[39;49m\u001b[38;5;241;43m.\u001b[39;49m\u001b[43m_get_value\u001b[49m\u001b[43m(\u001b[49m\u001b[43mkey\u001b[49m\u001b[43m)\u001b[49m\n\u001b[0;32m    983\u001b[0m \u001b[38;5;28;01mif\u001b[39;00m is_hashable(key):\n\u001b[0;32m    984\u001b[0m     \u001b[38;5;66;03m# Otherwise index.get_value will raise InvalidIndexError\u001b[39;00m\n\u001b[0;32m    985\u001b[0m     \u001b[38;5;28;01mtry\u001b[39;00m:\n\u001b[0;32m    986\u001b[0m         \u001b[38;5;66;03m# For labels that don't resolve as scalars like tuples and frozensets\u001b[39;00m\n",
      "File \u001b[1;32m~\\anaconda3\\lib\\site-packages\\pandas\\core\\series.py:1089\u001b[0m, in \u001b[0;36mSeries._get_value\u001b[1;34m(self, label, takeable)\u001b[0m\n\u001b[0;32m   1086\u001b[0m     \u001b[38;5;28;01mreturn\u001b[39;00m \u001b[38;5;28mself\u001b[39m\u001b[38;5;241m.\u001b[39m_values[label]\n\u001b[0;32m   1088\u001b[0m \u001b[38;5;66;03m# Similar to Index.get_value, but we do not fall back to positional\u001b[39;00m\n\u001b[1;32m-> 1089\u001b[0m loc \u001b[38;5;241m=\u001b[39m \u001b[38;5;28;43mself\u001b[39;49m\u001b[38;5;241;43m.\u001b[39;49m\u001b[43mindex\u001b[49m\u001b[38;5;241;43m.\u001b[39;49m\u001b[43mget_loc\u001b[49m\u001b[43m(\u001b[49m\u001b[43mlabel\u001b[49m\u001b[43m)\u001b[49m\n\u001b[0;32m   1090\u001b[0m \u001b[38;5;28;01mreturn\u001b[39;00m \u001b[38;5;28mself\u001b[39m\u001b[38;5;241m.\u001b[39mindex\u001b[38;5;241m.\u001b[39m_get_values_for_loc(\u001b[38;5;28mself\u001b[39m, loc, label)\n",
      "File \u001b[1;32m~\\anaconda3\\lib\\site-packages\\pandas\\core\\indexes\\base.py:3804\u001b[0m, in \u001b[0;36mIndex.get_loc\u001b[1;34m(self, key, method, tolerance)\u001b[0m\n\u001b[0;32m   3802\u001b[0m     \u001b[38;5;28;01mreturn\u001b[39;00m \u001b[38;5;28mself\u001b[39m\u001b[38;5;241m.\u001b[39m_engine\u001b[38;5;241m.\u001b[39mget_loc(casted_key)\n\u001b[0;32m   3803\u001b[0m \u001b[38;5;28;01mexcept\u001b[39;00m \u001b[38;5;167;01mKeyError\u001b[39;00m \u001b[38;5;28;01mas\u001b[39;00m err:\n\u001b[1;32m-> 3804\u001b[0m     \u001b[38;5;28;01mraise\u001b[39;00m \u001b[38;5;167;01mKeyError\u001b[39;00m(key) \u001b[38;5;28;01mfrom\u001b[39;00m \u001b[38;5;21;01merr\u001b[39;00m\n\u001b[0;32m   3805\u001b[0m \u001b[38;5;28;01mexcept\u001b[39;00m \u001b[38;5;167;01mTypeError\u001b[39;00m:\n\u001b[0;32m   3806\u001b[0m     \u001b[38;5;66;03m# If we have a listlike key, _check_indexing_error will raise\u001b[39;00m\n\u001b[0;32m   3807\u001b[0m     \u001b[38;5;66;03m#  InvalidIndexError. Otherwise we fall through and re-raise\u001b[39;00m\n\u001b[0;32m   3808\u001b[0m     \u001b[38;5;66;03m#  the TypeError.\u001b[39;00m\n\u001b[0;32m   3809\u001b[0m     \u001b[38;5;28mself\u001b[39m\u001b[38;5;241m.\u001b[39m_check_indexing_error(key)\n",
      "\u001b[1;31mKeyError\u001b[0m: -1"
     ]
    }
   ],
   "source": [
    "vk[-1] # here custom index is not string thats why it's won't worked"
   ]
  },
  {
   "cell_type": "code",
   "execution_count": 37,
   "id": "077a8b85",
   "metadata": {},
   "outputs": [
    {
     "data": {
      "text/plain": [
       "match_no\n",
       "6      9\n",
       "7     34\n",
       "8      0\n",
       "9     21\n",
       "10     3\n",
       "11    10\n",
       "12    38\n",
       "13     3\n",
       "14    11\n",
       "15    50\n",
       "16     2\n",
       "Name: runs, dtype: int64"
      ]
     },
     "execution_count": 37,
     "metadata": {},
     "output_type": "execute_result"
    }
   ],
   "source": [
    "# slicing -> fetching multiple items at a time\n",
    "# suppose we want to see vk's runs between match_no 5-16\n",
    "vk[5:16]"
   ]
  },
  {
   "cell_type": "code",
   "execution_count": 38,
   "id": "079e0a69",
   "metadata": {},
   "outputs": [
    {
     "data": {
      "text/plain": [
       "match_no\n",
       "211     0\n",
       "212    20\n",
       "213    73\n",
       "214    25\n",
       "215     7\n",
       "Name: runs, dtype: int64"
      ]
     },
     "execution_count": 38,
     "metadata": {},
     "output_type": "execute_result"
    }
   ],
   "source": [
    "# negative slicing\n",
    "# suppose we want to see last 5 matches runs\n",
    "vk[-5:]"
   ]
  },
  {
   "cell_type": "code",
   "execution_count": 39,
   "id": "8d92d348",
   "metadata": {},
   "outputs": [
    {
     "data": {
      "text/plain": [
       "movie\n",
       "2 States (2014 film)          Arjun Kapoor\n",
       "1971 (2007 film)            Manoj Bajpayee\n",
       "1920: The Evil Returns         Vicky Ahuja\n",
       "1920: London                 Sharman Joshi\n",
       "1920 (film)               Rajniesh Duggall\n",
       "Name: lead, dtype: object"
      ]
     },
     "execution_count": 39,
     "metadata": {},
     "output_type": "execute_result"
    }
   ],
   "source": [
    "# suppose we wnat last 5 movies with negative indexing\n",
    "movies[-5:]"
   ]
  },
  {
   "cell_type": "code",
   "execution_count": 40,
   "id": "3b4cc936",
   "metadata": {},
   "outputs": [
    {
     "data": {
      "text/plain": [
       "movie\n",
       "Zor Lagaa Ke...Haiya!         Meghan Jadhav\n",
       "Zindagi Tere Naam        Mithun Chakraborty\n",
       "Zindagi 50-50                   Veena Malik\n",
       "Zinda (film)                    Sanjay Dutt\n",
       "Zid (2014 film)              Mannara Chopra\n",
       "                                ...        \n",
       "3 Storeys                       Aisha Ahmed\n",
       "3 Deewarein                Naseeruddin Shah\n",
       "22 Yards                        Barun Sobti\n",
       "1971 (2007 film)             Manoj Bajpayee\n",
       "1920: London                  Sharman Joshi\n",
       "Name: lead, Length: 750, dtype: object"
      ]
     },
     "execution_count": 40,
     "metadata": {},
     "output_type": "execute_result"
    }
   ],
   "source": [
    "# we can do all python slicing stuff here \n",
    "# suppose we want to every alternate movie\n",
    "movies[::2]"
   ]
  },
  {
   "cell_type": "code",
   "execution_count": 41,
   "id": "410fe765",
   "metadata": {},
   "outputs": [
    {
     "data": {
      "text/plain": [
       "match_no\n",
       "1     1\n",
       "3    13\n",
       "4    12\n",
       "5     1\n",
       "Name: runs, dtype: int64"
      ]
     },
     "execution_count": 41,
     "metadata": {},
     "output_type": "execute_result"
    }
   ],
   "source": [
    "# fancy indexing\n",
    "# suppose we want to vk's score 1,3,4,5 match score\n",
    "vk[[1,3,4,5]]"
   ]
  },
  {
   "cell_type": "code",
   "execution_count": 42,
   "id": "cbd98e73",
   "metadata": {},
   "outputs": [
    {
     "data": {
      "text/plain": [
       "'Arjun Kapoor'"
      ]
     },
     "execution_count": 42,
     "metadata": {},
     "output_type": "execute_result"
    }
   ],
   "source": [
    "# indexing with labels -> fancy indexing\n",
    "# suppose we want to see a particular movie's lead actor\n",
    "movies['2 States (2014 film)']"
   ]
  },
  {
   "cell_type": "markdown",
   "id": "90691e18",
   "metadata": {},
   "source": [
    "# Editing Series"
   ]
  },
  {
   "cell_type": "code",
   "execution_count": 48,
   "id": "ff764e30",
   "metadata": {},
   "outputs": [
    {
     "data": {
      "text/plain": [
       "maths       67\n",
       "english     57\n",
       "science     89\n",
       "bengali    100\n",
       "Name: Abhi ke marks, dtype: int64"
      ]
     },
     "execution_count": 48,
     "metadata": {},
     "output_type": "execute_result"
    }
   ],
   "source": [
    "# using indexing\n",
    "marks_series"
   ]
  },
  {
   "cell_type": "code",
   "execution_count": 49,
   "id": "251e56d7",
   "metadata": {},
   "outputs": [
    {
     "data": {
      "text/plain": [
       "maths       67\n",
       "english    100\n",
       "science     89\n",
       "bengali    100\n",
       "Name: Abhi ke marks, dtype: int64"
      ]
     },
     "execution_count": 49,
     "metadata": {},
     "output_type": "execute_result"
    }
   ],
   "source": [
    "# suppose in marks_series we want to edit english marks\n",
    "marks_series[1] = 100\n",
    "marks_series"
   ]
  },
  {
   "cell_type": "code",
   "execution_count": 50,
   "id": "f5d839c7",
   "metadata": {},
   "outputs": [
    {
     "data": {
      "text/plain": [
       "maths       67\n",
       "english    100\n",
       "science     89\n",
       "bengali    100\n",
       "sst         90\n",
       "Name: Abhi ke marks, dtype: int64"
      ]
     },
     "execution_count": 50,
     "metadata": {},
     "output_type": "execute_result"
    }
   ],
   "source": [
    "# what if an index doesn't exist andwe are trying to changing it\n",
    "marks_series['sst'] = 90    # here we don't have any subject like sst\n",
    "marks_series     # here instead of throwing an error a new subject added to our series "
   ]
  },
  {
   "cell_type": "code",
   "execution_count": 52,
   "id": "879e6f8a",
   "metadata": {},
   "outputs": [
    {
     "data": {
      "text/plain": [
       "67"
      ]
     },
     "execution_count": 52,
     "metadata": {},
     "output_type": "execute_result"
    }
   ],
   "source": [
    "# similarly we can read through index\n",
    "marks_series['maths']"
   ]
  },
  {
   "cell_type": "code",
   "execution_count": 53,
   "id": "fcf337d2",
   "metadata": {},
   "outputs": [
    {
     "ename": "KeyError",
     "evalue": "'evs'",
     "output_type": "error",
     "traceback": [
      "\u001b[1;31m---------------------------------------------------------------------------\u001b[0m",
      "\u001b[1;31mKeyError\u001b[0m                                  Traceback (most recent call last)",
      "File \u001b[1;32m~\\anaconda3\\lib\\site-packages\\pandas\\core\\indexes\\base.py:3802\u001b[0m, in \u001b[0;36mIndex.get_loc\u001b[1;34m(self, key, method, tolerance)\u001b[0m\n\u001b[0;32m   3801\u001b[0m \u001b[38;5;28;01mtry\u001b[39;00m:\n\u001b[1;32m-> 3802\u001b[0m     \u001b[38;5;28;01mreturn\u001b[39;00m \u001b[38;5;28;43mself\u001b[39;49m\u001b[38;5;241;43m.\u001b[39;49m\u001b[43m_engine\u001b[49m\u001b[38;5;241;43m.\u001b[39;49m\u001b[43mget_loc\u001b[49m\u001b[43m(\u001b[49m\u001b[43mcasted_key\u001b[49m\u001b[43m)\u001b[49m\n\u001b[0;32m   3803\u001b[0m \u001b[38;5;28;01mexcept\u001b[39;00m \u001b[38;5;167;01mKeyError\u001b[39;00m \u001b[38;5;28;01mas\u001b[39;00m err:\n",
      "File \u001b[1;32m~\\anaconda3\\lib\\site-packages\\pandas\\_libs\\index.pyx:138\u001b[0m, in \u001b[0;36mpandas._libs.index.IndexEngine.get_loc\u001b[1;34m()\u001b[0m\n",
      "File \u001b[1;32m~\\anaconda3\\lib\\site-packages\\pandas\\_libs\\index.pyx:165\u001b[0m, in \u001b[0;36mpandas._libs.index.IndexEngine.get_loc\u001b[1;34m()\u001b[0m\n",
      "File \u001b[1;32mpandas\\_libs\\hashtable_class_helper.pxi:5745\u001b[0m, in \u001b[0;36mpandas._libs.hashtable.PyObjectHashTable.get_item\u001b[1;34m()\u001b[0m\n",
      "File \u001b[1;32mpandas\\_libs\\hashtable_class_helper.pxi:5753\u001b[0m, in \u001b[0;36mpandas._libs.hashtable.PyObjectHashTable.get_item\u001b[1;34m()\u001b[0m\n",
      "\u001b[1;31mKeyError\u001b[0m: 'evs'",
      "\nThe above exception was the direct cause of the following exception:\n",
      "\u001b[1;31mKeyError\u001b[0m                                  Traceback (most recent call last)",
      "Cell \u001b[1;32mIn[53], line 2\u001b[0m\n\u001b[0;32m      1\u001b[0m \u001b[38;5;66;03m# | bt we can't read if not subject exists\u001b[39;00m\n\u001b[1;32m----> 2\u001b[0m \u001b[43mmarks_series\u001b[49m\u001b[43m[\u001b[49m\u001b[38;5;124;43m'\u001b[39;49m\u001b[38;5;124;43mevs\u001b[39;49m\u001b[38;5;124;43m'\u001b[39;49m\u001b[43m]\u001b[49m\n",
      "File \u001b[1;32m~\\anaconda3\\lib\\site-packages\\pandas\\core\\series.py:981\u001b[0m, in \u001b[0;36mSeries.__getitem__\u001b[1;34m(self, key)\u001b[0m\n\u001b[0;32m    978\u001b[0m     \u001b[38;5;28;01mreturn\u001b[39;00m \u001b[38;5;28mself\u001b[39m\u001b[38;5;241m.\u001b[39m_values[key]\n\u001b[0;32m    980\u001b[0m \u001b[38;5;28;01melif\u001b[39;00m key_is_scalar:\n\u001b[1;32m--> 981\u001b[0m     \u001b[38;5;28;01mreturn\u001b[39;00m \u001b[38;5;28;43mself\u001b[39;49m\u001b[38;5;241;43m.\u001b[39;49m\u001b[43m_get_value\u001b[49m\u001b[43m(\u001b[49m\u001b[43mkey\u001b[49m\u001b[43m)\u001b[49m\n\u001b[0;32m    983\u001b[0m \u001b[38;5;28;01mif\u001b[39;00m is_hashable(key):\n\u001b[0;32m    984\u001b[0m     \u001b[38;5;66;03m# Otherwise index.get_value will raise InvalidIndexError\u001b[39;00m\n\u001b[0;32m    985\u001b[0m     \u001b[38;5;28;01mtry\u001b[39;00m:\n\u001b[0;32m    986\u001b[0m         \u001b[38;5;66;03m# For labels that don't resolve as scalars like tuples and frozensets\u001b[39;00m\n",
      "File \u001b[1;32m~\\anaconda3\\lib\\site-packages\\pandas\\core\\series.py:1089\u001b[0m, in \u001b[0;36mSeries._get_value\u001b[1;34m(self, label, takeable)\u001b[0m\n\u001b[0;32m   1086\u001b[0m     \u001b[38;5;28;01mreturn\u001b[39;00m \u001b[38;5;28mself\u001b[39m\u001b[38;5;241m.\u001b[39m_values[label]\n\u001b[0;32m   1088\u001b[0m \u001b[38;5;66;03m# Similar to Index.get_value, but we do not fall back to positional\u001b[39;00m\n\u001b[1;32m-> 1089\u001b[0m loc \u001b[38;5;241m=\u001b[39m \u001b[38;5;28;43mself\u001b[39;49m\u001b[38;5;241;43m.\u001b[39;49m\u001b[43mindex\u001b[49m\u001b[38;5;241;43m.\u001b[39;49m\u001b[43mget_loc\u001b[49m\u001b[43m(\u001b[49m\u001b[43mlabel\u001b[49m\u001b[43m)\u001b[49m\n\u001b[0;32m   1090\u001b[0m \u001b[38;5;28;01mreturn\u001b[39;00m \u001b[38;5;28mself\u001b[39m\u001b[38;5;241m.\u001b[39mindex\u001b[38;5;241m.\u001b[39m_get_values_for_loc(\u001b[38;5;28mself\u001b[39m, loc, label)\n",
      "File \u001b[1;32m~\\anaconda3\\lib\\site-packages\\pandas\\core\\indexes\\base.py:3804\u001b[0m, in \u001b[0;36mIndex.get_loc\u001b[1;34m(self, key, method, tolerance)\u001b[0m\n\u001b[0;32m   3802\u001b[0m     \u001b[38;5;28;01mreturn\u001b[39;00m \u001b[38;5;28mself\u001b[39m\u001b[38;5;241m.\u001b[39m_engine\u001b[38;5;241m.\u001b[39mget_loc(casted_key)\n\u001b[0;32m   3803\u001b[0m \u001b[38;5;28;01mexcept\u001b[39;00m \u001b[38;5;167;01mKeyError\u001b[39;00m \u001b[38;5;28;01mas\u001b[39;00m err:\n\u001b[1;32m-> 3804\u001b[0m     \u001b[38;5;28;01mraise\u001b[39;00m \u001b[38;5;167;01mKeyError\u001b[39;00m(key) \u001b[38;5;28;01mfrom\u001b[39;00m \u001b[38;5;21;01merr\u001b[39;00m\n\u001b[0;32m   3805\u001b[0m \u001b[38;5;28;01mexcept\u001b[39;00m \u001b[38;5;167;01mTypeError\u001b[39;00m:\n\u001b[0;32m   3806\u001b[0m     \u001b[38;5;66;03m# If we have a listlike key, _check_indexing_error will raise\u001b[39;00m\n\u001b[0;32m   3807\u001b[0m     \u001b[38;5;66;03m#  InvalidIndexError. Otherwise we fall through and re-raise\u001b[39;00m\n\u001b[0;32m   3808\u001b[0m     \u001b[38;5;66;03m#  the TypeError.\u001b[39;00m\n\u001b[0;32m   3809\u001b[0m     \u001b[38;5;28mself\u001b[39m\u001b[38;5;241m.\u001b[39m_check_indexing_error(key)\n",
      "\u001b[1;31mKeyError\u001b[0m: 'evs'"
     ]
    }
   ],
   "source": [
    "# | bt we can't read if not subject exists\n",
    "marks_series['evs']   # won't work since no such subject present in our series"
   ]
  },
  {
   "cell_type": "code",
   "execution_count": 58,
   "id": "b171f923",
   "metadata": {},
   "outputs": [
    {
     "data": {
      "text/plain": [
       "0     13\n",
       "1     24\n",
       "2     56\n",
       "3     78\n",
       "4    100\n",
       "dtype: int64"
      ]
     },
     "execution_count": 58,
     "metadata": {},
     "output_type": "execute_result"
    }
   ],
   "source": [
    "# slicing\n",
    "runs_series"
   ]
  },
  {
   "cell_type": "code",
   "execution_count": 59,
   "id": "40ea7eef",
   "metadata": {},
   "outputs": [
    {
     "data": {
      "text/plain": [
       "0     13\n",
       "1     24\n",
       "2    100\n",
       "3    100\n",
       "4    100\n",
       "dtype: int64"
      ]
     },
     "execution_count": 59,
     "metadata": {},
     "output_type": "execute_result"
    }
   ],
   "source": [
    "# suppose we want to change index position 2 and 3 from runs_series by slicing\n",
    "runs_series[2:4] = [100,100]\n",
    "runs_series"
   ]
  },
  {
   "cell_type": "code",
   "execution_count": 61,
   "id": "e0feb9be",
   "metadata": {},
   "outputs": [
    {
     "data": {
      "text/plain": [
       "0      0\n",
       "1     24\n",
       "2    100\n",
       "3      0\n",
       "4      0\n",
       "dtype: int64"
      ]
     },
     "execution_count": 61,
     "metadata": {},
     "output_type": "execute_result"
    }
   ],
   "source": [
    "# fancy indexing\n",
    "# suppose we want change o,3,4 index position values\n",
    "runs_series[[0,3,4]] = [0,0,0]\n",
    "runs_series"
   ]
  },
  {
   "cell_type": "code",
   "execution_count": 62,
   "id": "1bcaf8ea",
   "metadata": {},
   "outputs": [
    {
     "data": {
      "text/plain": [
       "movie\n",
       "Zor Lagaa Ke...Haiya!            Meghan Jadhav\n",
       "Zokkomon                       Darsheel Safary\n",
       "Zindagi Tere Naam           Mithun Chakraborty\n",
       "Zindagi Na Milegi Dobara        Hrithik Roshan\n",
       "Zindagi 50-50                      Veena Malik\n",
       "                                   ...        \n",
       "2 States (2014 film)              Arjun Kapoor\n",
       "1971 (2007 film)                Manoj Bajpayee\n",
       "1920: The Evil Returns             Vicky Ahuja\n",
       "1920: London                     Sharman Joshi\n",
       "1920 (film)                   Rajniesh Duggall\n",
       "Name: lead, Length: 1500, dtype: object"
      ]
     },
     "execution_count": 62,
     "metadata": {},
     "output_type": "execute_result"
    }
   ],
   "source": [
    "# using index label\n",
    "movies"
   ]
  },
  {
   "cell_type": "code",
   "execution_count": 63,
   "id": "6ffd01b5",
   "metadata": {},
   "outputs": [
    {
     "data": {
      "text/plain": [
       "movie\n",
       "Zor Lagaa Ke...Haiya!            Meghan Jadhav\n",
       "Zokkomon                       Darsheel Safary\n",
       "Zindagi Tere Naam           Mithun Chakraborty\n",
       "Zindagi Na Milegi Dobara        Hrithik Roshan\n",
       "Zindagi 50-50                      Veena Malik\n",
       "                                   ...        \n",
       "2 States (2014 film)                Alia Bhatt\n",
       "1971 (2007 film)                Manoj Bajpayee\n",
       "1920: The Evil Returns             Vicky Ahuja\n",
       "1920: London                     Sharman Joshi\n",
       "1920 (film)                   Rajniesh Duggall\n",
       "Name: lead, Length: 1500, dtype: object"
      ]
     },
     "execution_count": 63,
     "metadata": {},
     "output_type": "execute_result"
    }
   ],
   "source": [
    "# suppose we want to change 2 States (2014 film) lead actor name\n",
    "movies['2 States (2014 film)'] = 'Alia Bhatt'\n",
    "movies"
   ]
  },
  {
   "cell_type": "markdown",
   "id": "c88ccdc1",
   "metadata": {},
   "source": [
    "# Series with Python Functionalities"
   ]
  },
  {
   "cell_type": "code",
   "execution_count": 66,
   "id": "471b405f",
   "metadata": {},
   "outputs": [
    {
     "name": "stdout",
     "output_type": "stream",
     "text": [
      "365\n"
     ]
    }
   ],
   "source": [
    "# len -> shows no of items\n",
    "print(len(subs))"
   ]
  },
  {
   "cell_type": "code",
   "execution_count": 67,
   "id": "9e0e50b2",
   "metadata": {},
   "outputs": [
    {
     "name": "stdout",
     "output_type": "stream",
     "text": [
      "<class 'pandas.core.series.Series'>\n"
     ]
    }
   ],
   "source": [
    "# type -> shows objct/ data type\n",
    "print(type(subs))"
   ]
  },
  {
   "cell_type": "code",
   "execution_count": 68,
   "id": "6ef992cd",
   "metadata": {},
   "outputs": [
    {
     "name": "stdout",
     "output_type": "stream",
     "text": [
      "['T', '_AXIS_LEN', '_AXIS_ORDERS', '_AXIS_TO_AXIS_NUMBER', '_HANDLED_TYPES', '__abs__', '__add__', '__and__', '__annotations__', '__array__', '__array_priority__', '__array_ufunc__', '__array_wrap__', '__bool__', '__class__', '__contains__', '__copy__', '__deepcopy__', '__delattr__', '__delitem__', '__dict__', '__dir__', '__divmod__', '__doc__', '__eq__', '__finalize__', '__float__', '__floordiv__', '__format__', '__ge__', '__getattr__', '__getattribute__', '__getitem__', '__getstate__', '__gt__', '__hash__', '__iadd__', '__iand__', '__ifloordiv__', '__imod__', '__imul__', '__init__', '__init_subclass__', '__int__', '__invert__', '__ior__', '__ipow__', '__isub__', '__iter__', '__itruediv__', '__ixor__', '__le__', '__len__', '__long__', '__lt__', '__matmul__', '__mod__', '__module__', '__mul__', '__ne__', '__neg__', '__new__', '__nonzero__', '__or__', '__pos__', '__pow__', '__radd__', '__rand__', '__rdivmod__', '__reduce__', '__reduce_ex__', '__repr__', '__rfloordiv__', '__rmatmul__', '__rmod__', '__rmul__', '__ror__', '__round__', '__rpow__', '__rsub__', '__rtruediv__', '__rxor__', '__setattr__', '__setitem__', '__setstate__', '__sizeof__', '__str__', '__sub__', '__subclasshook__', '__truediv__', '__weakref__', '__xor__', '_accessors', '_accum_func', '_add_numeric_operations', '_agg_by_level', '_agg_examples_doc', '_agg_see_also_doc', '_align_frame', '_align_series', '_append', '_arith_method', '_as_manager', '_attrs', '_binop', '_can_hold_na', '_check_inplace_and_allows_duplicate_labels', '_check_inplace_setting', '_check_is_chained_assignment_possible', '_check_label_or_level_ambiguity', '_check_setitem_copy', '_clear_item_cache', '_clip_with_one_bound', '_clip_with_scalar', '_cmp_method', '_consolidate', '_consolidate_inplace', '_construct_axes_dict', '_construct_axes_from_arguments', '_construct_result', '_constructor', '_constructor_expanddim', '_convert', '_convert_dtypes', '_data', '_dir_additions', '_dir_deletions', '_drop_axis', '_drop_labels_or_levels', '_duplicated', '_find_valid_index', '_flags', '_get_axis', '_get_axis_name', '_get_axis_number', '_get_axis_resolvers', '_get_block_manager_axis', '_get_bool_data', '_get_cacher', '_get_cleaned_column_resolvers', '_get_index_resolvers', '_get_label_or_level_values', '_get_numeric_data', '_get_value', '_get_values', '_get_values_tuple', '_get_with', '_gotitem', '_hidden_attrs', '_indexed_same', '_info_axis', '_info_axis_name', '_info_axis_number', '_init_dict', '_init_mgr', '_inplace_method', '_internal_names', '_internal_names_set', '_is_cached', '_is_copy', '_is_label_or_level_reference', '_is_label_reference', '_is_level_reference', '_is_mixed_type', '_is_view', '_item_cache', '_ixs', '_logical_func', '_logical_method', '_map_values', '_maybe_update_cacher', '_memory_usage', '_metadata', '_mgr', '_min_count_stat_function', '_name', '_needs_reindex_multi', '_protect_consolidate', '_reduce', '_reindex_axes', '_reindex_indexer', '_reindex_multi', '_reindex_with_indexers', '_rename', '_replace_single', '_repr_data_resource_', '_repr_latex_', '_reset_cache', '_reset_cacher', '_set_as_cached', '_set_axis', '_set_axis_name', '_set_axis_nocheck', '_set_is_copy', '_set_labels', '_set_name', '_set_value', '_set_values', '_set_with', '_set_with_engine', '_slice', '_stat_axis', '_stat_axis_name', '_stat_axis_number', '_stat_function', '_stat_function_ddof', '_take', '_take_with_is_copy', '_typ', '_update_inplace', '_validate_dtype', '_values', '_where', 'abs', 'add', 'add_prefix', 'add_suffix', 'agg', 'aggregate', 'align', 'all', 'any', 'append', 'apply', 'argmax', 'argmin', 'argsort', 'array', 'asfreq', 'asof', 'astype', 'at', 'at_time', 'attrs', 'autocorr', 'axes', 'backfill', 'between', 'between_time', 'bfill', 'bool', 'clip', 'combine', 'combine_first', 'compare', 'convert_dtypes', 'copy', 'corr', 'count', 'cov', 'cummax', 'cummin', 'cumprod', 'cumsum', 'describe', 'diff', 'div', 'divide', 'divmod', 'dot', 'drop', 'drop_duplicates', 'droplevel', 'dropna', 'dtype', 'dtypes', 'duplicated', 'empty', 'eq', 'equals', 'ewm', 'expanding', 'explode', 'factorize', 'ffill', 'fillna', 'filter', 'first', 'first_valid_index', 'flags', 'floordiv', 'ge', 'get', 'groupby', 'gt', 'hasnans', 'head', 'hist', 'iat', 'idxmax', 'idxmin', 'iloc', 'index', 'infer_objects', 'info', 'interpolate', 'is_monotonic', 'is_monotonic_decreasing', 'is_monotonic_increasing', 'is_unique', 'isin', 'isna', 'isnull', 'item', 'items', 'iteritems', 'keys', 'kurt', 'kurtosis', 'last', 'last_valid_index', 'le', 'loc', 'lt', 'mad', 'map', 'mask', 'max', 'mean', 'median', 'memory_usage', 'min', 'mod', 'mode', 'mul', 'multiply', 'name', 'nbytes', 'ndim', 'ne', 'nlargest', 'notna', 'notnull', 'nsmallest', 'nunique', 'pad', 'pct_change', 'pipe', 'plot', 'pop', 'pow', 'prod', 'product', 'quantile', 'radd', 'rank', 'ravel', 'rdiv', 'rdivmod', 'reindex', 'reindex_like', 'rename', 'rename_axis', 'reorder_levels', 'repeat', 'replace', 'resample', 'reset_index', 'rfloordiv', 'rmod', 'rmul', 'rolling', 'round', 'rpow', 'rsub', 'rtruediv', 'sample', 'searchsorted', 'sem', 'set_axis', 'set_flags', 'shape', 'shift', 'size', 'skew', 'slice_shift', 'sort_index', 'sort_values', 'squeeze', 'std', 'sub', 'subtract', 'sum', 'swapaxes', 'swaplevel', 'tail', 'take', 'to_clipboard', 'to_csv', 'to_dict', 'to_excel', 'to_frame', 'to_hdf', 'to_json', 'to_latex', 'to_list', 'to_markdown', 'to_numpy', 'to_period', 'to_pickle', 'to_sql', 'to_string', 'to_timestamp', 'to_xarray', 'transform', 'transpose', 'truediv', 'truncate', 'tz_convert', 'tz_localize', 'unique', 'unstack', 'update', 'value_counts', 'values', 'var', 'view', 'where', 'xs']\n"
     ]
    }
   ],
   "source": [
    "# dir -> shows all attributes and methods inside Series class\n",
    "print(dir(subs))"
   ]
  },
  {
   "cell_type": "code",
   "execution_count": 72,
   "id": "263c2ca2",
   "metadata": {},
   "outputs": [
    {
     "name": "stdout",
     "output_type": "stream",
     "text": [
      "[33, 33, 35, 37, 39, 40, 40, 40, 40, 42, 42, 43, 44, 44, 44, 45, 46, 46, 48, 49, 49, 49, 49, 50, 50, 50, 51, 54, 56, 56, 56, 56, 57, 61, 62, 64, 65, 65, 66, 66, 66, 66, 67, 68, 70, 70, 70, 71, 71, 72, 72, 72, 72, 72, 73, 74, 74, 75, 76, 76, 76, 76, 77, 77, 78, 78, 78, 79, 79, 80, 80, 80, 81, 81, 82, 82, 83, 83, 83, 84, 84, 84, 85, 86, 86, 86, 87, 87, 87, 87, 88, 88, 88, 88, 88, 89, 89, 89, 90, 90, 90, 90, 91, 92, 92, 92, 93, 93, 93, 93, 95, 95, 96, 96, 96, 96, 97, 97, 98, 98, 99, 99, 100, 100, 100, 101, 101, 101, 102, 102, 103, 103, 104, 104, 104, 105, 105, 105, 105, 105, 105, 105, 105, 105, 108, 108, 108, 108, 108, 108, 109, 109, 110, 110, 110, 111, 111, 112, 113, 113, 113, 114, 114, 114, 114, 115, 115, 115, 115, 117, 117, 117, 118, 118, 119, 119, 119, 119, 120, 122, 123, 123, 123, 123, 123, 124, 125, 126, 127, 128, 128, 129, 130, 131, 131, 132, 132, 134, 134, 134, 135, 135, 136, 136, 136, 137, 138, 138, 138, 139, 140, 144, 145, 146, 146, 146, 146, 147, 149, 150, 150, 150, 150, 151, 152, 152, 152, 153, 153, 153, 154, 154, 154, 155, 155, 156, 156, 156, 156, 157, 157, 157, 157, 158, 158, 159, 159, 160, 160, 160, 160, 162, 164, 166, 167, 167, 168, 170, 170, 170, 170, 171, 172, 172, 173, 173, 173, 174, 174, 175, 175, 176, 176, 177, 178, 179, 179, 180, 180, 180, 182, 183, 183, 183, 184, 184, 184, 185, 185, 185, 185, 186, 186, 186, 188, 189, 190, 190, 192, 192, 192, 196, 196, 196, 197, 197, 202, 202, 202, 203, 204, 206, 207, 209, 210, 210, 211, 212, 213, 214, 216, 219, 220, 221, 221, 222, 222, 224, 225, 225, 226, 227, 228, 229, 230, 231, 233, 236, 236, 237, 241, 243, 244, 245, 247, 249, 254, 254, 258, 259, 259, 261, 261, 265, 267, 268, 269, 276, 276, 290, 295, 301, 306, 312, 396]\n"
     ]
    }
   ],
   "source": [
    "# /sorted -> sort values in ascending order in a list\n",
    "print(sorted(subs)) "
   ]
  },
  {
   "cell_type": "code",
   "execution_count": 70,
   "id": "2dbcd576",
   "metadata": {},
   "outputs": [
    {
     "name": "stdout",
     "output_type": "stream",
     "text": [
      "33\n"
     ]
    }
   ],
   "source": [
    "# /min -> gives minimum value\n",
    "print(min(subs))"
   ]
  },
  {
   "cell_type": "code",
   "execution_count": 73,
   "id": "927d829e",
   "metadata": {},
   "outputs": [
    {
     "name": "stdout",
     "output_type": "stream",
     "text": [
      "396\n"
     ]
    }
   ],
   "source": [
    "# /max -> gives maximum value\n",
    "print(max(subs))"
   ]
  },
  {
   "cell_type": "code",
   "execution_count": 74,
   "id": "a0e2e39f",
   "metadata": {},
   "outputs": [
    {
     "data": {
      "text/plain": [
       "[67, 100, 89, 100, 90]"
      ]
     },
     "execution_count": 74,
     "metadata": {},
     "output_type": "execute_result"
    }
   ],
   "source": [
    "# type conversion Series -> list\n",
    "list(marks_series)"
   ]
  },
  {
   "cell_type": "code",
   "execution_count": 75,
   "id": "ad9e6a70",
   "metadata": {},
   "outputs": [
    {
     "data": {
      "text/plain": [
       "{'maths': 67, 'english': 100, 'science': 89, 'bengali': 100, 'sst': 90}"
      ]
     },
     "execution_count": 75,
     "metadata": {},
     "output_type": "execute_result"
    }
   ],
   "source": [
    "# type conversion Series -> dict\n",
    "dict(marks_series)"
   ]
  },
  {
   "cell_type": "code",
   "execution_count": 76,
   "id": "f77678b7",
   "metadata": {
    "scrolled": true
   },
   "outputs": [
    {
     "data": {
      "text/plain": [
       "movie\n",
       "Zor Lagaa Ke...Haiya!            Meghan Jadhav\n",
       "Zokkomon                       Darsheel Safary\n",
       "Zindagi Tere Naam           Mithun Chakraborty\n",
       "Zindagi Na Milegi Dobara        Hrithik Roshan\n",
       "Zindagi 50-50                      Veena Malik\n",
       "                                   ...        \n",
       "2 States (2014 film)                Alia Bhatt\n",
       "1971 (2007 film)                Manoj Bajpayee\n",
       "1920: The Evil Returns             Vicky Ahuja\n",
       "1920: London                     Sharman Joshi\n",
       "1920 (film)                   Rajniesh Duggall\n",
       "Name: lead, Length: 1500, dtype: object"
      ]
     },
     "execution_count": 76,
     "metadata": {},
     "output_type": "execute_result"
    }
   ],
   "source": [
    "movies"
   ]
  },
  {
   "cell_type": "code",
   "execution_count": 77,
   "id": "968d60b0",
   "metadata": {},
   "outputs": [
    {
     "data": {
      "text/plain": [
       "True"
      ]
     },
     "execution_count": 77,
     "metadata": {},
     "output_type": "execute_result"
    }
   ],
   "source": [
    "# membership operator\n",
    "# suppose a movie  name is inside the series or not\n",
    "'Zindagi Na Milegi Dobara' in movies            # by default in operator works on index"
   ]
  },
  {
   "cell_type": "code",
   "execution_count": 80,
   "id": "3c57cd8b",
   "metadata": {},
   "outputs": [
    {
     "data": {
      "text/plain": [
       "False"
      ]
     },
     "execution_count": 80,
     "metadata": {},
     "output_type": "execute_result"
    }
   ],
   "source": [
    "# let's try whether it's works on values by giving actor name\n",
    "'Hrithik Roshan' in movies                # giving false since in operator search on index not in values"
   ]
  },
  {
   "cell_type": "code",
   "execution_count": 81,
   "id": "50b681f2",
   "metadata": {},
   "outputs": [
    {
     "data": {
      "text/plain": [
       "True"
      ]
     },
     "execution_count": 81,
     "metadata": {},
     "output_type": "execute_result"
    }
   ],
   "source": [
    "# in order to search values with in operator \n",
    "'Hrithik Roshan' in movies.values            # we have to mention index_name.values"
   ]
  },
  {
   "cell_type": "code",
   "execution_count": 82,
   "id": "b4ff448d",
   "metadata": {},
   "outputs": [
    {
     "name": "stdout",
     "output_type": "stream",
     "text": [
      "Meghan Jadhav\n",
      "Darsheel Safary\n",
      "Mithun Chakraborty\n",
      "Hrithik Roshan\n",
      "Veena Malik\n",
      "Sushmita Sen\n",
      "Sanjay Dutt\n",
      "Vivek Oberoi\n",
      "Mannara Chopra\n",
      "Shah Rukh Khan\n",
      "Emraan Hashmi\n",
      "Vinod Acharya\n",
      "Ajay Devgn\n",
      "Ajay Devgn\n",
      "Jeetendra\n",
      "Salman Khan\n",
      "Ajay Devgn\n",
      "Paresh Rawal\n",
      "Jackky Bhagnani\n",
      "Vardhan Puri\n",
      "Anupam Kher\n",
      "Shah Rukh Khan\n",
      "Anya Anand\n",
      "Ranbir Kapoor\n",
      "Gavie Chahal\n",
      "Anshuman Jha\n",
      "Deepshika Nagpal\n",
      "Tusshar Kapoor\n",
      "Rekha\n",
      "Dharmendra\n",
      "Nafisa Ali\n",
      "Arjun Rampal\n",
      "Prisha Aneja\n",
      "Siddhanth Kapoor\n",
      "Indrapal Ahuja\n",
      "Sharman Joshi\n",
      "Sikander Kher\n",
      "Kangana Ranaut\n",
      "Emraan Hashmi\n",
      "Harman Baweja\n",
      "Manu Rishi Chadha\n",
      "Boman Irani\n",
      "Shreyas Talpade\n",
      "Anil Kapoor\n",
      "Arshad Warsi\n",
      "Akshay Kumar\n",
      "Diganth\n",
      "Nana Patekar\n",
      "Gurdas Maan\n",
      "Sharman Joshi\n",
      "Amitabh Bachchan\n",
      "Salman Khan\n",
      "Ranbir Kapoor\n",
      "Elisha Kriis\n",
      "Sharman Joshi\n",
      "Naseeruddin Shah\n",
      "Arshad Warsi\n",
      "Shreyas Talpade\n",
      "Rajesh Khanna\n",
      "Niharica Raizada\n",
      "Leeza Mangaldas\n",
      "Kay Kay Menon\n",
      "Shahid Kapoor\n",
      "Kamal Haasan\n",
      "Amitabh Bachchan\n",
      "Vikram Aditya\n",
      "Harman Baweja\n",
      "Ayushmann Khurrana\n",
      "Hugh Bonneville\n",
      "Kay Kay Menon\n",
      "Pulkit Samrat\n",
      "Sachiin Joshi\n",
      "Shah Rukh Khan\n",
      "Salman Khan\n",
      "Shikhi Gupta\n",
      "Vicky Ahuja\n",
      "Shahid Kapoor\n",
      "Bobby Deol\n",
      "Arjun Rampal\n",
      "Mohit Baghel\n",
      "Priyanshu Chatterjee\n",
      "Vinay Pathak\n",
      "Vicky Kaushal\n",
      "Russell Geoffrey Banks\n",
      "Rahul Bhat\n",
      "Emraan Hashmi\n",
      "Aashish Bhatt\n",
      "Aishwarya Rai Bachchan\n",
      "Jimmy Sheirgill\n",
      "Sunny Singh Nijjar\n",
      "Rahul Bhat\n",
      "Shahid Kapoor\n",
      "Rajat Barmecha\n",
      "Mikaal\n",
      "Ajay Devgn\n",
      "Gul Panag\n",
      "Emraan Hashmi\n",
      "Vidya Balan\n",
      "Sohum Shah\n",
      "Nana Patekar\n",
      "Emraan Hashmi\n",
      "Neha Sharma\n",
      "Manisha Koirala\n",
      "Riteish Deshmukh\n",
      "Salman Khan\n",
      "Vikrum Kumar\n",
      "Rajkummar Rao\n",
      "Kunal Khemu\n",
      "Manoj Bajpayee\n",
      "Ali Zafar\n",
      "Ajay Devgn\n",
      "Ajay Devgn\n",
      "Rakesh Bedi\n",
      "Akshay Kumar\n",
      "Tabu\n",
      "Nishant Dahiya\n",
      "Nawazuddin Siddiqui\n",
      "Salman Khan\n",
      "Aamir Khan\n",
      "Saahil Chadha\n",
      "Arya Babbar\n",
      "Saif Ali Khan\n",
      "Bhavita Anand\n",
      "Sonam Kapoor\n",
      "Himesh Reshammiya\n",
      "Emraan Hashmi\n",
      "Naseeruddin Shah\n",
      "Kay Kay Menon\n",
      "Zaira Wasim\n",
      "Mann Bagga\n",
      "Akshay Kumar\n",
      "Edwin Fernandes\n",
      "Kal Penn\n",
      "Irrfan Khan\n",
      "Amitabh Bachchan\n",
      "Irrfan Khan\n",
      "Shakti Kapoor\n",
      "Rahul Bose\n",
      "Sunny Deol\n",
      "Rana Daggubati\n",
      "Kunaal Roy Kapur\n",
      "Ranvir Shorey\n",
      "Nassar Abdulla\n",
      "Vidya Balan\n",
      "Nawazuddin Siddiqui\n",
      "Kartik Elangovan\n",
      "Pankaj Kapur\n",
      "Anupam Kher\n",
      "Master Shams\n",
      "Akshay Kumar\n",
      "Nawazuddin Siddiqui\n",
      "Anil Kapoor\n",
      "Arjun Kapoor\n",
      "Shahid Kapoor\n",
      "Salman Khan\n",
      "Riteish Deshmukh\n",
      "Vinay Pathak\n",
      "Parthaa Akerkar\n",
      "Ali Zafar\n",
      "Neil Nitin Mukesh\n",
      "Dharmendra\n",
      "Shabana Azmi\n",
      "Sunny Deol\n",
      "Akshay Kumar\n",
      "Om Puri\n",
      "Amitabh Bachchan\n",
      "Amitabh Bachchan\n",
      "Nana Patekar\n",
      "Sanjay Dutt\n",
      "Akshay Kumar\n",
      "Kangana Ranaut\n",
      "Kangana Ranaut\n",
      "Madhavan\n",
      "Ajay Devgn\n",
      "Nikhil Dwivedi\n",
      "Irrfan Khan\n",
      "Rakhee Gulzar\n",
      "Aamir Khan\n",
      "Sulabha Arya\n",
      "Zulfi Sayed\n",
      "Victor Banerjee\n",
      "Paresh Rawal\n",
      "Vatsal Sheth\n",
      "Darsheel Safary\n",
      "Saif Ali Khan\n",
      "Himansh Kohli\n",
      "Manoj Bajpayee\n",
      "Shah Rukh Khan\n",
      "Rekha\n",
      "Ashmit Patel\n",
      "Hrithik Roshan\n",
      "Aftab Shivdasani\n",
      "Jaya Bachchan\n",
      "Ajay Devgn\n",
      "Ahraz Ahmed\n",
      "Salman Khan\n",
      "Naveen Kasturia\n",
      "Gurdas Maan\n",
      "Anushka Sharma\n",
      "Raveena Tandon\n",
      "Tiger Shroff\n",
      "Alia Bhatt\n",
      "Zeenat Aman\n",
      "Siddharth\n",
      "Rajkummar Rao\n",
      "Jimmy Sheirgill\n",
      "Jahangir Khan\n",
      "Kanika Batra\n",
      "Partho A. Gupte\n",
      "Aarti Chhabria\n",
      "Tanishaa Mukerji\n",
      "Urmila Matondkar\n",
      "Akshay Kumar\n",
      "Rati Agnihotri\n",
      "Mahima Chaudhry\n",
      "Shamim Khan\n",
      "Shabana Azmi\n",
      "Tinnu Anand\n",
      "Kartik Aaryan\n",
      "Sunidhi Chauhan\n",
      "Geetika Vidya Ohlyan\n",
      "Sushant Singh Rajput\n",
      "Rhea Chakraborty\n",
      "Ajay Devgn\n",
      "Abhay Deol\n",
      "Barkha Madan\n",
      "Wamiqa Gabbi\n",
      "Kay Kay Menon\n",
      "Anupam Kher\n",
      "Ajay Devgn\n",
      "Sunny Deol\n",
      "Akshay Kumar\n",
      "Akshay Kumar\n",
      "Kangana Ranaut\n",
      "Ranveer Singh\n",
      "Tabu\n",
      "Parzaan Dastur\n",
      "Rajesh Tailang\n",
      "Anupam Kher\n",
      "Sushant Singh Rajput\n",
      "Ayushmann Khurrana\n",
      "Tushar Jalota\n",
      "Sanjay Dutt\n",
      "Jimmy Sheirgill\n",
      "Neil Nitin Mukesh\n",
      "Jimmy Sheirgill\n",
      "Sendhil Ramamurthy\n",
      "Amitabh Bachchan\n",
      "Sanjeev Kumar\n",
      "Ajay Devgn\n",
      "Mohit Ahlawat\n",
      "Freny Bhagat\n",
      "Aida Elkashef\n",
      "Ajay Devgn\n",
      "Neha Dhupia\n",
      "Tarun Arora\n",
      "Tusshar Kapoor\n",
      "Zayed Khan\n",
      "Emraan Hashmi\n",
      "Amitabh Bachchan\n",
      "Bobby Deol\n",
      "Kalki Koechlin\n",
      "Rajkummar Rao\n",
      "Nana Patekar\n",
      "Isha Koppikar\n",
      "Ashutosh Rana\n",
      "Sanjay Dutt\n",
      "Ashish Bisht\n",
      "Aditya Narayan\n",
      "Shahid Kapoor\n",
      "Akshaye Khanna\n",
      "Fardeen Khan\n",
      "Rajkummar Rao\n",
      "Farhan Akhtar\n",
      "Salman Khan\n",
      "Sanjay Suri\n",
      "Shreyas Talpade\n",
      "Arshad Warsi\n",
      "Akshaye Khanna\n",
      "Zaira Wasim\n",
      "Dharmendra\n",
      "Mandar Jadhav\n",
      "John Abraham\n",
      "Amitabh Bachchan\n",
      "Puneet Singh Ratn\n",
      "Raveena Tandon\n",
      "Sanjay Mishra\n",
      "Suraj Pancholi\n",
      "Amitabh Bachchan\n",
      "Amitabh Bachchan\n",
      "Amitabh Bachchan\n",
      "Mahima Chaudhry\n",
      "Randeep Hooda\n",
      "Boman Irani\n",
      "Kay Kay Menon\n",
      "Ranbir Kapoor\n",
      "Govinda\n",
      "Rishi Kapoor\n",
      "Rajeev Khandelwal\n",
      "Sushmita Sen\n",
      "Zeenat Aman\n",
      "Salman Khan\n",
      "Saif Ali Khan\n",
      "Anupam Kher\n",
      "Jimmy Sheirgill\n",
      "Sanjay Dutt\n",
      "Jimmy Sheirgill\n",
      "Rekha\n",
      "Karan Sharma\n",
      "Sarika\n",
      "Sachin Tendulkar\n",
      "Swara Bhaskar\n",
      "John Abraham\n",
      "Rani Mukerji\n",
      "Salman Khan\n",
      "Vivek Oberoi\n",
      "Manoj Bajpayee\n",
      "Kiron Kher\n",
      "Vishwa Mohan Badola\n",
      "Sonarika Bhadoria\n",
      "Tanima Bhattacharya\n",
      "Taapsee Pannu\n",
      "Jacqueline Fernandez\n",
      "Ileana D'Cruz\n",
      "Emraan Hashmi\n",
      "Arsh Bajwa\n",
      "Abhishek Bachchan\n",
      "Tanuja\n",
      "Manoj Bajpayee\n",
      "Sanjay Dutt\n",
      "Arjun Rampal\n",
      "Tannishtha Chatterjee\n",
      "Tanushree Dutta\n",
      "Sunny Deol\n",
      "Irrfan Khan\n",
      "John Abraham\n",
      "Ranbir Kapoor\n",
      "Ranbir Kapoor\n",
      "Arjun Rampal\n",
      "Farhan Akhtar\n",
      "Aadil Chahal\n",
      "Saif Ali Khan\n",
      "Paresh Rawal\n",
      "Rajesh Khanna\n",
      "Garima Agarwal\n",
      "Vinod Khanna\n",
      "Sunny Deol\n",
      "Ankit\n",
      "Kalki Koechlin\n",
      "Kangana Ranaut\n",
      "Kashmira Shah\n",
      "Aftab Shivdasani\n",
      "Sherlyn Chopra\n",
      "Sunil Shetty\n",
      "Prince Shah\n",
      "Ajay Devgn\n",
      "Rahul Khanna\n",
      "Amitabh Bachchan\n",
      "Jackky Bhagnani\n",
      "Kangana Ranaut\n",
      "Randeep Hooda\n",
      "Aamir Khan\n",
      "Soundarya Sharma\n",
      "Manish Paul\n",
      "Naseeruddin Shah\n",
      "Madhavan\n",
      "Manoj Bajpayee\n",
      "Nawazuddin Siddiqui\n",
      "Shruti Haasan\n",
      "Sahil Khan\n",
      "Julia Datt\n",
      "Sanjay Dutt\n",
      "Amyra Dastur\n",
      "Kangana Ranaut\n",
      "Emraan Hashmi\n",
      "Sadashiv Amrapurkar\n",
      "Ajay Devgn\n",
      "Ajay Devgn\n",
      "Kay Kay Menon\n",
      "Sunny Leone\n",
      "Kainaz Motivala\n",
      "Vijay Raaz\n",
      "Raj Arjun\n",
      "Anil Kapoor\n",
      "Saif Ali Khan\n",
      "Saif Ali Khan\n",
      "Shah Rukh Khan\n",
      "Alia Bhatt\n",
      "Kangana Ranaut\n",
      "Emraan Hashmi\n",
      "Dino Morea\n",
      "Abhishek Bachchan\n",
      "Aamir Bashir\n",
      "Dhanush\n",
      "Kunal Kapoor\n",
      "Deepika Padukone\n",
      "Shah Rukh Khan\n",
      "Rajendra Prasad\n",
      "Kangana Ranaut\n",
      "Irrfan Khan\n",
      "Ajay Devgn\n",
      "Irrfan Khan\n",
      "Aadar Jain\n",
      "Fardeen Khan\n",
      "Rishi Kapoor\n",
      "Rahul Bose\n",
      "Kartik Aaryan\n",
      "Kartik Aaryan\n",
      "Priyanka Chopra\n",
      "Tanuj Virwani\n",
      "Vivek Oberoi\n",
      "Salman Khan\n",
      "Arbaaz Khan\n",
      "Jeetendra\n",
      "Sanjay Dutt\n",
      "Rajeev Khandelwal\n",
      "Chandan Roy Sanyal\n",
      "Raveena Tandon\n",
      "Sunny Deol\n",
      "Akshay Kapoor\n",
      "Sanjay Dutt\n",
      "Akshay Kumar\n",
      "Vinod Khanna\n",
      "Sanjay Dutt\n",
      "Akshay Oberoi\n",
      "Taapsee Pannu\n",
      "Urmila Matondkar\n",
      "Deepika Padukone\n",
      "Rahul Bagga\n",
      "Nawazuddin Siddiqui\n",
      "Sudeep\n",
      "Radhika Apte\n",
      "Salman Khan\n",
      "Mithun Chakraborty\n",
      "Akshay Kumar\n",
      "Anushka Sharma\n",
      "Rajniesh Duggall\n",
      "Shahid Kapoor\n",
      "Rajat Kapoor\n",
      "Saif Ali Khan\n",
      "Jimmy Sheirgill\n",
      "Vinod Khanna\n",
      "Omkar Das Manikpuri\n",
      "Shreyas Talpade\n",
      "Rishi Kapoor\n",
      "Kartik Aaryan\n",
      "Rishi Kapoor\n",
      "Sanya Malhotra\n",
      "Ajay Devgn\n",
      "Salman Khan\n",
      "John Abraham\n",
      "Saif Ali Khan\n",
      "Tannishtha Chatterjee\n",
      "Mohinder Gujral\n",
      "Bipasha Basu\n",
      "Nayna Bandhopadhyay\n",
      "Jackie Shroff\n",
      "Karan Deol\n",
      "Manisha Koirala\n",
      "Shah Rukh Khan\n",
      "Konkona Sen Sharma\n",
      "Kriti Kharbanda\n",
      "Sunil Shetty\n",
      "Deepika Padukone\n",
      "Nana Patekar\n",
      "John Abraham\n",
      "Nassar Abdulla\n",
      "Irrfan Khan\n",
      "Amitabh Bachchan\n",
      "Boman Irani\n",
      "Aamir Khan\n",
      "Bhavesh Kumar\n",
      "Meenakshi Dixit\n",
      "Abhay Deol\n",
      "Riteish Deshmukh\n",
      "Abhay Deol\n",
      "Tusshar Kapoor\n",
      "Anupam Kher\n",
      "Akshay Kumar\n",
      "Ajay Devgn\n",
      "Ajay Devgn\n",
      "Rajkummar Rao\n",
      "Gopi Desai\n",
      "Shah Rukh Khan\n",
      "Attin Bhalla\n",
      "Shraddha Kapoor\n",
      "Vinay Pathak\n",
      "Varun Dhawan\n",
      "Paresh Rawal\n",
      "Pulkit Samrat\n",
      "Madhavan\n",
      "Zaheer Iqbal\n",
      "Deepak Dobriyal\n",
      "Sunny Leone\n",
      "John Abraham\n",
      "Sanjay Dutt\n",
      "Rani Mukerji\n",
      "Anil Kapoor\n",
      "Amitabh Bachchan\n",
      "Ashmit Patel\n",
      "Swara Bhaskar\n",
      "Rajkummar Rao\n",
      "John Abraham\n",
      "Vinay Anand\n",
      "Sanjay Dutt\n",
      "Sonam Kapoor\n",
      "Uday Chopra\n",
      "Vikas Kalantri\n",
      "Dharmesh Yelande\n",
      "Ayushmann Khurrana\n",
      "Govinda\n",
      "Poonam Pandey\n",
      "Bobby Deol\n",
      "Abhay Deol\n",
      "Dwij Yadav\n",
      "Akshay Kumar\n",
      "Arjun Kapoor\n",
      "Sunny Deol\n",
      "Urmila Matondkar\n",
      "Taapsee Pannu\n",
      "Antara Mali\n",
      "Om Puri\n",
      "Anushka Sharma\n",
      "Auroshika Dey\n",
      "Anil Kapoor\n",
      "Shah Rukh Khan\n",
      "Prateik\n",
      "Sanjay Suri\n",
      "Jason Lewis\n",
      "Nora Fatehi\n",
      "Aftab Shivdasani\n",
      "Anil Kapoor\n",
      "Randeep Hooda\n",
      "Emraan Hashmi\n",
      "Mallika Sherawat\n",
      "Sanjay Singh\n",
      "Tiger Shroff\n",
      "Sanjay Dutt\n",
      "Kiron Kher\n",
      "Alieesa P Badresia\n",
      "Abhishek Bachchan\n",
      "Linda Arsenio\n",
      "Paresh Rawal\n",
      "Rahul Bose\n",
      "Mohsin\n",
      "Shiv Panditt\n",
      "Shakti Kapoor\n",
      "Karanvir Bohra\n",
      "Taapsee Pannu\n",
      "Viineet Kumar\n",
      "Sammir Dattani\n",
      "Salman Khan\n",
      "Saqib Saleem\n",
      "Prithviraj Kapoor\n",
      "Anil Kapoor\n",
      "Emraan Hashmi\n",
      "Prashant Narayanan\n",
      "Anupam Kher\n",
      "Dev Anand\n",
      "Saurav Chakraborty\n",
      "Nawazuddin Siddiqui\n",
      "Shabana Azmi\n",
      "Vijay Varma\n",
      "Ashutosh Rana\n",
      "Govinda\n",
      "Sridevi\n",
      "Hrithik Roshan\n",
      "Sunny Deol\n",
      "Neha Dhupia\n",
      "Hazel Croney\n",
      "Jackky Bhagnani\n",
      "Akshay Kumar\n",
      "Vivek Oberoi\n",
      "Manoj Bajpayee\n",
      "Rahul Bagga\n",
      "Harshvardhan Kapoor\n",
      "Arunoday Singh\n",
      "Chirag Paswan\n",
      "Kareena Kapoor\n",
      "Manish Paul\n",
      "Ayushmann Khurrana\n",
      "Akshay Kumar\n",
      "Rasika Agashe\n",
      "Akshay Kumar\n",
      "Yash Acharya\n",
      "Sunil Shetty\n",
      "Saqib Saleem\n",
      "Imran Khan\n",
      "Paresh Rawal\n",
      "Prabhu Deva\n",
      "Deepti Naval\n",
      "Puru Chibber\n",
      "Jaideep Ahlawat\n",
      "Anupam Kher\n",
      "Tabu\n",
      "Sonu Sood\n",
      "Shahid Kapoor\n",
      "Tulip Joshi\n",
      "Imran Khan\n",
      "Rahul Bagga\n",
      "Tusshar Kapoor\n",
      "Aftab Shivdasani\n",
      "Richa Chadha\n",
      "Priyanka Chopra\n",
      "Archana Joglekar\n",
      "Manisha Koirala\n",
      "Riteish Deshmukh\n",
      "Salman Khan\n",
      "Kalki Koechlin\n",
      "Rani Mukerji\n",
      "Rani Mukerji\n",
      "Abhimanyu Dasani\n",
      "Irrfan Khan\n",
      "Rajat Kapoor\n",
      "Nawazuddin Siddiqui\n",
      "Abhay Deol\n",
      "Taapsee Pannu\n",
      "Anjori Alagh\n",
      "Nawazuddin Siddiqui\n",
      "Kangana Ranaut\n",
      "Aamir Khan\n",
      "Akanksha\n",
      "Paresh Rawal\n",
      "Salman Khan\n",
      "Anupam Kher\n",
      "Varun Dhawan\n",
      "Hrithik Roshan\n",
      "Rajpal Yadav\n",
      "Antara Mali\n",
      "Juhi Chawla\n",
      "Smitha Gondkar\n",
      "Shah Rukh Khan\n",
      "Salman Khan\n",
      "Barun Sobti\n",
      "Ajay Devgn\n",
      "Asha Bhosle\n",
      "Sooraj Balaji\n",
      "John Abraham\n",
      "Bipasha Basu\n",
      "Rajkummar Rao\n",
      "Irrfan Khan\n",
      "Saahil Prem\n",
      "Kiara Advani\n",
      "Swara Bhaskar\n",
      "Sumit Nijhawan\n",
      "Raveena Tandon\n",
      "Mallika Sherawat\n",
      "Ashok Insan\n",
      "Gurmeet Ram Rahim Singh\n",
      "Charanpreet Insan\n",
      "Menekka Arora\n",
      "Sushant Singh Rajput\n",
      "Tom Alter\n",
      "Tanuj Virwani\n",
      "V. Ravichandran\n",
      "Salman Khan\n",
      "Arvinder Bhatti\n",
      "Farhan Akhtar\n",
      "Adhyayan Suman\n",
      "Farhan Akhtar\n",
      "Mithun Chakraborty\n",
      "Girish Taurani\n",
      "Vicky Kaushal\n",
      "Joy Mukherjee\n",
      "Tusshar Kapoor\n",
      "Harman Baweja\n",
      "Abhishek Bharate\n",
      "Anuj Sachdeva\n",
      "Nushrat Bharucha\n",
      "Rishi Kapoor\n",
      "Patralekhaa Paul\n",
      "Zayed Khan\n",
      "Saif Ali Khan\n",
      "Ranveer Singh\n",
      "Salman Khan\n",
      "Shabana Azmi\n",
      "Himanshu Bhatt\n",
      "John Abraham\n",
      "Farooq Shaikh\n",
      "Aahana Kumra\n",
      "Dharmendra\n",
      "Govinda\n",
      "Aftab Shivdasani\n",
      "Kay Kay Menon\n",
      "Manoj Amarnani\n",
      "Rituparna Sengupta\n",
      "Armaan Jain\n",
      "Sanjay Dutt\n",
      "Hrithik Roshan\n",
      "Monali Thakur\n",
      "Sunny Deol\n",
      "Avinash Tiwary\n",
      "Farooq Shaikh\n",
      "Sanjay Dutt\n",
      "Neil Nitin Mukesh\n",
      "Ranveer Singh\n",
      "Randeep Hooda\n",
      "Rani Mukerji\n",
      "Sanjay Dutt\n",
      "Amitabh Bachchan\n",
      "Salman Khan\n",
      "Riteish Deshmukh\n",
      "Tusshar Kapoor\n",
      "Tusshar Kapoor\n",
      "Tusshar Kapoor\n",
      "Vijay Raaz\n",
      "Rajpal Yadav\n",
      "Lewis Tan\n",
      "Siddharth Gupta\n",
      "Rekha\n",
      "Arshad Warsi\n",
      "Geetanjali Thapa\n",
      "Aishwarya Rai Bachchan\n",
      "Ram Kapoor\n",
      "Tusshar Kapoor\n",
      "Shefali Shah\n",
      "Rekha\n",
      "Sohail Khan\n",
      "Manoj Bajpayee\n",
      "Juhi Chawla\n",
      "Kannan Arunachalam\n",
      "Rekha\n",
      "Dia Mirza\n",
      "Aftab Shivdasani\n",
      "Sanjay Dutt\n",
      "Hrithik Roshan\n",
      "Arshad Warsi\n",
      "Vivek Oberoi\n",
      "Vivek Oberoi\n",
      "Shahid Kapoor\n",
      "Bobby Deol\n",
      "Jackie Shroff\n",
      "Kapil Sharma\n",
      "Mallika Sherawat\n",
      "Ranveer Singh\n",
      "Salman Khan\n",
      "Amitabh Bachchan\n",
      "Himanshu Malik\n",
      "Simer Motiani\n",
      "Fardeen Khan\n",
      "Sunny Deol\n",
      "Shiney Ahuja\n",
      "Anupam Kher\n",
      "Sonam Kapoor\n",
      "Supriya Pathak\n",
      "Sunny Deol\n",
      "Hazel Croney\n",
      "Akshay Kumar\n",
      "Rahul Jaiswal\n",
      "Gurmeet Choudhary\n",
      "Prabhu Deva\n",
      "Shilpa Shetty Kundra\n",
      "Kiron Kher\n",
      "Amitabh Bachchan\n",
      "Vinay Pathak\n",
      "Akshay Kumar\n",
      "Shahbaaz Khan\n",
      "Kunal Kapoor\n",
      "Raqesh Bapat\n",
      "Suhaas Ahuja\n",
      "Juhi Babbar\n",
      "Lucky Ali\n",
      "Himesh Reshammiya\n",
      "Irrfan Khan\n",
      "Siddhartha Gupta\n",
      "Rati Agnihotri\n",
      "Shiv Darshan\n",
      "Mahek Chahal\n",
      "John Abraham\n",
      "Sidharth Malhotra\n",
      "Shahid Kapoor\n",
      "Kunal Khemu\n",
      "Varun Dhawan\n",
      "Shah Rukh Khan\n",
      "Amit Hingorani\n",
      "Rajkummar Rao\n",
      "Eesha Agarwal\n",
      "Vidya Balan\n",
      "Om Puri\n",
      "Sanjay Mishra\n",
      "John Abraham\n",
      "Shahid Kapoor\n",
      "Amitabh Bachchan\n",
      "Aishwarya Devan\n",
      "Amitabh Bachchan\n",
      "Kartik Aaryan\n",
      "Aditya Srivastava\n",
      "Saif Ali Khan\n",
      "Ajay Devgn\n",
      "Vinay Pathak\n",
      "Hrithik Roshan\n",
      "Fardeen Khan\n",
      "Kamal Adib\n",
      "Pulkit Samrat\n",
      "Vidyut Jammwal\n",
      "Nishikant Kamat\n",
      "Neha Dhupia\n",
      "Sadhana Singh\n",
      "Varun Dhawan\n",
      "Kangana Ranaut\n",
      "Arshad Warsi\n",
      "Akshay Kumar\n",
      "Dharmendra\n",
      "Naseeruddin Shah\n",
      "Victor Banerjee\n",
      "Bipasha Basu\n",
      "Hrithik Roshan\n",
      "Sunny Gill\n",
      "Sunny Deol\n",
      "Bipasha Basu\n",
      "Mimoh Chakraborty\n",
      "Nassar Abdulla\n",
      "Harshvardhan Deo\n",
      "Richa Chadha\n",
      "Rishi Kapoor\n",
      "John Abraham\n",
      "Abhishek Bachchan\n",
      "Sanjay Suri\n",
      "Boman Irani\n",
      "Arbaaz Khan\n",
      "Ravi Kishan\n",
      "Aishwarya Rai Bachchan\n",
      "Vivek Oberoi\n",
      "Emraan Hashmi\n",
      "Amardeep Insan\n",
      "Emraan Hashmi\n",
      "Feroz Khan\n",
      "Mohit Ahlawat\n",
      "Harish Chabbra\n",
      "Rhea Chakraborty\n",
      "Purab Kohli\n",
      "Javed Jaffrey\n",
      "Manoj Bajpayee\n",
      "Fardeen Khan\n",
      "Rati Agnihotri\n",
      "Salman Khan\n",
      "Priyanka Chopra\n",
      "Chiranjeevi\n",
      "Govinda\n",
      "Ranbir Kapoor\n",
      "Naseeruddin Shah\n",
      "Amit Sadh\n",
      "Sidharth Malhotra\n",
      "Shahid Kapoor\n",
      "Shah Rukh Khan\n",
      "Shah Rukh Khan\n",
      "Akshay Anand\n",
      "Priyanka Chopra\n",
      "Aftab Shivdasani\n",
      "Salman Khan\n",
      "Sunny Deol\n",
      "Rina Charaniya\n",
      "Sanjeev Bhaskar\n",
      "Prateik\n",
      "Vinay Pathak\n",
      "Akshay Oberoi\n",
      "Vidya Balan\n",
      "Manish Anand\n",
      "Mimoh Chakraborty\n",
      "Shahid Kapoor\n",
      "Rishi Verma\n",
      "Dino Morea\n",
      "Krishna Chaturvedi\n",
      "Sara Loren\n",
      "Preity Zinta\n",
      "Arjun Kapoor\n",
      "Madhavan\n",
      "Naseeruddin Shah\n",
      "Amarjeet\n",
      "Shreyas Talpade\n",
      "Manoj Bajpayee\n",
      "Ashmit Patel\n",
      "Akshay Kumar\n",
      "Dino Morea\n",
      "Arjun Rampal\n",
      "Kirti Kulhari\n",
      "Jaz Pandher\n",
      "Arjun Kapoor\n",
      "Vivek Sudershan\n",
      "Arjun Rampal\n",
      "Sohail Khan\n",
      "Sunny Deol\n",
      "Shakti Anand\n",
      "Imran Khan\n",
      "Gulshan Grover\n",
      "Juhi Chawla\n",
      "Tisca Chopra\n",
      "Gulshan Devaiah\n",
      "Akshaye Khanna\n",
      "Saif Ali Khan\n",
      "Varun Dhawan\n",
      "Omkar Bhatkar\n",
      "Arjun Rampal\n",
      "Akshay Kumar\n",
      "Karanvir Bohra\n",
      "Shah Rukh Khan\n",
      "Tusshar Kapoor\n",
      "Arshad Warsi\n",
      "Saif Ali Khan\n",
      "Anupam Kher\n",
      "Prit Kamani\n",
      "Akshaye Khanna\n",
      "Akshay Kumar\n",
      "Akshay Kumar\n",
      "Akshay Kumar\n",
      "Adil Hussain\n",
      "Vatsal Sheth\n",
      "Karan Kundrra\n",
      "Naseeruddin Shah\n",
      "Zara Sheikh\n",
      "Ranvir Shorey\n",
      "Vivek Oberoi\n",
      "Akshay Kumar\n",
      "Onjolee Nair\n",
      "Mallika Sherawat\n",
      "Irrfan Khan\n",
      "Gurmeet Ram Rahim Singh\n",
      "Ajay Devgn\n",
      "Alia Bhatt\n",
      "Sumeet Vyas\n",
      "Rani Mukerji\n",
      "Juanna Sanghvi\n",
      "Ganesh Acharya\n",
      "Tiger Shroff\n",
      "Kareena Kapoor\n",
      "Sohail Khan\n",
      "Suraj Pancholi\n",
      "Bobby Deol\n",
      "Gul Panag\n",
      "Sharman Joshi\n",
      "Kajol\n",
      "Adhyayan Suman\n",
      "Kay Kay Menon\n",
      "Babbu Mann\n",
      "Shawar Ali\n",
      "Naman Jain\n",
      "Makrand Deshpande\n",
      "Tabu\n",
      "Aniket Vishwasrao\n",
      "Mimoh Chakraborty\n",
      "Akshay Kumar\n",
      "Nana Patekar\n",
      "Lee Byford\n",
      "Jay Bhanushali\n",
      "Nikhil Dwivedi\n",
      "Jimmy Sheirgill\n",
      "Shraddha Kapoor\n",
      "Sidharth Malhotra\n",
      "Jackie Shroff\n",
      "Nawazuddin Siddiqui\n",
      "Sonakshi Sinha\n",
      "Shah Rukh Khan\n",
      "Anay\n",
      "Saif Ali Khan\n",
      "Diana Penty\n",
      "Mukesh Khanna\n",
      "Talha Arshad Reshi\n",
      "Rajkummar Rao\n",
      "Ajay Devgn\n",
      "Paoli Dam\n",
      "Shraddha Kapoor\n",
      "Tabu\n",
      "Sahil Anand\n",
      "Jimmy Sheirgill\n",
      "Amita Pathak\n",
      "Hrithik Roshan\n",
      "Mithun Chakraborty\n",
      "Ranveer Singh\n",
      "Dino Morea\n",
      "Ranveer Singh\n",
      "Sampat Pal Devi\n",
      "Kay Kay Menon\n",
      "Madhuri Dixit\n",
      "Kartik Aaryan\n",
      "Arshad Warsi\n",
      "Kunal Khemu\n",
      "Vikram Dasu\n",
      "Urvashi Rautela\n",
      "Vivek Oberoi\n",
      "Vinay Pathak\n",
      "Imran Khan\n",
      "Akshay Kumar\n",
      "Tusshar Kapoor\n",
      "Deepika Amin\n",
      "Ajay Devgn\n",
      "Ajay Devgn\n",
      "Ajay Devgn\n",
      "Dimple Kapadia\n",
      "Ranveer Singh\n",
      "Akshay Kumar\n",
      "Amitabh Bachchan\n",
      "John Abraham\n",
      "Saif Ali Khan\n",
      "Gautam Gupta\n",
      "Pankaj Tripathi\n",
      "Isha Koppikar\n",
      "Riya Vij\n",
      "Sanaya Irani\n",
      "Shiney Ahuja\n",
      "Sunny Deol\n",
      "Vidya Balan\n",
      "Aamir Khan\n",
      "Utkarsh Sharma\n",
      "Tusshar Kapoor\n",
      "Mohan Azaad\n",
      "Naresh Sharma\n",
      "Salman Khan\n",
      "Akshay Kumar\n",
      "Kangana Ranaut\n",
      "Manoj Bajpayee\n",
      "Manoj Bajpayee\n",
      "Sarita Joshi\n",
      "Ajay Devgn\n",
      "Sharman Joshi\n",
      "Akshaye Khanna\n",
      "Abhishek Bachchan\n",
      "Manoj Bajpayee\n",
      "Akshay Kumar\n",
      "Akshay Kumar\n",
      "Rajveer Ankur Singh\n",
      "Rushali Arora\n",
      "Siddharth Koirala\n",
      "Pulkit Samrat\n",
      "Pulkit Samrat\n",
      "Jimmy Sheirgill\n",
      "Shubham\n",
      "Govinda\n",
      "Atmaram Bhende\n",
      "Bidita Bag\n",
      "Avinash Dhyani\n",
      "Nawazuddin Siddiqui\n",
      "Arshad Warsi\n",
      "Arjun Rampal\n",
      "John Abraham\n",
      "John Abraham\n",
      "Aftab Shivdasani\n",
      "Shahid Kapoor\n",
      "Reef Karim\n",
      "Jayesh Raj\n",
      "Aditya Roy Kapoor\n",
      "Kapil Sharma\n",
      "Inaamulhaq\n",
      "Deepika Padukone\n",
      "Sharib Hashmi\n",
      "Sunil Shetty\n",
      "Kareena Kapoor\n",
      "Rajeev Khandelwal\n",
      "Sharman Joshi\n",
      "Gul Panag\n",
      "Priyanka Chopra\n",
      "Shilpa Shetty Kundra\n",
      "Aamir Khan\n",
      "Shah Rukh Khan\n",
      "Arjun Rampal\n",
      "Jimmy Sheirgill\n",
      "Amitabh Bachchan\n",
      "Arshad Warsi\n",
      "Mona Ambegaonkar\n",
      "Manisha Koirala\n",
      "Akshay Kumar\n",
      "Sridevi\n",
      "Sunil Shetty\n",
      "Arjun Rampal\n",
      "Amitabh Bachchan\n",
      "Anupam Kher\n",
      "Prateik\n",
      "Bobby Deol\n",
      "Isha Koppikar\n",
      "Sidharth Malhotra\n",
      "Hema Malini\n",
      "Emraan Hashmi\n",
      "Salman Khan\n",
      "Bhushan Agarwal\n",
      "Anita\n",
      "Sunil Shetty\n",
      "Sunny Leone\n",
      "Kareena Kapoor\n",
      "Fardeen Khan\n",
      "Jimmy Sharma\n",
      "Saif Ali Khan\n",
      "Shiv Darshan\n",
      "Rahul Bose\n",
      "Abhay Deol\n",
      "Sanjay Dutt\n",
      "Nandita Das\n",
      "Amitabh Bachchan\n",
      "Raj Tara\n",
      "Arbaaz Khan\n",
      "Sanjay Dutt\n",
      "Zeenat Aman\n",
      "Abhishek Bachchan\n",
      "Ayushmann Khurrana\n",
      "Vivek Oberoi\n",
      "Sushmita Sen\n",
      "Diwakar Pathak\n",
      "Jayshree Arora\n",
      "Ajay Devgn\n",
      "Aseel Adel\n",
      "Ayushmann Khurrana\n",
      "Sanjay Dutt\n",
      "Ayesha Jhulka\n",
      "Akshay Kumar\n",
      "Abhishek Bachchan\n",
      "Ayesha Takia\n",
      "Ronit Roy\n",
      "Rishi Kapoor\n",
      "Mithun Chakraborty\n",
      "Shah Rukh Khan\n",
      "Shah Rukh Khan\n",
      "Malaika Arora\n",
      "Jackie Shroff\n",
      "Adil Hussain\n",
      "Kajal Aggarwal\n",
      "Rishi Kapoor\n",
      "John Abraham\n",
      "Harman Baweja\n",
      "Anupam Kher\n",
      "Rajniesh Duggall\n",
      "Shah Rukh Khan\n",
      "Ira Dubey\n",
      "Zeenat Aman\n",
      "Ajay Devgn\n",
      "Kapil Jhaveri\n",
      "Salman Khan\n",
      "Shahid Kapoor\n",
      "Irrfan Khan\n",
      "Arjun Rampal\n",
      "Taapsee Pannu\n",
      "Himansh Kohli\n",
      "Amitabh Bachchan\n",
      "Imaaduddin Shah\n",
      "Emraan Hashmi\n",
      "Anil Kapoor\n",
      "Shahid Kapoor\n",
      "Vikaas Kalantari\n",
      "Sushant Singh Rajput\n",
      "Amar Upadhyaya\n",
      "Om Puri\n",
      "Paresh Rawal\n",
      "Aamir Khan\n",
      "Hrithik Roshan\n",
      "Abhishek Bachchan\n",
      "Sharman Joshi\n",
      "Muzamil Ibrahim\n",
      "Prateik\n",
      "Ajay Devgn\n",
      "Pankaj Kapur\n",
      "Naseeruddin Shah\n",
      "Krrish Chhabria\n",
      "Sanjay Dutt\n",
      "Ishaan Khattar\n",
      "RJ Balaji\n",
      "Shah Rukh Khan\n",
      "Ram Kapoor\n",
      "Amitabh Bachchan\n",
      "Sushant Singh Rajput\n",
      "Sasha Aagha\n",
      "Akshay Kumar\n",
      "Kamal Rashid Khan\n",
      "Sanjay Dutt\n",
      "Waheeda Rehman\n",
      "Cary Elwes\n",
      "Imran Khan\n",
      "Satish Kaushik\n",
      "Adhyayan Suman\n",
      "Akshay Kumar\n",
      "Amitabh Bachchan\n",
      "Madhuri Dixit\n",
      "Alia Bhatt\n",
      "Manisha Koirala\n",
      "Raghuvir Yadav\n",
      "Arvind Swamy\n",
      "Rajit Kapoor\n",
      "Aftab Shivdasani\n",
      "Ajay Devgn\n",
      "Akshay Kumar\n",
      "Yash Soni\n",
      "Vinay Pathak\n",
      "Neil Nitin Mukesh\n",
      "Ishrat Ali\n",
      "Jimmy Sheirgill\n",
      "Amitabh Bachchan\n",
      "Sameera Reddy\n",
      "Fardeen Khan\n",
      "Karisma Kapoor\n",
      "Aamir Khan\n",
      "Himesh Reshammiya\n",
      "Sunil Shetty\n",
      "Arjun Rampal\n",
      "Salman Khan\n",
      "Salman Khan\n",
      "Salman Khan\n",
      "Aditya Roy Kapoor\n",
      "Yogesh Raj Mishra\n",
      "Rishi Kapoor\n",
      "Randeep Hooda\n",
      "Emraan Hashmi\n",
      "Bipasha Basu\n",
      "Swanand Kirkire\n",
      "Vira Sathidar\n",
      "Bipasha Basu\n",
      "Adhvik Mahajan\n",
      "Ajay Devgn\n",
      "Vidyut Jammwal\n",
      "Vidyut Jammwal\n",
      "Sunil Grover\n",
      "Arjun Mathur\n",
      "Saif Ali Khan\n",
      "Shreyas Talpade\n",
      "Mithun Chakraborty\n",
      "Rajkummar Rao\n",
      "Sachin Khedekar\n",
      "Ashok Banthia\n",
      "Zayed Khan\n",
      "Kareena Kapoor\n",
      "Ajay Devgn\n",
      "Deepak Dobriyal\n",
      "Anil Kapoor\n",
      "Manoj Bajpayee\n",
      "Rishi Kapoor\n",
      "Sushmita Sen\n",
      "Parveen Kaur\n",
      "Aarav Khanna\n",
      "Farooq Shaikh\n",
      "Mohammad Amir Naji\n",
      "Natalia Janoszek\n",
      "Rupa Bhimani\n",
      "Jimmy Sheirgill\n",
      "Jatin Grewal\n",
      "Deepika Padukone\n",
      "Bipasha Basu\n",
      "Saif Ali Khan\n",
      "Amitabh Bachchan\n",
      "Sanjay Dutt\n",
      "Ali Zafar\n",
      "Anuj Saxena\n",
      "Dev Anand\n",
      "Jimmy Sheirgill\n",
      "Mithun Chakraborty\n",
      "Samir Aftab\n",
      "Somesh Agarwal\n",
      "Shahid Kapoor\n",
      "Bobby Deol\n",
      "Kareena Kapoor\n",
      "Shah Rukh Khan\n",
      "Vinay Pathak\n",
      "Vickrant Mahajan\n",
      "Richa Chadha\n",
      "Sagar Bhangade\n",
      "Asrani\n",
      "Arjun Rampal\n",
      "Shah Rukh Khan\n",
      "Soha Ali Khan\n",
      "Tusshar Kapoor\n",
      "Naseeruddin Shah\n",
      "Aryan Vaid\n",
      "Ajay Devgn\n",
      "Akanksha Puri\n",
      "Anil Kapoor\n",
      "Hemant Gopal\n",
      "Tusshar Kapoor\n",
      "Neil Nitin Mukesh\n",
      "Abhishek Bachchan\n",
      "Seema Azmi\n",
      "Atul Kulkarni\n",
      "Kavin Dave\n",
      "Saif Ali Khan\n",
      "Saayli Buva\n",
      "Aanchal Dwivedi\n",
      "Mona Ambegaonkar\n",
      "Apoorva Arora\n",
      "Akshay Kumar\n",
      "Arjun Mathur\n",
      "Vinay Virmani\n",
      "Deepika Padukone\n",
      "Shashank Arora\n",
      "Akshay Kumar\n",
      "Sanjay Dutt\n",
      "Amitabh Bachchan\n",
      "Sunil Pal\n",
      "Shreyas Talpade\n",
      "Ranbir Kapoor\n",
      "Rani Mukerji\n",
      "Radhika Apte\n",
      "Raima Sen\n",
      "Amitabh Bachchan\n",
      "Salman Khan\n",
      "Vidya Balan\n",
      "Abhishek Bachchan\n",
      "Akshay Kumar\n",
      "Akash\n",
      "Manish Chaudhary\n",
      "Jazzy Doe\n",
      "Ajay Devgn\n",
      "Kay Kay Menon\n",
      "Amitabh Bachchan\n",
      "Pulkit Samrat\n",
      "Danny Denzongpa\n",
      "Naushaad Abbas\n",
      "Irrfan Khan\n",
      "Sunny Deol\n",
      "Dino Morea\n",
      "Mischa Barton\n",
      "Amitabh Bachchan\n",
      "Amitabh Bachchan\n",
      "Jackie Shroff\n",
      "J.D. Chakravarthi\n",
      "Ajay Devgn\n",
      "Sunny Leone\n",
      "Akshay Kumar\n",
      "Ali Asgar\n",
      "Vinay Pathak\n",
      "Vinay Pathak\n",
      "Harshvardhan Kapoor\n",
      "Shaurya Singh\n",
      "Sunny Deol\n",
      "Tabu\n",
      "Akshay Kumar\n",
      "Farhan Akhtar\n",
      "Kunal Khemu\n",
      "Mugdha Godse\n",
      "Ishaan Khattar\n",
      "Ayushmann Khurrana\n",
      "Anil Kapoor\n",
      "Naseeruddin Shah\n",
      "Sunny Leone\n",
      "Rajkummar Rao\n",
      "Amitabh Bachchan\n",
      "Vaani Kapoor\n",
      "Amitabh Bachchan\n",
      "Reshmi Ghosh\n",
      "Shahid Kapoor\n",
      "Vicky Ahuja\n",
      "John Abraham\n",
      "Sadashiv Amrapurkar\n",
      "Juhi Chawla\n",
      "Bobby Deol\n",
      "Sara Loren\n",
      "Ranbir Kapoor\n",
      "Ayushmann Khurrana\n",
      "Bobby Deol\n",
      "Naseeruddin Shah\n",
      "Riteish Deshmukh\n",
      "Riteish Deshmukh\n",
      "Jacqueline Fernandez\n",
      "Hrithik Roshan\n",
      "Manisha Kelkar\n",
      "Ranveer Singh\n",
      "Urmila Matondkar\n",
      "Asrani\n",
      "Ayushmann Khurrana\n",
      "Salman Khan\n",
      "Ranveer Singh\n",
      "Tusshar Kapoor\n",
      "Amitabh Bachchan\n",
      "Varun Dhawan\n",
      "Sidhant Gupta\n",
      "Annu Kapoor\n",
      "Varun Dhawan\n",
      "Amitabh Bachchan\n",
      "Ayushmann Khurrana\n",
      "Ranbir Kapoor\n",
      "Rekha\n",
      "Manoj Babani\n",
      "Akshay Kumar\n",
      "Nawazuddin Siddiqui\n",
      "Sudha Chandran\n",
      "Sahil Anand\n",
      "Radhika Apte\n",
      "Jackie Shroff\n",
      "Anisa Butt\n",
      "Sidharth Malhotra\n",
      "Tiger Shroff\n",
      "Shraddha Kapoor\n",
      "Amitabh Bachchan\n",
      "Mithun Chakraborty\n",
      "Shadab Kamal\n",
      "Emraan Hashmi\n",
      "Emraan Hashmi\n",
      "Akshay Kumar\n",
      "Prakash Belawadi\n",
      "Arjun Kapoor\n",
      "Krishna Abhishek\n",
      "Asrani\n",
      "Arjun Rampal\n",
      "Sohail Khan\n",
      "Ayushmann Khurrana\n",
      "Amitabh Bachchan\n",
      "Yudhveer Bakoliya\n",
      "Diljit Dosanjh\n",
      "Dharmendra\n",
      "Bobby Darling\n",
      "Irrfan Khan\n",
      "Rohit Roy\n",
      "Ajay Devgn\n",
      "Nauheed Cyrusi\n",
      "Sachin Khedekar\n",
      "Sanjay Dutt\n",
      "Raj Singh Chaudhary\n",
      "Shashank Udapurkar\n",
      "Kay Kay Menon\n",
      "Sanjay Mishra\n",
      "Aftab Shivdasani\n",
      "Manisha Koirala\n",
      "Priyanka Chopra\n",
      "Sumit Arora\n",
      "Ayushmann Khurrana\n",
      "Akshay Kumar\n",
      "Akshay Kumar\n",
      "Dino Morea\n",
      "Pankaj Tripathi\n",
      "Vir Das\n",
      "Ali Asgar\n",
      "Lillete Dubey\n",
      "Aftab Shivdasani\n",
      "Bipasha Basu\n",
      "Varun Bhagwat\n",
      "Sanjay Dutt\n",
      "Rishi Kapoor\n",
      "Sukhesh Arora\n",
      "Manav Kaul\n",
      "Akshay Kapoor\n",
      "Amitabh Bachchan\n",
      "Zareen Khan\n",
      "Emraan Hashmi\n",
      "Kartik Aaryan\n",
      "Sushama Deshpande\n",
      "Ranbir Kapoor\n",
      "Jackky Bhagnani\n",
      "Rani Mukerji\n",
      "Sidharth Malhotra\n",
      "Akshay Kumar\n",
      "Yashpal Sharma\n",
      "Rati Agnihotri\n",
      "Akshay Kumar\n",
      "Abhay Deol\n",
      "Jimmy Sheirgill\n",
      "Hrithik Roshan\n",
      "Tusshar Kapoor\n",
      "Kareena Kapoor\n",
      "Amitabh Bachchan\n",
      "Ranbir Kapoor\n",
      "Rahul Dev\n",
      "Akshay Kumar\n",
      "Prabhas\n",
      "Fardeen Khan\n",
      "Farooq Shaikh\n",
      "Amitabh Bachchan\n",
      "Nana Patekar\n",
      "Sachiin Joshi\n",
      "Hrishitaa Bhatt\n",
      "Ishaan Manhaas\n",
      "Aditya Roy Kapoor\n",
      "Emraan Hashmi\n",
      "John Abraham\n",
      "Amitabh Bachchan\n",
      "Priyanshu Chatterjee\n",
      "Akshaye Khanna\n",
      "Himesh Reshammiya\n",
      "Amitabh Bachchan\n",
      "Arun Bakshi\n",
      "Shatrughan Sinha\n",
      "Omkar Das Manikpuri\n",
      "Ajay Devgn\n",
      "Paul Sidhu\n",
      "Madhuri Dixit\n",
      "Sudesh Berry\n",
      "Shreyas Talpade\n",
      "Amitabh Bachchan\n",
      "Naveen Bawa\n",
      "Govinda\n",
      "Neil Nitin Mukesh\n",
      "Prabhu Deva\n",
      "Sidharth Malhotra\n",
      "Tiger Shroff\n",
      "Jimmy Sheirgill\n",
      "Shabana Azmi\n",
      "Kiran Bhatia\n",
      "Shawar Ali\n",
      "Kunal Khemu\n",
      "Atul Kulkarni\n",
      "Juhi Chawla\n",
      "Priyanka Chopra\n",
      "Vipin Sharma\n",
      "Mouli Ganguly\n",
      "Nargis Fakhri\n",
      "Sara Arjun\n",
      "Neil Nitin Mukesh\n",
      "Akshaye Khanna\n",
      "Soha Ali Khan\n",
      "Aisha Ahmed\n",
      "Aamir Khan\n",
      "Naseeruddin Shah\n",
      "Salil Acharya\n",
      "Barun Sobti\n",
      "Alia Bhatt\n",
      "Manoj Bajpayee\n",
      "Vicky Ahuja\n",
      "Sharman Joshi\n",
      "Rajniesh Duggall\n"
     ]
    }
   ],
   "source": [
    "# looping            # here will get values Note ;- membership op works in index, While loop works in values\n",
    "for i in movies:\n",
    "    print(i)"
   ]
  },
  {
   "cell_type": "code",
   "execution_count": 84,
   "id": "14881035",
   "metadata": {},
   "outputs": [
    {
     "name": "stdout",
     "output_type": "stream",
     "text": [
      "Zor Lagaa Ke...Haiya!\n",
      "Zokkomon\n",
      "Zindagi Tere Naam\n",
      "Zindagi Na Milegi Dobara\n",
      "Zindagi 50-50\n",
      "Zindaggi Rocks\n",
      "Zinda (film)\n",
      "Zila Ghaziabad\n",
      "Zid (2014 film)\n",
      "Zero (2018 film)\n",
      "Zeher\n",
      "Zed Plus\n",
      "Zameer: The Fire Within\n",
      "Zameen (2003 film)\n",
      "Zamaanat\n",
      "Yuvvraaj\n",
      "Yuva\n",
      "Yun Hota Toh Kya Hota\n",
      "Youngistaan\n",
      "Yeh Saali Aashiqui\n",
      "Yeh Mera India\n",
      "Yeh Lamhe Judaai Ke\n",
      "Yeh Khula Aasmaan\n",
      "Yeh Jawaani Hai Deewani\n",
      "Yeh Hai India\n",
      "Yeh Hai Bakrapur\n",
      "Yeh Dooriyan\n",
      "Yeh Dil\n",
      "Yatra (2007 film)\n",
      "Yamla Pagla Deewana: Phir Se\n",
      "Yamla Pagla Deewana\n",
      "Yakeen (2005 film)\n",
      "Yadvi – The Dignified Princess\n",
      "Yaaram (2019 film)\n",
      "Ya Rab\n",
      "Xcuse Me\n",
      "Woodstock Villa\n",
      "Woh Lamhe...\n",
      "Why Cheat India\n",
      "What's Your Raashee?\n",
      "What the Fish\n",
      "Well Done Abba\n",
      "Welcome to Sajjanpur\n",
      "Welcome Back (film)\n",
      "Welcome 2 Karachi\n",
      "Welcome (2007 film)\n",
      "Wedding Pullav\n",
      "Wedding Anniversary\n",
      "Waris Shah: Ishq Daa Waaris\n",
      "War Chhod Na Yaar\n",
      "Waqt: The Race Against Time\n",
      "Wanted (2009 film)\n",
      "Wake Up Sid\n",
      "Wake Up India\n",
      "Wajah Tum Ho\n",
      "Waiting (2015 film)\n",
      "Waisa Bhi Hota Hai Part II\n",
      "Wah Taj\n",
      "Wafa: A Deadly Love Story\n",
      "Waarrior Savitri\n",
      "W (2014 film)\n",
      "Vodka Diaries\n",
      "Vivah\n",
      "Vishwaroopam\n",
      "Viruddh... Family Comes First\n",
      "Vidyaarthi\n",
      "Victory (2009 film)\n",
      "Vicky Donor\n",
      "Viceroy's House (film)\n",
      "Via Darjeeling\n",
      "Veerey Ki Wedding\n",
      "Veerappan (2016 film)\n",
      "Veer-Zaara\n",
      "Veer (2010 film)\n",
      "Valentine's Night\n",
      "Vaastu Shastra (film)\n",
      "Vaah! Life Ho Toh Aisi!\n",
      "Vaada Raha\n",
      "Vaada (film)\n",
      "Uvaa\n",
      "Utthaan\n",
      "Utt Pataang\n",
      "Uri: The Surgical Strike\n",
      "United Six\n",
      "Union Leader (film)\n",
      "Ungli\n",
      "Umrika\n",
      "Umrao Jaan (2006 film)\n",
      "Umar (film)\n",
      "Ujda Chaman\n",
      "Ugly (film)\n",
      "Udta Punjab\n",
      "Udaan (2010 film)\n",
      "U R My Jaan\n",
      "U Me Aur Hum\n",
      "Turning 30\n",
      "Tumsa Nahin Dekha: A Love Story\n",
      "Tumhari Sulu\n",
      "Tumbbad\n",
      "Tum Milo Toh Sahi\n",
      "Tum Mile\n",
      "Tum Bin II\n",
      "Tulsi (film)\n",
      "Tujhe Meri Kasam\n",
      "Tubelight (2017 Hindi film)\n",
      "Trump Card (film)\n",
      "Trapped (2016 Hindi film)\n",
      "Traffic Signal (film)\n",
      "Traffic (2016 film)\n",
      "Total Siyapaa\n",
      "Total Dhamaal\n",
      "Toonpur Ka Super Hero\n",
      "Tom Dick and Harry (2006 film)\n",
      "Toilet: Ek Prem Katha\n",
      "Toh Baat Pakki!\n",
      "Titoo MBA\n",
      "Titli (2014 film)\n",
      "Tiger Zinda Hai\n",
      "Thugs of Hindostan\n",
      "Thodi Life Thoda Magic\n",
      "Thoda Tum Badlo Thoda Hum\n",
      "Thoda Pyaar Thoda Magic\n",
      "Thoda Lutf Thoda Ishq\n",
      "The Zoya Factor (film)\n",
      "The Xposé\n",
      "The Train (2007 film)\n",
      "The Tashkent Files\n",
      "The Stoneman Murders\n",
      "The Sky Is Pink\n",
      "The Silent Heroes\n",
      "The Shaukeens\n",
      "The Pink Mirror\n",
      "The Namesake (film)\n",
      "The Lunchbox\n",
      "The Last Lear\n",
      "The Killer (2006 film)\n",
      "The Journey of Karma\n",
      "The Japanese Wife\n",
      "The Hero: Love Story of a Spy\n",
      "The Ghazi Attack\n",
      "The Final Exit\n",
      "The Film Emotional Atyachar\n",
      "The Film\n",
      "The Dirty Picture\n",
      "The Bypass\n",
      "The Blueberry Hunt\n",
      "The Blue Umbrella (2005 film)\n",
      "The Accidental Prime Minister (film)\n",
      "Thanks Maa\n",
      "Thank You (2011 film)\n",
      "Thackeray (film)\n",
      "Tezz\n",
      "Tevar\n",
      "Teri Meri Kahaani (film)\n",
      "Tere Naam\n",
      "Tere Naal Love Ho Gaya\n",
      "Tere Mere Phere\n",
      "Tere Bin Laden: Dead or Alive\n",
      "Tere Bin Laden\n",
      "Tera Kya Hoga Johnny\n",
      "Tell Me O Kkhuda\n",
      "Tehzeeb (2003 film)\n",
      "Teesri Aankh: The Hidden Camera\n",
      "Tees Maar Khan (2010 film)\n",
      "Teen Thay Bhai\n",
      "Teen Patti (film)\n",
      "Te3n\n",
      "Taxi No. 9211\n",
      "Tathastu\n",
      "Tashan (film)\n",
      "Tanu Weds Manu: Returns\n",
      "Tanu Weds Manu: Returns\n",
      "Tanu Weds Manu\n",
      "Tango Charlie\n",
      "Tamanchey\n",
      "Talvar (film)\n",
      "Talaash: The Hunt Begins...\n",
      "Talaash: The Answer Lies Within\n",
      "Take It Easy (2015 film)\n",
      "Taj Mahal: An Eternal Love Story\n",
      "Tahaan\n",
      "Table No. 21\n",
      "Taarzan: The Wonder Car\n",
      "Taare Zameen Par\n",
      "Ta Ra Rum Pum\n",
      "Sweetiee Weds NRI\n",
      "Swami (2007 film)\n",
      "Swades\n",
      "Super Nani\n",
      "Super Model (film)\n",
      "Super 30 (film)\n",
      "Suno Sasurjee\n",
      "Sunglass (film)\n",
      "Sunday (2008 film)\n",
      "Summer 2007\n",
      "Sultan (2016 film)\n",
      "Sulemani Keeda\n",
      "Sukhmani: Hope for Life\n",
      "Sui Dhaaga\n",
      "Stumped (film)\n",
      "Student of the Year 2\n",
      "Student of the Year\n",
      "Strings of Passion\n",
      "Striker (2010 film)\n",
      "Stree (2018 film)\n",
      "Strangers (2007 Hindi film)\n",
      "Staying Alive (2012 film)\n",
      "Station (2014 film)\n",
      "Stanley Ka Dabba\n",
      "Ssukh\n",
      "Sssshhh...\n",
      "Speed (2007 film)\n",
      "Special 26\n",
      "Spark (2014 film)\n",
      "Souten: The Other Woman\n",
      "Sorry Daddy\n",
      "Sorry Bhai!\n",
      "Sooper Se Ooper\n",
      "Sonu Ke Titu Ki Sweety\n",
      "Sons of Ram\n",
      "Soni (film)\n",
      "Sonchiriya\n",
      "Sonali Cable\n",
      "Son of Sardaar\n",
      "Socha Na Tha\n",
      "Soch Lo\n",
      "Sixteen (2013 Indian film)\n",
      "Sirf (film)\n",
      "Singham Returns\n",
      "Singham\n",
      "Singh Saab the Great\n",
      "Singh Is Kinng\n",
      "Singh Is Bliing\n",
      "Simran (film)\n",
      "Simmba\n",
      "Silsiilay\n",
      "Sikandar (2009 film)\n",
      "Siddharth (2013 film)\n",
      "Shukriya: Till Death Do Us Apart\n",
      "Shuddh Desi Romance\n",
      "Shubh Mangal Saavdhan\n",
      "Showbiz (film)\n",
      "Shortkut\n",
      "Shortcut Safari\n",
      "Shortcut Romeo\n",
      "Shorgul\n",
      "Shor in the City\n",
      "Shootout at Lokhandwala\n",
      "Sholay\n",
      "Shivaay\n",
      "Shiva (2006 film)\n",
      "Shirin Farhad Ki Toh Nikal Padi\n",
      "Ship of Theseus (film)\n",
      "Shikhar (film)\n",
      "Sheesha (2005 film)\n",
      "Sheen (film)\n",
      "Shart: The Challenge\n",
      "Sharafat Gayi Tel Lene\n",
      "Shanghai (2012 film)\n",
      "Shamitabh\n",
      "Shakalaka Boom Boom\n",
      "Shaitan (film)\n",
      "Shahid (film)\n",
      "Shagird (2011 film)\n",
      "Shabri\n",
      "Shabnam Mausi\n",
      "Shabd (film)\n",
      "Shab (film)\n",
      "Shaapit\n",
      "Shaandaar\n",
      "Shaadi Se Pehle\n",
      "Shaadi No. 1\n",
      "Shaadi Mein Zaroor Aana\n",
      "Shaadi Ke Side Effects\n",
      "Shaadi Karke Phas Gaya Yaar\n",
      "Shaadi Ka Laddoo\n",
      "Setters (film)\n",
      "Sehar\n",
      "Section 375\n",
      "Secret Superstar\n",
      "Second Hand Husband\n",
      "Say Salaam India\n",
      "Satyameva Jayate (2018 film)\n",
      "Satyagraha (film)\n",
      "Satya 2\n",
      "Satta (film)\n",
      "Satrangee Parachute\n",
      "Satellite Shankar\n",
      "Sarkar Raj\n",
      "Sarkar 3\n",
      "Sarkar (2005 film)\n",
      "Sarhad Paar\n",
      "Sarbjit (film)\n",
      "Santa Banta Pvt Ltd\n",
      "Sankat City\n",
      "Sanju\n",
      "Sandwich (2006 film)\n",
      "Sanam Re\n",
      "Samrat & Co.\n",
      "Samay: When Time Strikes\n",
      "Sallu Ki Shaadi\n",
      "Salaam-e-Ishq: A Tribute to Love\n",
      "Salaam Namaste\n",
      "Sahi Dhandhe Galat Bande\n",
      "Saheb Biwi Aur Gangster Returns\n",
      "Saheb Biwi Aur Gangster 3\n",
      "Saheb Biwi Aur Gangster\n",
      "Sadiyaan\n",
      "Sadda Adda\n",
      "Sacred Evil – A True Story\n",
      "Sachin: A Billion Dreams\n",
      "Sabki Bajegi Band\n",
      "Saaya (2003 film)\n",
      "Saawariya\n",
      "Saawan... The Love Season\n",
      "Saathiya (film)\n",
      "Saat Uchakkey\n",
      "Saas Bahu Aur Sensex\n",
      "Saare Jahaan Se Mehnga\n",
      "Saansein\n",
      "Saankal\n",
      "Saand Ki Aankh\n",
      "Saaho\n",
      "Rustom (film)\n",
      "Rush (2012 film)\n",
      "Running Shaadi\n",
      "Run (2004 film)\n",
      "Rules: Pyaar Ka Superhit Formula\n",
      "Rukh (film)\n",
      "Rudraksh (film)\n",
      "Roy (film)\n",
      "Rough Book\n",
      "Rokkk\n",
      "Rok Sako To Rok Lo\n",
      "Rog\n",
      "Rocky Handsome\n",
      "Rockstar (2011 film)\n",
      "Rocket Singh: Salesman of the Year\n",
      "Rock On!!\n",
      "Rock On 2\n",
      "Roar: Tigers of the Sundarbans\n",
      "Roadside Romeo\n",
      "Road to Sangam\n",
      "Riyasat (film)\n",
      "Risknamaa\n",
      "Risk (2007 film)\n",
      "Right Yaaa Wrong\n",
      "Right Here Right Now (film)\n",
      "Ribbon (film)\n",
      "Revolver Rani\n",
      "Revati (film)\n",
      "Red: The Dark Side\n",
      "Red Swastik\n",
      "Red Alert: The War Within\n",
      "Rebellious Flower\n",
      "Rascals (2011 film)\n",
      "Raqeeb\n",
      "Rann (film)\n",
      "Rangrezz\n",
      "Rangoon (2017 Hindi film)\n",
      "Rang Rasiya\n",
      "Rang De Basanti\n",
      "Ranchi Diaries\n",
      "Ranbanka\n",
      "Ramprasad Ki Tehrvi\n",
      "Ramji Londonwaley\n",
      "Ramayana: The Epic\n",
      "Raman Raghav 2.0\n",
      "Ramaiya Vastavaiya\n",
      "Ramaa: The Saviour\n",
      "Rakhtbeej\n",
      "Rakht\n",
      "Rajma Chawal\n",
      "Rajjo\n",
      "Raja Natwarlal\n",
      "Raja Bhaiya (film)\n",
      "Raincoat (film)\n",
      "Raid (2018 film)\n",
      "Rahasya\n",
      "Ragini MMS 2\n",
      "Ragini MMS\n",
      "Raghu Romeo\n",
      "Raees (film)\n",
      "Race 3\n",
      "Race 2\n",
      "Race (2008 film)\n",
      "Rab Ne Bana Di Jodi\n",
      "Raazi\n",
      "Raaz: The Mystery Continues\n",
      "Raaz: Reboot\n",
      "Raaz (2002 film)\n",
      "Raavan\n",
      "Raat Gayi Baat Gayi?\n",
      "Raanjhanaa\n",
      "Raag Desh (film)\n",
      "Raabta (film)\n",
      "Ra.One\n",
      "Quick Gun Murugun\n",
      "Queen (2014 film)\n",
      "Qissa (film)\n",
      "Qayamat: City Under Threat\n",
      "Qarib Qarib Singlle\n",
      "Qaidi Band\n",
      "Pyare Mohan\n",
      "Pyaar Mein Twist\n",
      "Pyaar Ke Side Effects\n",
      "Pyaar Ka Punchnama 2\n",
      "Pyaar Ka Punchnama\n",
      "Pyaar Impossible!\n",
      "Purani Jeans\n",
      "Prince (2010 film)\n",
      "Prem Ratan Dhan Payo\n",
      "Prem Kaa Game\n",
      "Prateeksha\n",
      "Prassthanam\n",
      "Pranaam\n",
      "Prague (2013 film)\n",
      "Praan Jaye Par Shaan Na Jaye\n",
      "Poster Boys\n",
      "Popcorn Khao! Mast Ho Jao\n",
      "Policegiri\n",
      "Police Force: An Inside Story\n",
      "Players (2012 film)\n",
      "Plan (film)\n",
      "Pizza (2014 film)\n",
      "Pink (2016 film)\n",
      "Pinjar (film)\n",
      "Piku\n",
      "Pihu\n",
      "Photograph (film)\n",
      "Phoonk 2\n",
      "Phobia (2016 film)\n",
      "Phir Milenge\n",
      "Phir Kabhi\n",
      "Phir Hera Pheri\n",
      "Phillauri (film)\n",
      "Phhir\n",
      "Phata Poster Nikhla Hero\n",
      "Phas Gaye Re Obama\n",
      "Phantom (2015 film)\n",
      "Phamous\n",
      "Pehchaan: The Face of Truth\n",
      "Peepli Live\n",
      "Paying Guests\n",
      "Patiala House (film)\n",
      "Pati Patni Aur Woh (2019 film)\n",
      "Patel Ki Punjabi Shaadi\n",
      "Pataakha\n",
      "Parwana (2003 film)\n",
      "Partner (2007 film)\n",
      "Parmanu: The Story of Pokhran\n",
      "Parineeta (2005 film)\n",
      "Parched\n",
      "Paranthe Wali Gali\n",
      "Pankh\n",
      "Panchlait\n",
      "Paltan (film)\n",
      "Pal Pal Dil Ke Paas\n",
      "Paisa Vasool\n",
      "Paheli\n",
      "Page 3 (film)\n",
      "Pagalpanti (2019 film)\n",
      "Padmashree Laloo Prasad Yadav\n",
      "Padmaavat\n",
      "Paathshaala\n",
      "Paap\n",
      "Paanch Ghantey Mien Paanch Crore\n",
      "Paan Singh Tomar (film)\n",
      "Paa (film)\n",
      "PM Narendra Modi\n",
      "PK (film)\n",
      "P Se Pyaar F Se Faraar\n",
      "P Se PM Tak\n",
      "Oye Lucky! Lucky Oye!\n",
      "Out of Control (2003 film)\n",
      "One by Two (2014 film)\n",
      "One Two Three\n",
      "One Day: Justice Delivered\n",
      "Once Upon ay Time in Mumbai Dobaara!\n",
      "Once Upon a Time in Mumbaai\n",
      "Omkara (2006 film)\n",
      "Omerta (film)\n",
      "Om-Dar-B-Dar\n",
      "Om Shanti Om\n",
      "Om (2003 film)\n",
      "Ok Jaanu\n",
      "Oh My God (2008 film)\n",
      "October (2018 film)\n",
      "OMG – Oh My God!\n",
      "O Teri\n",
      "Nothing but Life\n",
      "Notebook (2019 film)\n",
      "Not a Love Story (2011 film)\n",
      "Noor (film)\n",
      "No Smoking (2007 film)\n",
      "No Problem (2010 film)\n",
      "No One Killed Jessica\n",
      "No Entry\n",
      "Nishabd\n",
      "Nirdosh\n",
      "Nil Battey Sannata\n",
      "Newton (film)\n",
      "New York (2009 film)\n",
      "Netaji Subhas Chandra Bose: The Forgotten Hero\n",
      "Nehlle Pe Dehlla\n",
      "Neerja\n",
      "Neal 'n' Nikki\n",
      "Nayee Padosan\n",
      "Nawabzaade\n",
      "Nautanki Saala!\n",
      "Naughty @ 40\n",
      "Nasha (film)\n",
      "Naqaab\n",
      "Nanu Ki Jaanu\n",
      "Nanhe Jaisalmer\n",
      "Namastey London\n",
      "Namaste England\n",
      "Naksha\n",
      "Naina (2005 film)\n",
      "Naam Shabana\n",
      "Naach (2004 film)\n",
      "Na Ghar Ke Na Ghaat Ke\n",
      "NH10 (film)\n",
      "NH-8 Road to Nidhivan\n",
      "My Wife's Murder\n",
      "My Name Is Khan\n",
      "My Friend Pinto\n",
      "My Brother…Nikhil\n",
      "My Bollywood Bride\n",
      "My Birthday Song\n",
      "Muskaan\n",
      "Musafir (2004 film)\n",
      "Murder 3\n",
      "Murder 2\n",
      "Murder (2004 film)\n",
      "Murari the Mad Gentleman\n",
      "Munna Michael\n",
      "Munna Bhai M.B.B.S.\n",
      "Mummy Punjabi\n",
      "Mumbhai Connection\n",
      "Mumbai Se Aaya Mera Dost\n",
      "Mumbai Salsa\n",
      "Mumbai Meri Jaan\n",
      "Mumbai Matinee\n",
      "Mumbai Mast Kallander\n",
      "Mumbai Delhi Mumbai\n",
      "Mumbai Can Dance Saala\n",
      "Mumbai 125 KM\n",
      "Mulk (film)\n",
      "Mukkabaaz\n",
      "Mukhbiir\n",
      "Mujhse Shaadi Karogi\n",
      "Mujhse Fraaandship Karoge\n",
      "Mughal-e-Azam\n",
      "Mubarakan\n",
      "Mr. X (2015 film)\n",
      "Mr. Singh Mrs. Mehta\n",
      "Mr. Bhatti on Chutti\n",
      "Mr Prime Minister\n",
      "Motu Patlu: King of Kings\n",
      "Motichoor Chaknachoor\n",
      "Morning Raga\n",
      "Monsoon Shootout\n",
      "Monica (film)\n",
      "Money Hai Toh Honey Hai\n",
      "Mom (film)\n",
      "Mohenjo Daro (film)\n",
      "Mohalla Assi\n",
      "Moh Maya Money\n",
      "Mittal v/s Mittal\n",
      "Mitron\n",
      "Mission Mangal\n",
      "Mission Istaanbul\n",
      "Missing (2018 film)\n",
      "Miss Tanakpur Haazir Ho\n",
      "Mirzya (film)\n",
      "Mirch\n",
      "Miley Naa Miley Hum\n",
      "Milenge Milenge\n",
      "Mickey Virus\n",
      "Meri Pyaari Bindu\n",
      "Meri Biwi Ka Jawaab Nahin\n",
      "Mere Pyare Prime Minister\n",
      "Mere Jeevan Saathi (2006 film)\n",
      "Mere Genie Uncle\n",
      "Mere Dost Picture Abhi Baki Hai\n",
      "Mere Dad Ki Maruti\n",
      "Mere Brother Ki Dulhan\n",
      "Mere Baap Pehle Aap\n",
      "Mercury (film)\n",
      "Memories in March\n",
      "Meinu Ek Ladki Chaahiye\n",
      "Meeruthiya Gangsters\n",
      "Meerabai Not Out\n",
      "Meenaxi: A Tale of Three Cities\n",
      "Maximum (film)\n",
      "Mausam (2011 film)\n",
      "Matrubhoomi\n",
      "Matru Ki Bijlee Ka Mandola\n",
      "Mastram\n",
      "Mastizaade\n",
      "Masti (2004 film)\n",
      "Masaan\n",
      "Mary Kom (film)\n",
      "Married 2 America\n",
      "Market (2003 film)\n",
      "Marjaavaan\n",
      "Marigold (2007 film)\n",
      "Margarita with a Straw\n",
      "Mardaani 2\n",
      "Mardaani\n",
      "Mard Ko Dard Nahi Hota\n",
      "Maqbool\n",
      "Mantra (2016 film)\n",
      "Manto (2018 film)\n",
      "Manorama Six Feet Under\n",
      "Manmarziyaan\n",
      "Manjunath (film)\n",
      "Manjhi – The Mountain Man\n",
      "Manikarnika: The Queen of Jhansi\n",
      "Mangal Pandey: The Rising\n",
      "Malik Ek\n",
      "Malamaal Weekly\n",
      "Maine Pyaar Kyun Kiya?\n",
      "Maine Gandhi Ko Nahin Mara\n",
      "Main Tera Hero\n",
      "Main Prem Ki Diwani Hoon\n",
      "Main Meri Patni Aur Woh\n",
      "Main Madhuri Dixit Banna Chahti Hoon\n",
      "Main Krishna Hoon\n",
      "Main Hoon Part-Time Killer\n",
      "Main Hoon Na\n",
      "Main Aurr Mrs Khanna\n",
      "Main Aur Mr. Riight\n",
      "Main Aisa Hi Hoon\n",
      "Mai (2013 film)\n",
      "Magic Magic 3D\n",
      "Madras Cafe\n",
      "Madhoshi\n",
      "Made in China (2019 film)\n",
      "Madaari\n",
      "Mad About Dance\n",
      "Machine (2017 film)\n",
      "Machhli Jal Ki Rani Hai\n",
      "Maazii\n",
      "Maatr\n",
      "Maan Gaye Mughal-e-Azam\n",
      "MSG: The Warrior Lion Heart\n",
      "MSG: The Messenger\n",
      "MSG-2 The Messenger\n",
      "MP3: Mera Pehla Pehla Pyaar\n",
      "M.S. Dhoni: The Untold Story\n",
      "M Cream\n",
      "Luv U Soniyo\n",
      "Luv U Alia\n",
      "Lucky: No Time for Love\n",
      "Lucky Kabootar\n",
      "Lucknow Central\n",
      "Luckhnowi Ishq\n",
      "Luck by Chance\n",
      "Luck (2009 film)\n",
      "Loveshhuda\n",
      "Love per Square Foot\n",
      "Love in Bombay\n",
      "Love U...Mr. Kalakaar!\n",
      "Love Story 2050\n",
      "Love Sonia\n",
      "Love Shagun\n",
      "Love Sex Aur Dhokha\n",
      "Love Ke Chakkar Mein\n",
      "Love Games (film)\n",
      "Love Breakups Zindagi\n",
      "Love Aaj Kal\n",
      "Lootera\n",
      "London Dreams\n",
      "Loins of Punjab Presents\n",
      "Login (film)\n",
      "Little Zizou\n",
      "Listen... Amaya\n",
      "Lipstick Under My Burkha\n",
      "Life in a... Metro\n",
      "Life Partner\n",
      "Life Mein Kabhie Kabhiee\n",
      "Life Ki Toh Lag Gayi\n",
      "Life Is Beautiful (2014 film)\n",
      "Life Express (2010 film)\n",
      "Lekar Hum Deewana Dil\n",
      "Lamhaa\n",
      "Lakshya (film)\n",
      "Lakshmi (2014 film)\n",
      "Lakeer – Forbidden Lines\n",
      "Laila Majnu (2018 film)\n",
      "Lahore (film)\n",
      "Lage Raho Munna Bhai\n",
      "Lafangey Parindey\n",
      "Ladies vs Ricky Bahl\n",
      "Laal Rang\n",
      "Laaga Chunari Mein Daag\n",
      "LOC Kargil\n",
      "Kyun! Ho Gaya Na...\n",
      "Kyon Ki\n",
      "Kyaa Super Kool Hain Hum\n",
      "Kyaa Kool Hain Hum 3\n",
      "Kyaa Kool Hai Hum\n",
      "Kya Love Story Hai\n",
      "Kya Dilli Kya Lahore\n",
      "Kushti (film)\n",
      "Kurbaan (2009 film)\n",
      "Kuku Mathur Ki Jhand Ho Gayi\n",
      "Kudiyon Ka Hai Zamana\n",
      "Kuchh Meetha Ho Jaye\n",
      "Kuchh Bheege Alfaaz\n",
      "Kuch Naa Kaho\n",
      "Kuch Kuch Locha Hai\n",
      "Kucch To Hai\n",
      "Kucch Luv Jaisaa\n",
      "Krrish\n",
      "Krishna Cottage\n",
      "Krishna Aur Kans\n",
      "Krazzy 4\n",
      "Koyelaanchal\n",
      "Koi... Mil Gaya\n",
      "Koi Mere Dil Mein Hai\n",
      "Koi Aap Sa\n",
      "Knock Out (2010 film)\n",
      "Kites (film)\n",
      "Kisse Pyaar Karoon\n",
      "Kisna: The Warrior Poet\n",
      "Kismat Love Paisa Dilli\n",
      "Kismat Konnection\n",
      "Kismat (2004 film)\n",
      "Kisaan\n",
      "Kis Kisko Pyaar Karoon\n",
      "Kis Kis Ki Kismat\n",
      "Kill Dil\n",
      "Kick (2014 film)\n",
      "Ki & Ka\n",
      "Khwahish\n",
      "Khwaabb\n",
      "Khushi (2003 Hindi film)\n",
      "Khuda Kasam\n",
      "Khoya Khoya Chand\n",
      "Khosla Ka Ghosla\n",
      "Khoobsurat (2014 film)\n",
      "Khichdi: The Movie\n",
      "Khel – No Ordinary Game\n",
      "Khel Toh Ab Shuru Hoga\n",
      "Khatta Meetha (2010 film)\n",
      "Khap (film)\n",
      "Khamoshiyan\n",
      "Khamoshi (2019 film)\n",
      "Khamoshh... Khauff Ki Raat\n",
      "Khamosh Pani\n",
      "Khakee\n",
      "Khajoor Pe Atke\n",
      "Kesari (film)\n",
      "Keep Safe Distance (film)\n",
      "Kaun Kitne Paani Mein\n",
      "Kaun Hai Jo Sapno Mein Aaya\n",
      "Katti Batti\n",
      "Kash Aap Hamare Hote\n",
      "Kasak (2005 film)\n",
      "Karzzzz\n",
      "Karwaan\n",
      "Karthik Calling Karthik\n",
      "Karma Aur Holi\n",
      "Karle Pyaar Karle\n",
      "Karar: The Deal\n",
      "Karam (film)\n",
      "Kapoor & Sons\n",
      "Kaminey\n",
      "Kalyug (2005 film)\n",
      "Kalank\n",
      "Kal Ho Naa Ho\n",
      "Kaise Kahoon Ke... Pyaar Hai\n",
      "Kai Po Che!\n",
      "Kahin Hai Mera Pyar\n",
      "Kahaani\n",
      "Kagaar: Life on the Edge\n",
      "Kadvi Hawa\n",
      "Kabul Express\n",
      "Kabir Singh\n",
      "Kabhi Alvida Naa Kehna\n",
      "Kaashi in Search of Ganga\n",
      "Kaante\n",
      "Kaanchi: The Unbreakable\n",
      "Kaalo\n",
      "Kaalakaandi\n",
      "Kaal (2005 film)\n",
      "Kaagaz Ke Fools\n",
      "Kaabil\n",
      "Just Married (2007 film)\n",
      "Jurm (2005 film)\n",
      "Junooniyat\n",
      "Junglee (2019 film)\n",
      "Julie 2\n",
      "Julie (2004 film)\n",
      "Jugni (2016 film)\n",
      "Judwaa 2\n",
      "Judgementall Hai Kya\n",
      "Jolly LLB\n",
      "Joker (2012 film)\n",
      "Johnny Gaddaar\n",
      "John Day (film)\n",
      "Joggers' Park (film)\n",
      "Jodi Breakers\n",
      "Jodhaa Akbar\n",
      "Jo Hum Chahein\n",
      "Jo Bole So Nihaal (film)\n",
      "Jism (2003 film)\n",
      "Jimmy (2008 film)\n",
      "Jigyaasa\n",
      "Jigariyaa\n",
      "Jia Aur Jia\n",
      "Jhootha Kahin Ka\n",
      "Jhootha Hi Sahi\n",
      "Jhoom Barabar Jhoom\n",
      "Jhankaar Beats\n",
      "Jhalki\n",
      "Jeena Isi Ka Naam Hai (film)\n",
      "Jeena Hai Toh Thok Daal\n",
      "Jazbaa\n",
      "Jayantabhai Ki Luv Story\n",
      "Jawani Diwani: A Youthful Joyride\n",
      "Jattu Engineer\n",
      "Jannat (film)\n",
      "Janasheen\n",
      "James (2005 film)\n",
      "Jalpari: The Desert Mermaid\n",
      "Jalebi (film)\n",
      "Jal (film)\n",
      "Jajantaram Mamantaram\n",
      "Jail (2009 film)\n",
      "Jai Veeru\n",
      "Jai Jawaan Jai Kisaan (film)\n",
      "Jai Ho (film)\n",
      "Jai Gangaajal\n",
      "Jai Chiranjeeva\n",
      "Jahan Jaaeyega Hamen Paaeyega\n",
      "Jagga Jasoos\n",
      "Jackpot (2013 film)\n",
      "Jack and Dil\n",
      "Jabariya Jodi\n",
      "Jab We Met\n",
      "Jab Tak Hai Jaan\n",
      "Jab Harry Met Sejal\n",
      "Jaane Kyun De Yaaron\n",
      "Jaane Kahan Se Aayi Hai\n",
      "Jaane Hoga Kya\n",
      "Jaan-E-Mann\n",
      "Jaal: The Trap\n",
      "JD (film)\n",
      "It's a Wonderful Afterlife\n",
      "Issaq\n",
      "Island City (2015 film)\n",
      "Isi Life Mein\n",
      "Ishqiya\n",
      "Ishqeria\n",
      "Ishqedarriyaan\n",
      "Ishq Vishk\n",
      "Ishq Ke Parindey\n",
      "Ishq Hai Tumse\n",
      "Ishq Forever\n",
      "Ishq Click\n",
      "Ishkq in Paris\n",
      "Ishaqzaade\n",
      "Irudhi Suttru\n",
      "Irada (2017 film)\n",
      "Iqraar by Chance\n",
      "Iqbal (film)\n",
      "Inteqam: The Perfect Game\n",
      "Inteha (2003 film)\n",
      "Insan\n",
      "Insaaf: The Justice\n",
      "Inkaar (2013 film)\n",
      "Indu Sarkar\n",
      "Indian Babu\n",
      "India's Most Wanted (film)\n",
      "Impatient Vivek\n",
      "I See You (2006 film)\n",
      "I Proud to Be an Indian\n",
      "I Love NY (2015 film)\n",
      "I Love Desi\n",
      "I Hate Luv Storys\n",
      "I Am Kalam\n",
      "I Am (2010 Indian film)\n",
      "Hyderabad Blues 2\n",
      "Hunterrr\n",
      "Hungama (2003 film)\n",
      "Humshakals\n",
      "Humpty Sharma Ki Dulhania\n",
      "Humne Jeena Seekh Liya\n",
      "Humko Tumse Pyaar Hai\n",
      "Humko Deewana Kar Gaye\n",
      "Hume Tumse Pyaar Kitna\n",
      "Hum Tumhare Hain Sanam\n",
      "Hum Tum Shabana\n",
      "Hum Tum Aur Ghost\n",
      "Hum Tum\n",
      "Hum Hai Raahi Car Ke\n",
      "Hum Chaar\n",
      "Hulchul (2004 film)\n",
      "Housefull 4\n",
      "Housefull 2\n",
      "Housefull (2010 film)\n",
      "Hotel Salvation\n",
      "Hostel (2011 film)\n",
      "Horror Story (film)\n",
      "Hope Aur Hum\n",
      "Honour Killing (film)\n",
      "Honeymoon Travels Pvt. Ltd.\n",
      "Home Delivery\n",
      "Holiday: A Soldier Is Never Off Duty\n",
      "Holiday (2006 film)\n",
      "Hisss\n",
      "Hindi Medium\n",
      "Hind Ka Napak Ko Jawab: MSG Lion Heart 2\n",
      "Himmatwala (2013 film)\n",
      "Highway (2014 Hindi film)\n",
      "High Jack (film)\n",
      "Hichki\n",
      "Heyy Babyy\n",
      "Hey Bro\n",
      "Heropanti\n",
      "Heroine (2012 film)\n",
      "Heroes (2008 film)\n",
      "Hero (2015 Hindi film)\n",
      "Help (film)\n",
      "Hello Darling\n",
      "Hello (2008 film)\n",
      "Helicopter Eela\n",
      "Heartless (2014 film)\n",
      "Hazaaron Khwaishein Aisi\n",
      "Hawayein\n",
      "Hawas (2004 film)\n",
      "Hawaizaada\n",
      "Hawaa Hawaai\n",
      "Hawa (film)\n",
      "Hava Aney Dey\n",
      "Haunted – 3D\n",
      "Hatya (2004 film)\n",
      "Hattrick (film)\n",
      "Hate Story 4\n",
      "Hate Story 2\n",
      "Hate Story\n",
      "Hastey Hastey\n",
      "Haseena Parkar\n",
      "Hasee Toh Phasee\n",
      "Hari Puttar: A Comedy of Terrors\n",
      "Haraamkhor\n",
      "Happy Phirr Bhag Jayegi\n",
      "Happy New Year (2014 film)\n",
      "Happy Husbands (2011 film)\n",
      "Happy Ending (film)\n",
      "Happy Bhag Jayegi\n",
      "Hanuman (2005 film)\n",
      "Hamid (film)\n",
      "Hamari Adhuri Kahani\n",
      "Halla Bol\n",
      "Halkaa\n",
      "Half Girlfriend (film)\n",
      "Haider (film)\n",
      "Hai Apna Dil Toh Awara\n",
      "Haasil\n",
      "Haal-e-Dil\n",
      "Guzaarish (film)\n",
      "Guru (2007 film)\n",
      "Gunday\n",
      "Gumnaam – The Mystery\n",
      "Gully Boy\n",
      "Gulabi Gang (film)\n",
      "Gulaal (film)\n",
      "Gulaab Gang\n",
      "Guest iin London\n",
      "Guddu Rangeela\n",
      "Guddu Ki Gun\n",
      "Green Card Fever\n",
      "Great Grand Masti\n",
      "Grand Masti\n",
      "Gour Hari Dastaan\n",
      "Gori Tere Pyaar Mein\n",
      "Good Newwz\n",
      "Good Boy Bad Boy\n",
      "Gone Kesh\n",
      "Golmaal: Fun Unlimited\n",
      "Golmaal Returns\n",
      "Golmaal Again\n",
      "Gollu Aur Pappu\n",
      "Goliyon Ki Raasleela Ram-Leela\n",
      "Gold (2018 film)\n",
      "God Tussi Great Ho\n",
      "Goal (2007 Hindi film)\n",
      "Go Goa Gone\n",
      "Go (2007 film)\n",
      "Global Baba\n",
      "Girlfriend (2004 film)\n",
      "Gippi\n",
      "Ghost (2019 film)\n",
      "Ghost (2012 film)\n",
      "Ghayal: Once Again\n",
      "Ghanchakkar (film)\n",
      "Ghajini (2008 film)\n",
      "Genius (2018 Hindi film)\n",
      "Gayab\n",
      "Gauri: The Unborn\n",
      "Gattu\n",
      "Garv: Pride & Honour\n",
      "Garam Masala (2005 film)\n",
      "Gangster (2006 film)\n",
      "Gangs of Wasseypur – Part 2\n",
      "Gangs of Wasseypur\n",
      "Gangoobai\n",
      "Gangaajal\n",
      "Gang of Ghosts\n",
      "Gandhi My Father\n",
      "Game (2011 film)\n",
      "Gali Guleiyan\n",
      "Gabbar Is Back\n",
      "Gabbar Is Back\n",
      "G Kutta Se\n",
      "Fun2shh... Dudes in the 10th Century\n",
      "Fun – Can Be Dangerous Sometimes\n",
      "Fukrey Returns\n",
      "Fukrey\n",
      "Fugly (film)\n",
      "Fuddu\n",
      "FryDay\n",
      "Fruit and Nut (film)\n",
      "From Sydney with Love\n",
      "Fredrick (film)\n",
      "Freaky Ali\n",
      "Fraud Saiyaan\n",
      "Fox (film)\n",
      "Force 2\n",
      "Force (2011 film)\n",
      "Footpath (2003 film)\n",
      "Fool & Final\n",
      "Flavors (film)\n",
      "Flat 211\n",
      "Fitoor\n",
      "Firangi\n",
      "Firaaq\n",
      "Finding Fanny\n",
      "Filmistaan\n",
      "Fight Club – Members Only\n",
      "Fida\n",
      "Fever (2016 film)\n",
      "Ferrari Ki Sawaari\n",
      "Fatso!\n",
      "Fashion (2008 film)\n",
      "Fareb (2005 film)\n",
      "Fanaa (2006 film)\n",
      "Fan (film)\n",
      "Familywala\n",
      "Family of Thakurganj\n",
      "Family (2006 film)\n",
      "F.A.L.T.U\n",
      "Evening Shadows\n",
      "Escape from Taliban\n",
      "Entertainment (2014 film)\n",
      "English Vinglish\n",
      "Enemmy\n",
      "Elaan (2005 film)\n",
      "Eklavya: The Royal Guard\n",
      "Ekkees Toppon Ki Salaami\n",
      "Ekk Deewana Tha\n",
      "Ek: The Power of One\n",
      "Ek Vivaah... Aisa Bhi\n",
      "Ek Villain\n",
      "Ek Thi Rani Aisi Bhi\n",
      "Ek Thi Daayan\n",
      "Ek Tha Tiger\n",
      "Ek Second... Jo Zindagi Badal De?\n",
      "Ek Se Bure Do\n",
      "Ek Se Badhkar Ek (2004 film)\n",
      "Ek Paheli Leela\n",
      "Ek Main Aur Ekk Tu\n",
      "Ek Khiladi Ek Haseena (film)\n",
      "Ek Kahani Julie Ki\n",
      "Ek Hasina Thi (film)\n",
      "Ek Haseena Thi Ek Deewana Tha\n",
      "Ek Din 24 Ghante\n",
      "Ek Chalis Ki Last Local\n",
      "Ek Aur Ek Gyarah\n",
      "Ek Alag Mausam\n",
      "Ek Ajnabee\n",
      "Eight: The Power of Shani\n",
      "Dus Kahaniyaan\n",
      "Dus\n",
      "Dunno Y... Na Jaane Kyon\n",
      "Dum Maaro Dum (film)\n",
      "Dum Laga Ke Haisha\n",
      "Dum (2003 Hindi film)\n",
      "Dulha Mil Gaya\n",
      "Dude Where's the Party?\n",
      "Drona (2008 film)\n",
      "Drishyam (2015 film)\n",
      "Dreams (2006 film)\n",
      "Dream Girl (2019 film)\n",
      "Double Dhamaal\n",
      "Double Cross (2005 film)\n",
      "Dosti: Friends Forever\n",
      "Dostana (2008 film)\n",
      "Dor (film)\n",
      "Dongari Ka Raja\n",
      "Don't Stop Dreaming\n",
      "Don Muthu Swami\n",
      "Don 2\n",
      "Don (2006 Hindi film)\n",
      "Dolly Ki Doli\n",
      "Dobara\n",
      "Dobaara: See Your Evil\n",
      "Do Lafzon Ki Kahani (film)\n",
      "Do Dooni Chaar\n",
      "Dishoom\n",
      "Dishkiyaoon\n",
      "Dirty Politics (film)\n",
      "Direct Ishq\n",
      "Dilwale (2015 film)\n",
      "Dilliwali Zaalim Girlfriend\n",
      "Dil Toh Deewana Hai\n",
      "Dil Toh Baccha Hai Ji\n",
      "Dil Pardesi Ho Gayaa\n",
      "Dil Ne Jise Apna Kahaa\n",
      "Dil Maange More\n",
      "Dil Kabaddi\n",
      "Dil Ka Rishta\n",
      "Dil Juunglee\n",
      "Dil Jo Na Keh Saka\n",
      "Dil Jo Bhi Kahey...\n",
      "Dil Dosti Etc\n",
      "Dil Diya Hai\n",
      "Dil Dhadakne Do\n",
      "Dil Bole Hadippa!\n",
      "Dil Bechara Pyaar Ka Maara\n",
      "Dil Bechara\n",
      "Dhund (2003 film)\n",
      "Dhoop\n",
      "Dhoondte Reh Jaaoge\n",
      "Dhoom 3\n",
      "Dhoom 2\n",
      "Dhoom\n",
      "Dhol (film)\n",
      "Dhokha\n",
      "Dhobi Ghat (film)\n",
      "Dharti Kahe Pukar Ke (2006 film)\n",
      "Dharm (film)\n",
      "Dharam Sankat Mein\n",
      "Dhanak\n",
      "Dhamaal\n",
      "Dhadak\n",
      "Devi (2016 film)\n",
      "Devdas (2002 Hindi film)\n",
      "Devaki (2005 film)\n",
      "Dev (2004 film)\n",
      "Detective Byomkesh Bakshy!\n",
      "Desi Kattey\n",
      "Desi Boyz\n",
      "Deshdrohi\n",
      "Department (film)\n",
      "Delhi-6\n",
      "Delhi Safari\n",
      "Delhi Belly (film)\n",
      "Dekh Tamasha Dekh\n",
      "Dehraadun Diary\n",
      "Deewane Huye Paagal\n",
      "Deewaar (2004 film)\n",
      "Dedh Ishqiya\n",
      "Dear Zindagi\n",
      "Dear Maya\n",
      "Dear Friend Hitler\n",
      "Dear Dad (film)\n",
      "Deadline: Sirf 24 Ghante\n",
      "De Taali\n",
      "De De Pyaar De\n",
      "De Dana Dan\n",
      "Days of Tafree\n",
      "Dasvidaniya\n",
      "Dassehra\n",
      "Darwaaza Bandh Rakho\n",
      "Darr @ the Mall\n",
      "Darna Zaroori Hai\n",
      "Darna Mana Hai\n",
      "Darling (2007 Indian film)\n",
      "Dangerous Ishhq\n",
      "Dangal (film)\n",
      "Damadamm!\n",
      "Daddy Cool (2009 Hindi film)\n",
      "Daddy (2017 film)\n",
      "Dabangg 3\n",
      "Dabangg 2\n",
      "Dabangg\n",
      "Daawat-e-Ishq\n",
      "Daas Dev\n",
      "D-Day (2013 film)\n",
      "D (film)\n",
      "Crook (film)\n",
      "Creature 3D\n",
      "Crazy Cukkad Family\n",
      "Court (film)\n",
      "Corporate (2006 film)\n",
      "Contract (2008 film)\n",
      "Company (film)\n",
      "Commando: A One Man Army\n",
      "Commando 3 (film)\n",
      "Coffee with D\n",
      "Coffee Bloom\n",
      "Cocktail (2012 film)\n",
      "Click (2010 film)\n",
      "Classic – Dance of Love\n",
      "CityLights (2014 film)\n",
      "City of Gold (2010 film)\n",
      "Cigarette Ki Tarah\n",
      "Chura Liyaa Hai Tumne\n",
      "Chup Chup Ke\n",
      "Chori Chori (2003 film)\n",
      "Chor Chor Super Chor\n",
      "Chocolate (2005 film)\n",
      "Chittagong (film)\n",
      "Chintu Ji\n",
      "Chingaari\n",
      "Chinar Daastaan-E-Ishq\n",
      "Chillar Party\n",
      "Children of War (2014 film)\n",
      "Children of Heaven\n",
      "Chicken Curry Law\n",
      "Chhota Bheem and the Throne of Bali\n",
      "Chhodon Naa Yaar\n",
      "Chetna: The Excitement\n",
      "Chennai Express\n",
      "Chehraa\n",
      "Chef (2017 film)\n",
      "Cheeni Kum\n",
      "Chatur Singh Two Star\n",
      "Chashme Baddoor (2013 film)\n",
      "Chase (2010 film)\n",
      "Chargesheet (film)\n",
      "Charas (2004 film)\n",
      "Chandni Chowk to China\n",
      "Chand Sa Roshan Chehra\n",
      "Chand Ke Paar Chalo (film)\n",
      "Chance Pe Dance\n",
      "Chamku\n",
      "Chameli (film)\n",
      "Chalte Chalte (2003 film)\n",
      "Chalo Dilli\n",
      "Challo Driver\n",
      "Chalk n Duster\n",
      "Chal Pichchur Banate Hain\n",
      "Chal Chala Chal\n",
      "Chakravyuh (2012 film)\n",
      "Chak De! India\n",
      "Chaarfutiya Chhokare\n",
      "Chaar Din Ki Chandni\n",
      "Chaalis Chauraasi\n",
      "Chaahat – Ek Nasha\n",
      "Cash (2007 film)\n",
      "Calendar Girls (2015 film)\n",
      "Calcutta Mail\n",
      "Calapor (film)\n",
      "C Kkompany\n",
      "Bypass Road (film)\n",
      "Bunty Aur Babli\n",
      "Bumper Draw\n",
      "Bumm Bumm Bole\n",
      "Bumboo\n",
      "Bullett Raja\n",
      "Bullet: Ek Dhamaka\n",
      "Buddha in a Traffic Jam\n",
      "Buddha Mar Gaya\n",
      "Bubble Gum (film)\n",
      "Brothers (2015 film)\n",
      "Brij Mohan Amar Rahe\n",
      "Breakaway (2011 film)\n",
      "Break Ke Baad\n",
      "Brahman Naman\n",
      "Boss (2013 Hindi film)\n",
      "Border (1997 film)\n",
      "Boom (film)\n",
      "Bombay to Goa (2007 film)\n",
      "Bombay to Bangkok\n",
      "Bombay Velvet\n",
      "Bombay Talkies (film)\n",
      "Bombairiya\n",
      "Bollywood Diaries\n",
      "Bol Bachchan\n",
      "Bodyguard (2011 Hindi film)\n",
      "Bobby Jasoos\n",
      "Bluffmaster!\n",
      "Blue (2009 film)\n",
      "Bloody Isshq\n",
      "Blood Money (2012 film)\n",
      "Blood Brothers (2007 Indian film)\n",
      "Blackmail (2005 film)\n",
      "Black Friday (2007 film)\n",
      "Black (2005 film)\n",
      "Bittoo Boss\n",
      "Bioscopewala\n",
      "Bin Bulaye Baraati\n",
      "Billu\n",
      "Big Brother (2007 film)\n",
      "Bhram\n",
      "Bhopal: A Prayer for Rain\n",
      "Bhoothnath Returns\n",
      "Bhoothnath\n",
      "Bhoot Unkle\n",
      "Bhoot Returns\n",
      "Bhoot (film)\n",
      "Bhoomi (film)\n",
      "Bhool Bhulaiyaa\n",
      "Bhola in Bollywood\n",
      "Bheja Fry 2\n",
      "Bheja Fry (film)\n",
      "Bhavesh Joshi Superhero\n",
      "Bhanwarey\n",
      "Bhaiaji Superhit\n",
      "Bhagmati (2005 film)\n",
      "Bhagam Bhag\n",
      "Bhaag Milkha Bhaag\n",
      "Bhaag Johnny\n",
      "Bezubaan Ishq\n",
      "Beyond the Clouds (2017 film)\n",
      "Bewakoofiyaan\n",
      "Bewafaa (2005 film)\n",
      "Being Cyrus\n",
      "Beiimaan Love\n",
      "Behen Hogi Teri\n",
      "Begum Jaan\n",
      "Befikre\n",
      "Bbuddah... Hoga Terra Baap\n",
      "Bazaar E Husn\n",
      "Batti Gul Meter Chalu\n",
      "Battalion 609\n",
      "Batla House\n",
      "Basti (film)\n",
      "Bas Ek Pal\n",
      "Barsaat (2005 film)\n",
      "Barkhaa\n",
      "Barfi!\n",
      "Bareilly Ki Barfi\n",
      "Bardaasht\n",
      "Barah Aana\n",
      "Bank Chor\n",
      "Banjo (2016 film)\n",
      "Bangistan\n",
      "Bang Bang!\n",
      "Bandook\n",
      "Band Baaja Baaraat\n",
      "Banaras (2006 film)\n",
      "Balwinder Singh Famous Ho Gaya\n",
      "Bala (2019 film)\n",
      "Bajrangi Bhaijaan\n",
      "Bajirao Mastani\n",
      "Bajatey Raho\n",
      "Baghban (2003 film)\n",
      "Badrinath Ki Dulhania\n",
      "Badmashiyaan\n",
      "Badlapur Boys\n",
      "Badlapur (film)\n",
      "Badla (2019 film)\n",
      "Badhaai Ho\n",
      "Bachna Ae Haseeno\n",
      "Bachke Rehna Re Baba\n",
      "Bachche Kachche Sachche\n",
      "Baby (2015 Hindi film)\n",
      "Babumoshai Bandookbaaz\n",
      "Babuji Ek Ticket Bambai\n",
      "Babloo Happy Hai\n",
      "Baazaar\n",
      "Baaz: A Bird in Danger\n",
      "Baat Bann Gayi\n",
      "Baar Baar Dekho\n",
      "Baaghi 2\n",
      "Baaghi (2016 film)\n",
      "Baabul (2006 film)\n",
      "Baabarr\n",
      "B.A. Pass\n",
      "Azhar (film)\n",
      "Awarapan\n",
      "Awara Paagal Deewana\n",
      "Aval (2017 film)\n",
      "Aurangzeb (film)\n",
      "Aur Pappu Paas Ho Gaya\n",
      "Ata Pata Laapata\n",
      "Asambhav\n",
      "Aryan: Unbreakable\n",
      "Article 15 (film)\n",
      "Armaan (2003 film)\n",
      "Arjun: The Warrior Prince\n",
      "Arjun Patiala\n",
      "Apne\n",
      "Apna Sapna Money Money\n",
      "Apna Asmaan\n",
      "Apartment (film)\n",
      "Apaharan\n",
      "Anwar (2007 film)\n",
      "Anuradha (2014 film)\n",
      "Anthony Kaun Hai?\n",
      "Antardwand\n",
      "Anna (2016 film)\n",
      "Ankur Arora Murder Case\n",
      "Ankhon Dekhi\n",
      "Ankahee (2006 film)\n",
      "Anjaane (2005 film)\n",
      "Anjaana Anjaani\n",
      "Angel (2011 film)\n",
      "Andhadhun\n",
      "Andaaz\n",
      "Andaaz\n",
      "Anamika (2008 film)\n",
      "Anaarkali of Aarah\n",
      "Amit Sahni Ki List\n",
      "Amavas\n",
      "Always Kabhi Kabhi\n",
      "Aloo Chaat (film)\n",
      "Alone (2015 Hindi film)\n",
      "Allah Ke Banday\n",
      "All the Best: Fun Begins\n",
      "All Is Well (2015 film)\n",
      "Aligarh (film)\n",
      "Albert Pinto Ko Gussa Kyun Aata Hai?\n",
      "Alag\n",
      "Aladin (film)\n",
      "Aksar 2\n",
      "Aksar\n",
      "Akaash Vani\n",
      "Ajji\n",
      "Ajab Prem Ki Ghazab Kahani\n",
      "Ajab Gazabb Love\n",
      "Aiyyaa\n",
      "Aiyaary\n",
      "Aitraaz\n",
      "Aisa Yeh Jahaan\n",
      "Aisa Kyon Hota Hai?\n",
      "Airlift (film)\n",
      "Ahista Ahista (2006 film)\n",
      "Agnipankh\n",
      "Agneepath (2012 film)\n",
      "Aggar (film)\n",
      "Agent Vinod (2012 film)\n",
      "Aetbaar\n",
      "Ae Dil Hai Mushkil\n",
      "Adharm (2006 film)\n",
      "Action Replayy\n",
      "Action Jackson (2014 film)\n",
      "Acid Factory\n",
      "Accident on Hill Road\n",
      "Ab Tumhare Hawale Watan Saathiyo\n",
      "Ab Tak Chhappan 2\n",
      "Aazaan\n",
      "Aasma: The Sky Is the Limit\n",
      "Aashiqui.in\n",
      "Aashiqui 2\n",
      "Aashiq Banaya Aapne\n",
      "Aashayein\n",
      "Aarakshan\n",
      "Aapko Pehle Bhi Kahin Dekha Hai\n",
      "Aap Ki Khatir (2006 film)\n",
      "Aap Kaa Surroor\n",
      "Aankhen (2002 film)\n",
      "Aanch\n",
      "Aan: Men at Work\n",
      "Aalaap (film)\n",
      "Aakrosh (2010 film)\n",
      "Aakhari Decision\n",
      "Aaja Nachle\n",
      "Aaj Ka Andha Kanoon\n",
      "Aagey Se Right\n",
      "Aag (2007 film)\n",
      "Aabra Ka Daabra\n",
      "Aa Gaya Hero\n",
      "Aa Dekhen Zara\n",
      "ABCD 2\n",
      "A Gentleman\n",
      "A Flying Jatt\n",
      "A Flat (film)\n",
      "A Decent Arrangement\n",
      "?: A Question Mark\n",
      "99.9 FM (film)\n",
      "99 (2009 film)\n",
      "88 Antop Hill\n",
      "7½ Phere\n",
      "7 Khoon Maaf\n",
      "7 Hours to Go\n",
      "68 Pages\n",
      "5 Weddings\n",
      "404 (film)\n",
      "3G (film)\n",
      "36 China Town\n",
      "31st October (film)\n",
      "3 Storeys\n",
      "3 Idiots\n",
      "3 Deewarein\n",
      "3 A.M. (2014 film)\n",
      "22 Yards\n",
      "2 States (2014 film)\n",
      "1971 (2007 film)\n",
      "1920: The Evil Returns\n",
      "1920: London\n",
      "1920 (film)\n"
     ]
    }
   ],
   "source": [
    "# so in order to run loop on index\n",
    "for i in movies.index:               # now will get all the movies i.e indexes\n",
    "    print(i)"
   ]
  },
  {
   "cell_type": "code",
   "execution_count": 85,
   "id": "422eb1ef",
   "metadata": {},
   "outputs": [
    {
     "data": {
      "text/plain": [
       "maths       67\n",
       "english    100\n",
       "science     89\n",
       "bengali    100\n",
       "sst         90\n",
       "Name: Abhi ke marks, dtype: int64"
      ]
     },
     "execution_count": 85,
     "metadata": {},
     "output_type": "execute_result"
    }
   ],
   "source": [
    "# Arithmetic Operators\n",
    "marks_series"
   ]
  },
  {
   "cell_type": "code",
   "execution_count": 86,
   "id": "0d478b1b",
   "metadata": {},
   "outputs": [
    {
     "data": {
      "text/plain": [
       "maths      33\n",
       "english     0\n",
       "science    11\n",
       "bengali     0\n",
       "sst        10\n",
       "Name: Abhi ke marks, dtype: int64"
      ]
     },
     "execution_count": 86,
     "metadata": {},
     "output_type": "execute_result"
    }
   ],
   "source": [
    "# Arithmetic Operators (Good example for Broadcasting - we are using one scaler value it is getting applied in whole series)\n",
    "# suppose we want to each subject is how much close or far to 100\n",
    "100 - marks_series"
   ]
  },
  {
   "cell_type": "code",
   "execution_count": 88,
   "id": "7bc660ec",
   "metadata": {},
   "outputs": [
    {
     "data": {
      "text/plain": [
       "maths      167\n",
       "english    200\n",
       "science    189\n",
       "bengali    200\n",
       "sst        190\n",
       "Name: Abhi ke marks, dtype: int64"
      ]
     },
     "execution_count": 88,
     "metadata": {},
     "output_type": "execute_result"
    }
   ],
   "source": [
    "# we can use all arithmetic op + - * / ** %\n",
    "100 + marks_series"
   ]
  },
  {
   "cell_type": "code",
   "execution_count": 89,
   "id": "6ad0fd04",
   "metadata": {},
   "outputs": [
    {
     "data": {
      "text/plain": [
       "match_no\n",
       "1       1\n",
       "2      23\n",
       "3      13\n",
       "4      12\n",
       "5       1\n",
       "       ..\n",
       "211     0\n",
       "212    20\n",
       "213    73\n",
       "214    25\n",
       "215     7\n",
       "Name: runs, Length: 215, dtype: int64"
      ]
     },
     "execution_count": 89,
     "metadata": {},
     "output_type": "execute_result"
    }
   ],
   "source": [
    "# Relational Operators\n",
    "vk"
   ]
  },
  {
   "cell_type": "code",
   "execution_count": 93,
   "id": "518c7d68",
   "metadata": {},
   "outputs": [
    {
     "data": {
      "text/plain": [
       "match_no\n",
       "1      False\n",
       "2      False\n",
       "3      False\n",
       "4      False\n",
       "5      False\n",
       "       ...  \n",
       "211    False\n",
       "212    False\n",
       "213     True\n",
       "214    False\n",
       "215    False\n",
       "Name: runs, Length: 215, dtype: bool"
      ]
     },
     "execution_count": 93,
     "metadata": {},
     "output_type": "execute_result"
    }
   ],
   "source": [
    "# Relational Operators\n",
    "# suppose we want to in how many maches vk's score is more than 50\n",
    "vk >= 50"
   ]
  },
  {
   "cell_type": "markdown",
   "id": "fbf1b3a6",
   "metadata": {},
   "source": [
    "# Boolean Indexing on Series"
   ]
  },
  {
   "cell_type": "code",
   "execution_count": 97,
   "id": "7e9704d7",
   "metadata": {},
   "outputs": [
    {
     "data": {
      "text/plain": [
       "50"
      ]
     },
     "execution_count": 97,
     "metadata": {},
     "output_type": "execute_result"
    }
   ],
   "source": [
    "# find no of 50's scored by kohli\n",
    "vk[vk >= 50].size"
   ]
  },
  {
   "cell_type": "code",
   "execution_count": 98,
   "id": "3ef6040c",
   "metadata": {},
   "outputs": [
    {
     "data": {
      "text/plain": [
       "5"
      ]
     },
     "execution_count": 98,
     "metadata": {},
     "output_type": "execute_result"
    }
   ],
   "source": [
    "# find no of 100's scored by kohli\n",
    "vk[vk >= 100].count()                # we can also use count func"
   ]
  },
  {
   "cell_type": "code",
   "execution_count": 102,
   "id": "9da970e2",
   "metadata": {},
   "outputs": [
    {
     "data": {
      "text/plain": [
       "9"
      ]
     },
     "execution_count": 102,
     "metadata": {},
     "output_type": "execute_result"
    }
   ],
   "source": [
    "# find no of ducks of vk\n",
    "vk[vk == 0].size"
   ]
  },
  {
   "cell_type": "code",
   "execution_count": 105,
   "id": "a7adf7ff",
   "metadata": {},
   "outputs": [
    {
     "data": {
      "text/plain": [
       "59"
      ]
     },
     "execution_count": 105,
     "metadata": {},
     "output_type": "execute_result"
    }
   ],
   "source": [
    "# Count number of day when I had more than 200 subs a day\n",
    "subs[subs > 200].size"
   ]
  },
  {
   "cell_type": "code",
   "execution_count": 109,
   "id": "a3c4df96",
   "metadata": {},
   "outputs": [
    {
     "data": {
      "text/plain": [
       "movie\n",
       "Zor Lagaa Ke...Haiya!            Meghan Jadhav\n",
       "Zokkomon                       Darsheel Safary\n",
       "Zindagi Tere Naam           Mithun Chakraborty\n",
       "Zindagi Na Milegi Dobara        Hrithik Roshan\n",
       "Zindagi 50-50                      Veena Malik\n",
       "                                   ...        \n",
       "2 States (2014 film)                Alia Bhatt\n",
       "1971 (2007 film)                Manoj Bajpayee\n",
       "1920: The Evil Returns             Vicky Ahuja\n",
       "1920: London                     Sharman Joshi\n",
       "1920 (film)                   Rajniesh Duggall\n",
       "Name: lead, Length: 1500, dtype: object"
      ]
     },
     "execution_count": 109,
     "metadata": {},
     "output_type": "execute_result"
    }
   ],
   "source": [
    "# find actors who have done more than 20 movies\n",
    "movies"
   ]
  },
  {
   "cell_type": "code",
   "execution_count": 116,
   "id": "1083b859",
   "metadata": {},
   "outputs": [
    {
     "data": {
      "text/plain": [
       "Akshay Kumar        48\n",
       "Amitabh Bachchan    45\n",
       "Ajay Devgn          38\n",
       "Salman Khan         31\n",
       "Sanjay Dutt         26\n",
       "Shah Rukh Khan      22\n",
       "Emraan Hashmi       21\n",
       "Name: lead, dtype: int64"
      ]
     },
     "execution_count": 116,
     "metadata": {},
     "output_type": "execute_result"
    }
   ],
   "source": [
    "# find actors who have done more than 20 movies\n",
    "num_movies = movies.value_counts()\n",
    "num_movies[num_movies > 20]"
   ]
  },
  {
   "cell_type": "markdown",
   "id": "1c082dfa",
   "metadata": {},
   "source": [
    "# Plotting Graphs on Series"
   ]
  },
  {
   "cell_type": "code",
   "execution_count": 117,
   "id": "e89f677b",
   "metadata": {},
   "outputs": [
    {
     "data": {
      "text/plain": [
       "<Axes: >"
      ]
     },
     "execution_count": 117,
     "metadata": {},
     "output_type": "execute_result"
    },
    {
     "data": {
      "image/png": "[encoded data removed]",
      "text/plain": [
       "<Figure size 640x480 with 1 Axes>"
      ]
     },
     "metadata": {},
     "output_type": "display_data"
    }
   ],
   "source": [
    "# suppose we need to plot graphs of last 365 days day by day\n",
    "subs.plot()  # it's convert all numbers to 2D plots"
   ]
  },
  {
   "cell_type": "code",
   "execution_count": 120,
   "id": "35dce67c",
   "metadata": {},
   "outputs": [
    {
     "data": {
      "text/plain": [
       "<Axes: >"
      ]
     },
     "execution_count": 120,
     "metadata": {},
     "output_type": "execute_result"
    },
    {
     "data": {
      "image/png": "[encoded data removed]",
      "text/plain": [
       "<Figure size 640x480 with 1 Axes>"
      ]
     },
     "metadata": {},
     "output_type": "display_data"
    }
   ],
   "source": [
    "# in order to see actors and movies data  in bar chart\n",
    "movies.value_counts().head(20).plot(kind = 'bar')"
   ]
  },
  {
   "cell_type": "code",
   "execution_count": 121,
   "id": "ed74521e",
   "metadata": {},
   "outputs": [
    {
     "data": {
      "text/plain": [
       "<Axes: ylabel='lead'>"
      ]
     },
     "execution_count": 121,
     "metadata": {},
     "output_type": "execute_result"
    },
    {
     "data": {
      "image/png": "[encoded data removed]",
      "text/plain": [
       "<Figure size 640x480 with 1 Axes>"
      ]
     },
     "metadata": {},
     "output_type": "display_data"
    }
   ],
   "source": [
    "# in order to see actors and movies data in pie chart\n",
    "movies.value_counts().head(20).plot(kind = 'pie')"
   ]
  },
  {
   "cell_type": "markdown",
   "id": "1f1fc625",
   "metadata": {},
   "source": [
    "# Some Important Series Methods"
   ]
  },
  {
   "cell_type": "code",
   "execution_count": null,
   "id": "dd5b045e",
   "metadata": {},
   "outputs": [],
   "source": [
    "# astype\n",
    "# between\n",
    "# clip\n",
    "# drop_duplicates\n",
    "# isnull\n",
    "# dropna\n",
    "# fillna\n",
    "# isin\n",
    "# apply\n",
    "# copy"
   ]
  },
  {
   "cell_type": "code",
   "execution_count": 1,
   "id": "097879b6",
   "metadata": {},
   "outputs": [],
   "source": [
    "import numpy as np\n",
    "import pandas as pd"
   ]
  },
  {
   "cell_type": "code",
   "execution_count": 107,
   "id": "05ff0f0a",
   "metadata": {},
   "outputs": [
    {
     "name": "stderr",
     "output_type": "stream",
     "text": [
      "C:\\Users\\Ab Chatterjee\\AppData\\Local\\Temp\\ipykernel_10644\\132034794.py:2: FutureWarning: The squeeze argument has been deprecated and will be removed in a future version. Append .squeeze(\"columns\") to the call to squeeze.\n",
      "\n",
      "\n",
      "  subs = pd.read_csv('subs.csv', squeeze = True)\n"
     ]
    },
    {
     "data": {
      "text/plain": [
       "0       48\n",
       "1       57\n",
       "2       40\n",
       "3       43\n",
       "4       44\n",
       "      ... \n",
       "360    231\n",
       "361    226\n",
       "362    155\n",
       "363    144\n",
       "364    172\n",
       "Name: Subscribers gained, Length: 365, dtype: int64"
      ]
     },
     "execution_count": 107,
     "metadata": {},
     "output_type": "execute_result"
    }
   ],
   "source": [
    "# imporing data set\n",
    "subs = pd.read_csv('subs.csv', squeeze = True)\n",
    "subs"
   ]
  },
  {
   "cell_type": "code",
   "execution_count": 108,
   "id": "03ca1718",
   "metadata": {},
   "outputs": [
    {
     "name": "stderr",
     "output_type": "stream",
     "text": [
      "C:\\Users\\Ab Chatterjee\\AppData\\Local\\Temp\\ipykernel_10644\\801779597.py:1: FutureWarning: The squeeze argument has been deprecated and will be removed in a future version. Append .squeeze(\"columns\") to the call to squeeze.\n",
      "\n",
      "\n",
      "  vk = pd.read_csv('kohli_ipl.csv',index_col = 'match_no', squeeze = True)\n"
     ]
    },
    {
     "data": {
      "text/plain": [
       "match_no\n",
       "1       1\n",
       "2      23\n",
       "3      13\n",
       "4      12\n",
       "5       1\n",
       "       ..\n",
       "211     0\n",
       "212    20\n",
       "213    73\n",
       "214    25\n",
       "215     7\n",
       "Name: runs, Length: 215, dtype: int64"
      ]
     },
     "execution_count": 108,
     "metadata": {},
     "output_type": "execute_result"
    }
   ],
   "source": [
    "vk = pd.read_csv('kohli_ipl.csv',index_col = 'match_no', squeeze = True)\n",
    "vk"
   ]
  },
  {
   "cell_type": "code",
   "execution_count": 109,
   "id": "57a1f8bb",
   "metadata": {},
   "outputs": [
    {
     "name": "stderr",
     "output_type": "stream",
     "text": [
      "C:\\Users\\Ab Chatterjee\\AppData\\Local\\Temp\\ipykernel_10644\\2094180785.py:1: FutureWarning: The squeeze argument has been deprecated and will be removed in a future version. Append .squeeze(\"columns\") to the call to squeeze.\n",
      "\n",
      "\n",
      "  movies = pd.read_csv('bollywood.csv', index_col = 'movie', squeeze = True)\n"
     ]
    },
    {
     "data": {
      "text/plain": [
       "movie\n",
       "Uri: The Surgical Strike                   Vicky Kaushal\n",
       "Battalion 609                                Vicky Ahuja\n",
       "The Accidental Prime Minister (film)         Anupam Kher\n",
       "Why Cheat India                            Emraan Hashmi\n",
       "Evening Shadows                         Mona Ambegaonkar\n",
       "                                              ...       \n",
       "Hum Tumhare Hain Sanam                    Shah Rukh Khan\n",
       "Aankhen (2002 film)                     Amitabh Bachchan\n",
       "Saathiya (film)                             Vivek Oberoi\n",
       "Company (film)                                Ajay Devgn\n",
       "Awara Paagal Deewana                        Akshay Kumar\n",
       "Name: lead, Length: 1500, dtype: object"
      ]
     },
     "execution_count": 109,
     "metadata": {},
     "output_type": "execute_result"
    }
   ],
   "source": [
    "movies = pd.read_csv('bollywood.csv', index_col = 'movie', squeeze = True)\n",
    "movies"
   ]
  },
  {
   "cell_type": "code",
   "execution_count": 5,
   "id": "eb8f3a74",
   "metadata": {},
   "outputs": [
    {
     "data": {
      "text/plain": [
       "match_no\n",
       "1       1\n",
       "2      23\n",
       "3      13\n",
       "4      12\n",
       "5       1\n",
       "       ..\n",
       "211     0\n",
       "212    20\n",
       "213    73\n",
       "214    25\n",
       "215     7\n",
       "Name: runs, Length: 215, dtype: int64"
      ]
     },
     "execution_count": 5,
     "metadata": {},
     "output_type": "execute_result"
    }
   ],
   "source": [
    "# astype -> to change the data type of Series\n",
    "vk"
   ]
  },
  {
   "cell_type": "code",
   "execution_count": 6,
   "id": "d23ab7ae",
   "metadata": {},
   "outputs": [
    {
     "data": {
      "text/plain": [
       "3456"
      ]
     },
     "execution_count": 6,
     "metadata": {},
     "output_type": "execute_result"
    }
   ],
   "source": [
    "# as we can see vk series dtype is int64  will check how much size in memory it occupied\n",
    "import sys\n",
    "sys.getsizeof(vk)"
   ]
  },
  {
   "cell_type": "code",
   "execution_count": 7,
   "id": "712b91a4",
   "metadata": {},
   "outputs": [
    {
     "data": {
      "text/plain": [
       "match_no\n",
       "1       1\n",
       "2      23\n",
       "3      13\n",
       "4      12\n",
       "5       1\n",
       "       ..\n",
       "211     0\n",
       "212    20\n",
       "213    73\n",
       "214    25\n",
       "215     7\n",
       "Name: runs, Length: 215, dtype: int16"
      ]
     },
     "execution_count": 7,
     "metadata": {},
     "output_type": "execute_result"
    }
   ],
   "source": [
    "# as we know high socre of vk is 113 so instead of int64 we can represent it in int16\n",
    "vk.astype('int16')"
   ]
  },
  {
   "cell_type": "code",
   "execution_count": 9,
   "id": "bfbb7475",
   "metadata": {},
   "outputs": [
    {
     "data": {
      "text/plain": [
       "2166"
      ]
     },
     "execution_count": 9,
     "metadata": {},
     "output_type": "execute_result"
    }
   ],
   "source": [
    "# now if we check size\n",
    "import sys\n",
    "sys.getsizeof(vk.astype('int16'))   # we can see it's occupying less memory"
   ]
  },
  {
   "cell_type": "code",
   "execution_count": 13,
   "id": "dbea1960",
   "metadata": {},
   "outputs": [
    {
     "data": {
      "text/plain": [
       "43"
      ]
     },
     "execution_count": 13,
     "metadata": {},
     "output_type": "execute_result"
    }
   ],
   "source": [
    "# between -> it's shows values in range\n",
    "# suppose we want to see in how many innings vk's scored more than 50 but less than 100\n",
    "vk[vk.between(51,99)].size"
   ]
  },
  {
   "cell_type": "code",
   "execution_count": 14,
   "id": "65da5abb",
   "metadata": {},
   "outputs": [
    {
     "data": {
      "text/plain": [
       "0      100\n",
       "1      100\n",
       "2      100\n",
       "3      100\n",
       "4      100\n",
       "      ... \n",
       "360    200\n",
       "361    200\n",
       "362    155\n",
       "363    144\n",
       "364    172\n",
       "Name: Subscribers gained, Length: 365, dtype: int64"
      ]
     },
     "execution_count": 14,
     "metadata": {},
     "output_type": "execute_result"
    }
   ],
   "source": [
    "# clip -> clips values in given range\n",
    "# suppose we want to clip subs in range of 100-200\n",
    "subs.clip(100,200) # every value less than 100 is 100 more than 100 is 200 now"
   ]
  },
  {
   "cell_type": "code",
   "execution_count": 15,
   "id": "3fd6d97d",
   "metadata": {},
   "outputs": [
    {
     "data": {
      "text/plain": [
       "0    1\n",
       "1    1\n",
       "2    2\n",
       "3    2\n",
       "4    3\n",
       "5    3\n",
       "6    4\n",
       "7    4\n",
       "dtype: int64"
      ]
     },
     "execution_count": 15,
     "metadata": {},
     "output_type": "execute_result"
    }
   ],
   "source": [
    "# drop_duplicates -> it's drop duplicates values\n",
    "temp = pd.Series([1,1,2,2,3,3,4,4])\n",
    "temp"
   ]
  },
  {
   "cell_type": "code",
   "execution_count": 16,
   "id": "3244f63a",
   "metadata": {},
   "outputs": [
    {
     "data": {
      "text/plain": [
       "0    1\n",
       "2    2\n",
       "4    3\n",
       "6    4\n",
       "dtype: int64"
      ]
     },
     "execution_count": 16,
     "metadata": {},
     "output_type": "execute_result"
    }
   ],
   "source": [
    "# droping dupliactes value from temp series\n",
    "temp.drop_duplicates()  # all duplicates gone only 1st occurence count"
   ]
  },
  {
   "cell_type": "code",
   "execution_count": 17,
   "id": "1cd15864",
   "metadata": {},
   "outputs": [
    {
     "data": {
      "text/plain": [
       "1    1\n",
       "3    2\n",
       "5    3\n",
       "7    4\n",
       "dtype: int64"
      ]
     },
     "execution_count": 17,
     "metadata": {},
     "output_type": "execute_result"
    }
   ],
   "source": [
    "# in order to delete 1st duplicate occurence\n",
    "temp.drop_duplicates(keep = 'last')  # all duplicates gone only last occurence count"
   ]
  },
  {
   "cell_type": "code",
   "execution_count": 18,
   "id": "6aa7e0d2",
   "metadata": {},
   "outputs": [
    {
     "data": {
      "text/plain": [
       "movie\n",
       "Uri: The Surgical Strike                   Vicky Kaushal\n",
       "Battalion 609                                Vicky Ahuja\n",
       "The Accidental Prime Minister (film)         Anupam Kher\n",
       "Why Cheat India                            Emraan Hashmi\n",
       "Evening Shadows                         Mona Ambegaonkar\n",
       "                                              ...       \n",
       "Sssshhh...                              Tanishaa Mukerji\n",
       "Rules: Pyaar Ka Superhit Formula                  Tanuja\n",
       "Right Here Right Now (film)                        Ankit\n",
       "Talaash: The Hunt Begins...                Rakhee Gulzar\n",
       "The Pink Mirror                          Edwin Fernandes\n",
       "Name: lead, Length: 566, dtype: object"
      ]
     },
     "execution_count": 18,
     "metadata": {},
     "output_type": "execute_result"
    }
   ],
   "source": [
    "# we should use it cautiously suppose in movies data in values we have same actors featuring in multiple movie\n",
    "movies.drop_duplicates() # only 566 movie left out of 1500 coz we have only 566 unique actor in lead dupliactes removed"
   ]
  },
  {
   "cell_type": "code",
   "execution_count": 21,
   "id": "960dedf7",
   "metadata": {},
   "outputs": [
    {
     "data": {
      "text/plain": [
       "0    False\n",
       "1     True\n",
       "2    False\n",
       "3     True\n",
       "4    False\n",
       "5     True\n",
       "6    False\n",
       "7     True\n",
       "dtype: bool"
      ]
     },
     "execution_count": 21,
     "metadata": {},
     "output_type": "execute_result"
    }
   ],
   "source": [
    "# duplicated -> it will show whether we have duplicates data or not\n",
    "temp.duplicated()    # True shows duplicate values"
   ]
  },
  {
   "cell_type": "code",
   "execution_count": 22,
   "id": "e37354ec",
   "metadata": {},
   "outputs": [
    {
     "data": {
      "text/plain": [
       "4"
      ]
     },
     "execution_count": 22,
     "metadata": {},
     "output_type": "execute_result"
    }
   ],
   "source": [
    "# in order to find num of dupliactes in data\n",
    "temp.duplicated().sum()"
   ]
  },
  {
   "cell_type": "code",
   "execution_count": 23,
   "id": "1a2abd8c",
   "metadata": {},
   "outputs": [
    {
     "data": {
      "text/plain": [
       "137"
      ]
     },
     "execution_count": 23,
     "metadata": {},
     "output_type": "execute_result"
    }
   ],
   "source": [
    "# similarly in vk's runs data we can see how many times runs are repeated\n",
    "vk.duplicated().sum()  # here runs stat can be same many times"
   ]
  },
  {
   "cell_type": "code",
   "execution_count": 24,
   "id": "5e9a1e7a",
   "metadata": {},
   "outputs": [
    {
     "data": {
      "text/plain": [
       "0     1.0\n",
       "1     2.0\n",
       "2     3.0\n",
       "3     NaN\n",
       "4     5.0\n",
       "5     6.0\n",
       "6     NaN\n",
       "7     8.0\n",
       "8     NaN\n",
       "9    10.0\n",
       "dtype: float64"
      ]
     },
     "execution_count": 24,
     "metadata": {},
     "output_type": "execute_result"
    }
   ],
   "source": [
    "# creating missing values series\n",
    "temp = pd.Series([1,2,3,np.nan,5,6,np.nan,8,np.nan,10])\n",
    "temp"
   ]
  },
  {
   "cell_type": "code",
   "execution_count": 27,
   "id": "fa8c3013",
   "metadata": {},
   "outputs": [
    {
     "data": {
      "text/plain": [
       "10"
      ]
     },
     "execution_count": 27,
     "metadata": {},
     "output_type": "execute_result"
    }
   ],
   "source": [
    "# size vs count\n",
    "temp.size     # it's giving 10 as we know size count all values including missing values"
   ]
  },
  {
   "cell_type": "code",
   "execution_count": 29,
   "id": "979d5b41",
   "metadata": {},
   "outputs": [
    {
     "data": {
      "text/plain": [
       "7"
      ]
     },
     "execution_count": 29,
     "metadata": {},
     "output_type": "execute_result"
    }
   ],
   "source": [
    "# where as if we do same thing with count\n",
    "temp.count()      # as we can see in our series we have 3 missing values count doesn't include missing values"
   ]
  },
  {
   "cell_type": "code",
   "execution_count": 33,
   "id": "8d607499",
   "metadata": {},
   "outputs": [
    {
     "data": {
      "text/plain": [
       "0"
      ]
     },
     "execution_count": 33,
     "metadata": {},
     "output_type": "execute_result"
    }
   ],
   "source": [
    "# isnull -> in order to see missing value in data\n",
    "vk.isnull().sum()   # here we checked in vk's score data we have any missing value "
   ]
  },
  {
   "cell_type": "code",
   "execution_count": 35,
   "id": "71c8a365",
   "metadata": {},
   "outputs": [
    {
     "data": {
      "text/plain": [
       "3"
      ]
     },
     "execution_count": 35,
     "metadata": {},
     "output_type": "execute_result"
    }
   ],
   "source": [
    "# now if we do same thing on temp\n",
    "temp.isnull().sum()           # it's shows we have 3 missing values in our data"
   ]
  },
  {
   "cell_type": "markdown",
   "id": "3f2f85e1",
   "metadata": {},
   "source": [
    "In order to handle missing value we have 2 option\n",
    "- dropna \n",
    "- fillna"
   ]
  },
  {
   "cell_type": "code",
   "execution_count": 36,
   "id": "7b3ffcbd",
   "metadata": {},
   "outputs": [
    {
     "data": {
      "text/plain": [
       "0     1.0\n",
       "1     2.0\n",
       "2     3.0\n",
       "4     5.0\n",
       "5     6.0\n",
       "7     8.0\n",
       "9    10.0\n",
       "dtype: float64"
      ]
     },
     "execution_count": 36,
     "metadata": {},
     "output_type": "execute_result"
    }
   ],
   "source": [
    "# dropna -> it will remove all missing values\n",
    "temp.dropna()   # it will create a new series by removing all missing values | all na values are droped"
   ]
  },
  {
   "cell_type": "code",
   "execution_count": 37,
   "id": "0ae1d738",
   "metadata": {},
   "outputs": [
    {
     "data": {
      "text/plain": [
       "0     1.0\n",
       "1     2.0\n",
       "2     3.0\n",
       "3     0.0\n",
       "4     5.0\n",
       "5     6.0\n",
       "6     0.0\n",
       "7     8.0\n",
       "8     0.0\n",
       "9    10.0\n",
       "dtype: float64"
      ]
     },
     "execution_count": 37,
     "metadata": {},
     "output_type": "execute_result"
    }
   ],
   "source": [
    "# fillna -> in order to fill missing value we use it\n",
    "# suppose instead of removing missing values we want to replace it with 0\n",
    "temp.fillna(0)   # it's also creates a new series where all missing values are replaced with 0"
   ]
  },
  {
   "cell_type": "code",
   "execution_count": 38,
   "id": "20199a97",
   "metadata": {},
   "outputs": [
    {
     "data": {
      "text/plain": [
       "0     1.0\n",
       "1     2.0\n",
       "2     3.0\n",
       "3     5.0\n",
       "4     5.0\n",
       "5     6.0\n",
       "6     5.0\n",
       "7     8.0\n",
       "8     5.0\n",
       "9    10.0\n",
       "dtype: float64"
      ]
     },
     "execution_count": 38,
     "metadata": {},
     "output_type": "execute_result"
    }
   ],
   "source": [
    "# Or suppose instead of removing missing values we want to replace it with data mean\n",
    "temp.fillna(temp.mean())   # it's also creates a new series where all missing values are replaced with mean() of our data"
   ]
  },
  {
   "cell_type": "code",
   "execution_count": 39,
   "id": "c171b224",
   "metadata": {},
   "outputs": [
    {
     "data": {
      "text/plain": [
       "match_no\n",
       "1       1\n",
       "2      23\n",
       "3      13\n",
       "4      12\n",
       "5       1\n",
       "       ..\n",
       "211     0\n",
       "212    20\n",
       "213    73\n",
       "214    25\n",
       "215     7\n",
       "Name: runs, Length: 215, dtype: int64"
      ]
     },
     "execution_count": 39,
     "metadata": {},
     "output_type": "execute_result"
    }
   ],
   "source": [
    "# isin -> check multiple things together\n",
    "vk"
   ]
  },
  {
   "cell_type": "code",
   "execution_count": 42,
   "id": "6e7c8c82",
   "metadata": {},
   "outputs": [
    {
     "data": {
      "text/plain": [
       "match_no\n",
       "82    99\n",
       "86    49\n",
       "Name: runs, dtype: int64"
      ]
     },
     "execution_count": 42,
     "metadata": {},
     "output_type": "execute_result"
    }
   ],
   "source": [
    "# suppose we want to whether vk got out on 49 or 99\n",
    "vk[(vk == 49) | (vk == 99)]                     # there is 2 matches"
   ]
  },
  {
   "cell_type": "code",
   "execution_count": 43,
   "id": "6fcfb406",
   "metadata": {},
   "outputs": [
    {
     "data": {
      "text/plain": [
       "match_no\n",
       "82    99\n",
       "86    49\n",
       "Name: runs, dtype: int64"
      ]
     },
     "execution_count": 43,
     "metadata": {},
     "output_type": "execute_result"
    }
   ],
   "source": [
    "# bt similarly if we increase more condition we have to right more code bt we can do it easyly with isin()\n",
    "vk[vk.isin([49,99])]    # gives same result"
   ]
  },
  {
   "cell_type": "code",
   "execution_count": 44,
   "id": "22f91b70",
   "metadata": {},
   "outputs": [
    {
     "data": {
      "text/plain": [
       "movie\n",
       "Uri: The Surgical Strike                   Vicky Kaushal\n",
       "Battalion 609                                Vicky Ahuja\n",
       "The Accidental Prime Minister (film)         Anupam Kher\n",
       "Why Cheat India                            Emraan Hashmi\n",
       "Evening Shadows                         Mona Ambegaonkar\n",
       "                                              ...       \n",
       "Hum Tumhare Hain Sanam                    Shah Rukh Khan\n",
       "Aankhen (2002 film)                     Amitabh Bachchan\n",
       "Saathiya (film)                             Vivek Oberoi\n",
       "Company (film)                                Ajay Devgn\n",
       "Awara Paagal Deewana                        Akshay Kumar\n",
       "Name: lead, Length: 1500, dtype: object"
      ]
     },
     "execution_count": 44,
     "metadata": {},
     "output_type": "execute_result"
    }
   ],
   "source": [
    "# apply -> it helps to implement custom logic upon our series\n",
    "movies"
   ]
  },
  {
   "cell_type": "code",
   "execution_count": 47,
   "id": "ab83f88d",
   "metadata": {},
   "outputs": [
    {
     "data": {
      "text/plain": [
       "movie\n",
       "Uri: The Surgical Strike                  VICKY\n",
       "Battalion 609                             VICKY\n",
       "The Accidental Prime Minister (film)     ANUPAM\n",
       "Why Cheat India                          EMRAAN\n",
       "Evening Shadows                            MONA\n",
       "                                         ...   \n",
       "Hum Tumhare Hain Sanam                     SHAH\n",
       "Aankhen (2002 film)                     AMITABH\n",
       "Saathiya (film)                           VIVEK\n",
       "Company (film)                             AJAY\n",
       "Awara Paagal Deewana                     AKSHAY\n",
       "Name: lead, Length: 1500, dtype: object"
      ]
     },
     "execution_count": 47,
     "metadata": {},
     "output_type": "execute_result"
    }
   ],
   "source": [
    "# suppose in movie data we need only lead actor first names and name of the actor should be capital letters\n",
    "movies.apply(lambda x : x.split()[0].upper())  # apply helps to create our on custom logic"
   ]
  },
  {
   "cell_type": "code",
   "execution_count": 48,
   "id": "a8b20e7c",
   "metadata": {},
   "outputs": [
    {
     "data": {
      "text/plain": [
       "0       48\n",
       "1       57\n",
       "2       40\n",
       "3       43\n",
       "4       44\n",
       "      ... \n",
       "360    231\n",
       "361    226\n",
       "362    155\n",
       "363    144\n",
       "364    172\n",
       "Name: Subscribers gained, Length: 365, dtype: int64"
      ]
     },
     "execution_count": 48,
     "metadata": {},
     "output_type": "execute_result"
    }
   ],
   "source": [
    "subs"
   ]
  },
  {
   "cell_type": "code",
   "execution_count": 58,
   "id": "2bee5f26",
   "metadata": {},
   "outputs": [
    {
     "data": {
      "text/plain": [
       "0       Bad Day\n",
       "1       Bad Day\n",
       "2       Bad Day\n",
       "3       Bad Day\n",
       "4       Bad Day\n",
       "         ...   \n",
       "360    Good Day\n",
       "361    Good Day\n",
       "362    Good Day\n",
       "363    Good Day\n",
       "364    Good Day\n",
       "Name: Subscribers gained, Length: 365, dtype: object"
      ]
     },
     "execution_count": 58,
     "metadata": {},
     "output_type": "execute_result"
    }
   ],
   "source": [
    "# suppose we want to create new data from subs days when we receive more than subscriber it's good day else bad day\n",
    "subs.apply(lambda x : 'Good Day' if x > subs.mean() else 'Bad Day')"
   ]
  },
  {
   "cell_type": "markdown",
   "id": "14856667",
   "metadata": {},
   "source": [
    "# Copy and Views"
   ]
  },
  {
   "cell_type": "code",
   "execution_count": 97,
   "id": "fe33b6fb",
   "metadata": {},
   "outputs": [
    {
     "data": {
      "text/plain": [
       "match_no\n",
       "1       1\n",
       "2      23\n",
       "3      13\n",
       "4      12\n",
       "5       1\n",
       "       ..\n",
       "211     0\n",
       "212    20\n",
       "213    73\n",
       "214    25\n",
       "215     7\n",
       "Name: runs, Length: 215, dtype: int64"
      ]
     },
     "execution_count": 97,
     "metadata": {},
     "output_type": "execute_result"
    }
   ],
   "source": [
    "vk"
   ]
  },
  {
   "cell_type": "code",
   "execution_count": 87,
   "id": "3e4ed93d",
   "metadata": {},
   "outputs": [
    {
     "data": {
      "text/plain": [
       "match_no\n",
       "1     1\n",
       "2    23\n",
       "3    13\n",
       "4    12\n",
       "5     1\n",
       "Name: runs, dtype: int64"
      ]
     },
     "execution_count": 87,
     "metadata": {},
     "output_type": "execute_result"
    }
   ],
   "source": [
    "# creating new \n",
    "new = vk.head()            # first 5 match data\n",
    "new"
   ]
  },
  {
   "cell_type": "code",
   "execution_count": 88,
   "id": "e6d9381a",
   "metadata": {},
   "outputs": [],
   "source": [
    "# now suppose we change 1st match score of vk with 100\n",
    "new[1] = 100"
   ]
  },
  {
   "cell_type": "code",
   "execution_count": 89,
   "id": "f4a2fb50",
   "metadata": {},
   "outputs": [
    {
     "data": {
      "text/plain": [
       "match_no\n",
       "1    100\n",
       "2     23\n",
       "3     13\n",
       "4     12\n",
       "5      1\n",
       "Name: runs, dtype: int64"
      ]
     },
     "execution_count": 89,
     "metadata": {},
     "output_type": "execute_result"
    }
   ],
   "source": [
    "new    # it's change 1st match value in new"
   ]
  },
  {
   "cell_type": "code",
   "execution_count": 90,
   "id": "a5a3e66b",
   "metadata": {},
   "outputs": [
    {
     "data": {
      "text/plain": [
       "match_no\n",
       "1      100\n",
       "2       23\n",
       "3       13\n",
       "4       12\n",
       "5        1\n",
       "      ... \n",
       "211      0\n",
       "212     20\n",
       "213     73\n",
       "214     25\n",
       "215      7\n",
       "Name: runs, Length: 215, dtype: int64"
      ]
     },
     "execution_count": 90,
     "metadata": {},
     "output_type": "execute_result"
    }
   ],
   "source": [
    "vk       # and as we can see it's also change our original series vk's data 1st match with 100"
   ]
  },
  {
   "cell_type": "markdown",
   "id": "00bcd208",
   "metadata": {},
   "source": [
    "Conclusion -  When we do head() or tail() we don't get data copy we get data view so we got the original data i.e if we change \n",
    "head() or tail() data it will replicate on our original data So we need be remain very careful"
   ]
  },
  {
   "cell_type": "code",
   "execution_count": 102,
   "id": "ca52f97f",
   "metadata": {},
   "outputs": [
    {
     "data": {
      "text/plain": [
       "match_no\n",
       "1     1\n",
       "2    23\n",
       "3    13\n",
       "4    12\n",
       "5     1\n",
       "Name: runs, dtype: int64"
      ]
     },
     "execution_count": 102,
     "metadata": {},
     "output_type": "execute_result"
    }
   ],
   "source": [
    "vk.head()   # re run original to remove previous changes"
   ]
  },
  {
   "cell_type": "code",
   "execution_count": 99,
   "id": "55480ff4",
   "metadata": {},
   "outputs": [],
   "source": [
    "# copy -> so we need to use copy()\n",
    "new = vk.head().copy()  # now we can see he scored 100 in 1st match which is wrong"
   ]
  },
  {
   "cell_type": "code",
   "execution_count": 100,
   "id": "ac1e77d8",
   "metadata": {},
   "outputs": [],
   "source": [
    "# now if change new that vk scored 100 in 1st match\n",
    "new[1] = 100"
   ]
  },
  {
   "cell_type": "code",
   "execution_count": 93,
   "id": "bd46eafe",
   "metadata": {},
   "outputs": [
    {
     "data": {
      "text/plain": [
       "match_no\n",
       "1    100\n",
       "2     23\n",
       "3     13\n",
       "4     12\n",
       "5      1\n",
       "Name: runs, dtype: int64"
      ]
     },
     "execution_count": 93,
     "metadata": {},
     "output_type": "execute_result"
    }
   ],
   "source": [
    "new               # it's change 1st match value for new"
   ]
  },
  {
   "cell_type": "code",
   "execution_count": 101,
   "id": "d3649fb2",
   "metadata": {},
   "outputs": [
    {
     "data": {
      "text/plain": [
       "match_no\n",
       "1       1\n",
       "2      23\n",
       "3      13\n",
       "4      12\n",
       "5       1\n",
       "       ..\n",
       "211     0\n",
       "212    20\n",
       "213    73\n",
       "214    25\n",
       "215     7\n",
       "Name: runs, Length: 215, dtype: int64"
      ]
     },
     "execution_count": 101,
     "metadata": {},
     "output_type": "execute_result"
    }
   ],
   "source": [
    "vk                    # now we can see since this time we run copy on our new it didn't effect our original data"
   ]
  }
 ],
 "metadata": {
  "kernelspec": {
   "display_name": "Python 3 (ipykernel)",
   "language": "python",
   "name": "python3"
  },
  "language_info": {
   "codemirror_mode": {
    "name": "ipython",
    "version": 3
   },
   "file_extension": ".py",
   "mimetype": "text/x-python",
   "name": "python",
   "nbconvert_exporter": "python",
   "pygments_lexer": "ipython3",
   "version": "3.9.16"
  }
 },
 "nbformat": 4,
 "nbformat_minor": 5
}
